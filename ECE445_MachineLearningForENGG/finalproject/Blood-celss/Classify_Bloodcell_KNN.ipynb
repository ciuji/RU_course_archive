{
 "cells": [
  {
   "cell_type": "code",
   "execution_count": null,
   "metadata": {},
   "outputs": [],
   "source": [
    "import csv\n",
    "import numpy as np\n",
    "import cv2\n",
    "import glob, copy, os\n",
    "import xml.etree.ElementTree\n",
    "import matplotlib.pyplot as plt\n",
    "from sklearn.decomposition import PCA"
   ]
  },
  {
   "cell_type": "code",
   "execution_count": 95,
   "metadata": {},
   "outputs": [
    {
     "name": "stdout",
     "output_type": "stream",
     "text": [
      "BCCD/Annotations/BloodImage_00008.xml\n",
      "+1\n",
      "00097\n",
      "B\n",
      "BCCD/Annotations/BloodImage_00117.xml\n",
      "BCCD/Annotations/BloodImage_00132.xml\n",
      "BCCD/Annotations/BloodImage_00171.xml\n",
      "+1\n",
      "00281\n",
      "B\n",
      "+1\n",
      "00330\n",
      "B\n"
     ]
    }
   ],
   "source": [
    "\n",
    "class Reading(object):\n",
    "    \"\"\"__init__() functions as the class constructor\"\"\"\n",
    "    def __init__(self, xmin=None, ymin=None, xmax=None, ymax=None, typ=None, name=None):\n",
    "        \"\"\"self.difficult = difficult\n",
    "        self.truncated = truncated\"\"\"\n",
    "        self.xmin = xmin\n",
    "        self.xmax = xmax\n",
    "        self.ymin = ymin\n",
    "        self.ymax = ymax\n",
    "        self.typ = typ\n",
    "        self.name = name\n",
    "\n",
    "docs = sorted(glob.glob('BCCD/Annotations/' + '*.xml'))      \n",
    "\n",
    "list_reading_arr = []\n",
    "with open('labels.csv') as csv_file:\n",
    "    csv_reader = csv.reader(csv_file, delimiter=',')\n",
    "    label_arr = []\n",
    "    counter = 0\n",
    "    for row in csv_reader:\n",
    "        if counter != 0 and row[2] != \"\":\n",
    "            label_arr.append([row[1], row[2]])\n",
    "        #if :\n",
    "        #   label_arr.append()\n",
    "        counter += 1\n",
    "\n",
    "index = 0\n",
    "for i in range(len(docs)):\n",
    "    label_this='B'\n",
    "    #tree = xml.etree.ElementTree.parse('//dataset-master//Annotations//BloodImage_00000.xml')\n",
    "    #print(doc + \" \" + label_arr[index][1])\n",
    "    if(int(label_arr[index][0]) == int(docs[i][-9:-4])):\n",
    "        label_this = label_arr[index][1][0]\n",
    "    \n",
    "    else:\n",
    "        if(int(label_arr[index-1][0]) == int(docs[i][-9:-4])):\n",
    "            print('-1')\n",
    "            print(docs[i][-9:-4])\n",
    "            print(label_this)\n",
    "            index += -1\n",
    "            i+=-1\n",
    "            label_this = label_arr[index][1][0]\n",
    "        if(int(label_arr[index+1][0]) == int(docs[i][-9:-4])):\n",
    "            print('+1')\n",
    "            print(docs[i][-9:-4])\n",
    "            print(label_this)\n",
    "            label_this = label_arr[index+1][1][0]\n",
    "            #i+=1\n",
    "            index += 1\n",
    "    \n",
    "    if(label_this == 'B'):\n",
    "        index += 1\n",
    "        #i+=1\n",
    "        print(docs[i])\n",
    "        #docs.remove(doc)\n",
    "        continue\n",
    "    if(label_this == ''):\n",
    "        index += 1\n",
    "        #i+=1\n",
    "        print(docs[i])\n",
    "        #docs.remove(doc)\n",
    "        continue\n",
    "    \"\"\"\"\"\"   \n",
    "    tree = xml.etree.ElementTree.parse(docs[i])\n",
    "    root = tree.getroot()\n",
    "    len_data = int(len(tree.findall('.//object//'))/9)\n",
    "    #list_reading = [Reading() for i in range(len_data)]\n",
    "    read = Reading()\n",
    "    #print(doc)\n",
    "   \n",
    "            #continue\n",
    "    #print(doc + label_this)\n",
    "    count = 0\n",
    "    #print(\"Print out the attrib of the root:\\n\")\n",
    "    #list_reading[index_of_reading].typ = label_this\n",
    "    #list_reading[index_of_reading].name = docs[i]\n",
    "    read.typ = label_this\n",
    "    read.name = docs[i]\n",
    "    for objs in tree.findall('.//object//'):\n",
    "        index_of_reading = int(count/9)\n",
    "        #if(list_reading[index_of_reading])\n",
    "        \"\"\"if count%9 == 2:\n",
    "            list_reading[index_of_reading].truncated = int(objs.text)\n",
    "        if count%9 == 3:\n",
    "            list_reading[index_of_reading].difficult = int(objs.text)\"\"\"\n",
    "        #print(objs.text)\n",
    "        \n",
    "        if count%9 == 0:\n",
    "            if objs.text != \"WBC\":\n",
    "                #print(\"NO WBC\")\n",
    "                continue\n",
    "        if count%9 == 5:\n",
    "            #list_reading[index_of_reading].xmin = int(objs.text)\n",
    "            read.xmin = int(objs.text)\n",
    "        if count%9 == 6:\n",
    "            #list_reading[index_of_reading].ymin = int(objs.text)\n",
    "            read.ymin = int(objs.text)\n",
    "        if count%9 == 7:\n",
    "            #list_reading[index_of_reading].xmax = int(objs.text)\n",
    "            read.xmax = int(objs.text)\n",
    "        if count%9 == 8:\n",
    "            #list_reading[index_of_reading].ymax = int(objs.text)\n",
    "            read.ymax = int(objs.text)\n",
    "             \n",
    "        \n",
    "        count+=1\n",
    "    \n",
    "    #print(docs[i] + label_this)\n",
    "    list_reading_arr.append(read)\n",
    "    for j in list_reading_arr:\n",
    "        if j.xmax == j.xmin or j.ymax == j.ymin:\n",
    "            #print(doc)\n",
    "            list_reading_arr.remove(j)\n",
    "        #print(\"cordinates:\",i.xmin,i.ymin,i.xmax,i.ymax)\n",
    "    index += 1\n",
    "    \n",
    "    \n",
    "#print(list_reading_arr[0][0].xmin)\n",
    "\n",
    "\n",
    "def crop_and_resize(img, read, size):\n",
    "    w, h = size\n",
    "    \n",
    "    img_arr =[]\n",
    "    xmin, ymin, xmax, ymax = (read.xmin,read.ymin,read.xmax,read.ymax)\n",
    "    #print([xmin, ymin, xmax, ymax])\n",
    "    img_crop = img[ymin:ymax,xmin:xmax]\n",
    "    img_resized = cv2.resize(img_crop,(w, h), interpolation = cv2.INTER_CUBIC)\n",
    "    img_arr.append(img_resized)\n",
    "\n",
    "    return img_arr\n",
    "\n",
    "def label_generator(read):\n",
    "    if(read=='N'):\n",
    "        return 0\n",
    "    if(read=='M'):\n",
    "        return 1\n",
    "    if(read=='L'):\n",
    "        return 2\n",
    "    if(read=='E'):\n",
    "        return 3\n",
    "    \n",
    "    "
   ]
  },
  {
   "cell_type": "code",
   "execution_count": 96,
   "metadata": {
    "scrolled": true
   },
   "outputs": [
    {
     "name": "stdout",
     "output_type": "stream",
     "text": [
      "[178.08169014 178.72112676 179.49859155 ... 191.12676056 190.71549296\n",
      " 190.49859155]\n",
      "[175.9971831  177.21690141 178.31267606 ... 192.18309859 192.29014085\n",
      " 192.14366197]\n",
      "[186.17746479 186.86197183 187.3943662  ... 197.74084507 197.90985915\n",
      " 197.9915493 ]\n",
      "[179.28169014 180.27042254 181.14929577 ... 193.72957746 193.8028169\n",
      " 193.72394366]\n"
     ]
    }
   ],
   "source": [
    "def recenter_regularize(X):\n",
    "    print(np.mean(X,axis=1))\n",
    "    X_mean = np.mean(X, axis = 1)[np.newaxis]\n",
    "    X_centered = X - X_mean.T\n",
    "    X_norm = np.linalg.norm(X_centered, axis = 1)[np.newaxis]\n",
    "    X_normalized = X_centered/X_norm.T\n",
    "    return X_normalized\n",
    "\n",
    "\n",
    "\n",
    "path = 'BCCD/JPEGImages/'\n",
    "#images = sorted(glob.glob(path + '*.jpg'))\n",
    "WBC_arr_b = []; WBC_arr_g = []; WBC_arr_r = []; WBC_arr_gray = []\n",
    "label_arr = []\n",
    "#read images and make each into an array\n",
    "for i in range(len(list_reading_arr)):\n",
    "    img = path + os.path.split(list_reading_arr[i].name)[1][:-4] + '.jpg'\n",
    "    #print(img)\n",
    "    WBC_this = cv2.imread(img)\n",
    "    WBC_this_arr = crop_and_resize(WBC_this, list_reading_arr[i], (60,60))\n",
    "    WBC_b = WBC_this_arr[0][:, :, 0]\n",
    "    WBC_g = WBC_this_arr[0][:, :, 1]\n",
    "    WBC_r = WBC_this_arr[0][:, :, 2]\n",
    "    WBC_gray = cv2.cvtColor(WBC_this_arr[0], cv2.COLOR_BGR2GRAY)\n",
    "    \n",
    "\n",
    "    label = label_generator(list_reading_arr[i].typ)\n",
    "    #print(label)\n",
    "\n",
    "    WBC_b, WBC_g, WBC_r, WBC_gray = np.reshape(WBC_b, -1), np.reshape(WBC_g, -1), np.reshape(WBC_r, -1), np.reshape(WBC_gray, -1)\n",
    "    \n",
    "    \n",
    "    WBC_arr_b.append(WBC_b)\n",
    "    WBC_arr_g.append(WBC_g)\n",
    "    WBC_arr_r.append(WBC_r)\n",
    "    WBC_arr_gray.append(WBC_gray)\n",
    "    label_arr.append(label)\n",
    "        \n",
    "        \n",
    "    i+=1\n",
    "    if(i==len(list_reading_arr)):\n",
    "        break\n",
    "\n",
    "WBC_arr_b, WBC_arr_g, WBC_arr_r, WBC_arr_gray = (np.asarray(WBC_arr_b).T, np.asarray(WBC_arr_g).T, \n",
    "                                                 np.asarray(WBC_arr_r).T, np.asarray(WBC_arr_gray).T)\n",
    "WBC_normalized_b = recenter_regularize(WBC_arr_b)\n",
    "WBC_normalized_g= recenter_regularize(WBC_arr_g)\n",
    "WBC_normalized_r=recenter_regularize(WBC_arr_r)\n",
    "WBC_normalized_gray = recenter_regularize(WBC_arr_gray)\n",
    "\n",
    "\"\"\"RBC_mean = np.mean(RBC_arr, axis = 1)[np.newaxis]\n",
    "RBC_centered = RBC_arr - RBC_mean.T\n",
    "RBC_norm = np.linalg.norm(RBC_centered, axis = 1)[np.newaxis]\n",
    "RBC_normalized = RBC_centered/RBC_norm.T\"\"\"\n",
    "U, S, V = np.linalg.svd(WBC_normalized_gray)\n",
    "\n",
    "S_total = np.linalg.norm(S)**2\n",
    "S_incr = 0\n",
    "k = 0\n",
    "for s in S:\n",
    "    S_incr += s**2\n",
    "    if(S_incr >= 0.95*S_total):\n",
    "        break\n",
    "    k += 1                                                                          \n",
    "\n",
    "\n",
    "\n",
    "\n"
   ]
  },
  {
   "cell_type": "code",
   "execution_count": 99,
   "metadata": {},
   "outputs": [
    {
     "name": "stdout",
     "output_type": "stream",
     "text": [
      "0.9999999999999998\n"
     ]
    }
   ],
   "source": [
    "print(np.linalg.norm(WBC_normalized_gray[0]))"
   ]
  },
  {
   "cell_type": "code",
   "execution_count": 100,
   "metadata": {},
   "outputs": [
    {
     "name": "stdout",
     "output_type": "stream",
     "text": [
      "BloodImage_00000.jpg\n"
     ]
    }
   ],
   "source": [
    "print(os.path.split(list_reading_arr[0].name)[1][:-4] + '.jpg')"
   ]
  },
  {
   "cell_type": "code",
   "execution_count": 101,
   "metadata": {},
   "outputs": [
    {
     "name": "stdout",
     "output_type": "stream",
     "text": [
      "355\n"
     ]
    }
   ],
   "source": [
    "print(len(S))"
   ]
  },
  {
   "cell_type": "code",
   "execution_count": 102,
   "metadata": {},
   "outputs": [
    {
     "name": "stdout",
     "output_type": "stream",
     "text": [
      "[0.18825701 0.10617521 0.08053127 0.0722316  0.03747916 0.0358885\n",
      " 0.03304153 0.02217198 0.02036195 0.01901742]\n",
      "[[-0.00747208 -0.0071579  -0.0069707  ... -0.00587169 -0.00641052\n",
      "  -0.00701876]\n",
      " [-0.01457314 -0.01581686 -0.01680746 ... -0.01410303 -0.01372912\n",
      "  -0.01334199]\n",
      " [ 0.01519363  0.01492924  0.01468053 ... -0.01372112 -0.01309823\n",
      "  -0.01255929]\n",
      " ...\n",
      " [ 0.0055215   0.0058045   0.00738759 ... -0.0131397  -0.01297834\n",
      "  -0.01390181]\n",
      " [-0.0380132  -0.03927912 -0.04002912 ...  0.0403538   0.03810262\n",
      "   0.03713563]\n",
      " [-0.00323477 -0.00124402  0.00025518 ...  0.01627334  0.01979542\n",
      "   0.0207629 ]]\n"
     ]
    }
   ],
   "source": [
    "pca = PCA(n_components = 10)\n",
    "pca.fit(WBC_normalized_gray.T)\n",
    "print(pca.explained_variance_ratio_)\n",
    "print(pca.components_)\n"
   ]
  },
  {
   "cell_type": "code",
   "execution_count": 103,
   "metadata": {},
   "outputs": [],
   "source": [
    "#Principle components\n",
    "U_k = []\n",
    "for i in range(k):\n",
    "    U_k.append(U[:, i])\n",
    "    \n",
    "U_k = np.asarray(U_k)   \n",
    "WBC_tilta_gray = []\n",
    "for WBC in WBC_normalized_gray.T:\n",
    "    WBC_tilta_gray.append(list(map(lambda x:np.inner(x, WBC), U_k.tolist())))\n",
    "    \n",
    "\n"
   ]
  },
  {
   "cell_type": "code",
   "execution_count": 104,
   "metadata": {},
   "outputs": [
    {
     "data": {
      "image/png": "[encoded data removed]",
      "text/plain": [
       "<Figure size 432x288 with 1 Axes>"
      ]
     },
     "metadata": {
      "needs_background": "light"
     },
     "output_type": "display_data"
    }
   ],
   "source": [
    "U_skPCA = pca.components_\n",
    "\n",
    "U_skPCA = np.asarray(U_skPCA)\n",
    "WBC_tilta_gray_sk = []\n",
    "\n",
    "for WBC in WBC_normalized_gray.T:\n",
    "    WBC_tilta_gray_sk.append(list(map(lambda x:np.inner(x, WBC), U_skPCA)))\n",
    "    \n",
    "fig = plt.figure()\n",
    "ax = fig.add_subplot(111)\n",
    "WBC_tilta_gray_sk = np.asarray(WBC_tilta_gray_sk)\n",
    "counter = 0\n",
    "for i in range(len(WBC_tilta_gray_sk)):\n",
    "    if(label_arr[i] == 0):\n",
    "        c = 'g'\n",
    "    if(label_arr[i] == 1):\n",
    "        c = 'r'\n",
    "    if(label_arr[i] == 2):\n",
    "        counter += 1\n",
    "        c = 'b'\n",
    "    if(label_arr[i] == 3):\n",
    "        c = 'y'\n",
    "        \n",
    "    ax.scatter(WBC_tilta_gray_sk[i][0], WBC_tilta_gray_sk[i][1], color = c)\n",
    "\n",
    "plt.show()"
   ]
  },
  {
   "cell_type": "code",
   "execution_count": 105,
   "metadata": {},
   "outputs": [
    {
     "data": {
      "text/plain": [
       "(355, 10)"
      ]
     },
     "execution_count": 105,
     "metadata": {},
     "output_type": "execute_result"
    }
   ],
   "source": [
    "np.asarray(WBC_tilta_gray_sk).shape"
   ]
  },
  {
   "cell_type": "code",
   "execution_count": 106,
   "metadata": {},
   "outputs": [
    {
     "data": {
      "text/plain": [
       "(109, 3600)"
      ]
     },
     "execution_count": 106,
     "metadata": {},
     "output_type": "execute_result"
    }
   ],
   "source": [
    "U_k.shape"
   ]
  },
  {
   "cell_type": "code",
   "execution_count": 107,
   "metadata": {},
   "outputs": [
    {
     "data": {
      "image/png": "[encoded data removed]",
      "text/plain": [
       "<Figure size 432x288 with 1 Axes>"
      ]
     },
     "metadata": {
      "needs_background": "light"
     },
     "output_type": "display_data"
    }
   ],
   "source": [
    "fig = plt.figure()\n",
    "ax = fig.add_subplot(111)\n",
    "ax.scatter(range(len(S)), S**2/S_total)\n",
    "plt.show()"
   ]
  },
  {
   "cell_type": "code",
   "execution_count": 109,
   "metadata": {},
   "outputs": [
    {
     "data": {
      "image/png": "[encoded data removed]",
      "text/plain": [
       "<Figure size 432x288 with 1 Axes>"
      ]
     },
     "metadata": {
      "needs_background": "light"
     },
     "output_type": "display_data"
    }
   ],
   "source": [
    "#RBC_tilta_list = copy.deepcopy(RBC_tilta)\n",
    "WBC_tilta_gray = np.asarray(WBC_tilta_gray).T\n",
    "WBC_tilta_gray_12 = WBC_tilta_gray[:2]\n",
    "\n",
    "\n",
    "\n",
    "fig = plt.figure()\n",
    "ax = fig.add_subplot(111)\n",
    "WBC_tilta_gray_12 = WBC_tilta_gray_12.T\n",
    "counter = 0\n",
    "for i in range(len(WBC_tilta_gray_12)):\n",
    "    if(label_arr[i] == 0):\n",
    "        c = 'g'\n",
    "    if(label_arr[i] == 1):\n",
    "        c = 'r'\n",
    "    if(label_arr[i] == 2):\n",
    "        counter += 1\n",
    "        c = 'b'\n",
    "    if(label_arr[i] == 3):\n",
    "        c = 'y'\n",
    "        \n",
    "    ax.scatter(WBC_tilta_gray_12[i][0], WBC_tilta_gray_12[i][1], color = c)\n",
    "\n",
    "plt.show()\n"
   ]
  },
  {
   "cell_type": "code",
   "execution_count": 111,
   "metadata": {},
   "outputs": [
    {
     "name": "stdout",
     "output_type": "stream",
     "text": [
      "[ 0  0  0  0 -3 -3  0  0  1  0 -3  0  0  0  0  0  0  0  0  0  0  0  0  0\n",
      "  0 -3  0  0  0  0  3 -3  0  0  0 -3  0  0  0  0  0  0  0  0  0  0  0  0\n",
      "  0  0  0  3  0  0 -3]\n"
     ]
    },
    {
     "ename": "NameError",
     "evalue": "name 'RBC_tilta_list' is not defined",
     "output_type": "error",
     "traceback": [
      "\u001b[0;31m---------------------------------------------------------------------------\u001b[0m",
      "\u001b[0;31mNameError\u001b[0m                                 Traceback (most recent call last)",
      "\u001b[0;32m<ipython-input-111-29d3aba99997>\u001b[0m in \u001b[0;36m<module>\u001b[0;34m()\u001b[0m\n\u001b[1;32m     37\u001b[0m \u001b[0mprint\u001b[0m\u001b[0;34m(\u001b[0m\u001b[0mcls\u001b[0m\u001b[0;34m-\u001b[0m\u001b[0mnp\u001b[0m\u001b[0;34m.\u001b[0m\u001b[0masarray\u001b[0m\u001b[0;34m(\u001b[0m\u001b[0mlabel_arr\u001b[0m\u001b[0;34m[\u001b[0m\u001b[0;36m300\u001b[0m\u001b[0;34m:\u001b[0m\u001b[0;34m]\u001b[0m\u001b[0;34m)\u001b[0m\u001b[0;34m)\u001b[0m\u001b[0;34m\u001b[0m\u001b[0m\n\u001b[1;32m     38\u001b[0m \u001b[0;31m#print(np.sum(cls - np.asarray(label_arr[3000:])))\u001b[0m\u001b[0;34m\u001b[0m\u001b[0;34m\u001b[0m\u001b[0m\n\u001b[0;32m---> 39\u001b[0;31m \u001b[0mRBC_tilta\u001b[0m \u001b[0;34m=\u001b[0m \u001b[0mnp\u001b[0m\u001b[0;34m.\u001b[0m\u001b[0masarray\u001b[0m\u001b[0;34m(\u001b[0m\u001b[0mRBC_tilta_list\u001b[0m\u001b[0;34m)\u001b[0m\u001b[0;34m.\u001b[0m\u001b[0mT\u001b[0m\u001b[0;34m\u001b[0m\u001b[0m\n\u001b[0m\u001b[1;32m     40\u001b[0m \u001b[0;34m\u001b[0m\u001b[0m\n\u001b[1;32m     41\u001b[0m \u001b[0;34m\u001b[0m\u001b[0m\n",
      "\u001b[0;31mNameError\u001b[0m: name 'RBC_tilta_list' is not defined"
     ]
    }
   ],
   "source": [
    "\n",
    "# KNN classifier\n",
    "def KNN_classif(Feature, img_Rep, trainLabels, k):\n",
    "    training_labels = np.asarray(trainLabels)\n",
    "    #compute the distance of the input N-dim Feature to every other point\n",
    "    #\n",
    "    distance=[]\n",
    "    for img in img_Rep.T:\n",
    "        distance.append(np.linalg.norm(img - Feature))\n",
    "    \n",
    "    distance = np.array(distance)\n",
    "    distance_k = distance.argsort()[:k]\n",
    "    neighbors = training_labels[distance_k].tolist()\n",
    "    #print(neighbors)\n",
    "    #x = np.sum(training_labels[distance_k])\n",
    "    #return x\n",
    "    \n",
    "    return max(neighbors, key=neighbors.count)\n",
    "\n",
    "# k-fold Cross Validation \n",
    "'''cross_validation(samples, labels, k:int):\n",
    "    m,n = np.shape(samples)\n",
    "    k_fold = np.row_stack((samples, labels))\n",
    "'''    \n",
    "\n",
    "\n",
    "WBC_tilta_gray_train = WBC_tilta_gray[:300, :].T\n",
    "WBC_tilta_gray_test = WBC_tilta_gray[300:, :].T\n",
    "cls = []\n",
    "\n",
    "#for k in range()\n",
    "for i in range(len(WBC_tilta_gray_test[0])):\n",
    "    \n",
    "    cls.append(KNN_classif(WBC_tilta_gray_test[:, i], WBC_tilta_gray_train , label_arr, 19))\n",
    "\n",
    "cls = np.asarray(cls)\n",
    "print(cls-np.asarray(label_arr[300:]))\n",
    "#print(np.sum(cls - np.asarray(label_arr[3000:])))\n",
    "RBC_tilta = np.asarray(RBC_tilta_list).T\n",
    "\n",
    "\n",
    "\n"
   ]
  },
  {
   "cell_type": "code",
   "execution_count": null,
   "metadata": {},
   "outputs": [],
   "source": [
    "WBC_tilta_gray.shape"
   ]
  },
  {
   "cell_type": "code",
   "execution_count": null,
   "metadata": {},
   "outputs": [],
   "source": [
    "print(np.sum(abs(cls - np.asarray(label_arr[3000:]))))"
   ]
  },
  {
   "cell_type": "code",
   "execution_count": null,
   "metadata": {},
   "outputs": [],
   "source": [
    "print(cls)\n",
    "print(label_arr[3000])\n",
    "print([0 for i in range(5)])"
   ]
  },
  {
   "cell_type": "code",
   "execution_count": null,
   "metadata": {},
   "outputs": [],
   "source": [
    "print(RBC_tilta.shape)\n",
    "print(RBC_normalized.shape)"
   ]
  },
  {
   "cell_type": "code",
   "execution_count": null,
   "metadata": {},
   "outputs": [],
   "source": [
    "print(RBC_normalized.shape)\n",
    "np.argmax(label_arr)\n",
    "label_arr[2]"
   ]
  },
  {
   "cell_type": "code",
   "execution_count": null,
   "metadata": {},
   "outputs": [],
   "source": [
    "RBC_norm = np.linalg.norm(RBC_centered, axis = 1)[np.newaxis]\n",
    "RBC_normalized = RBC_centered/RBC_norm.T"
   ]
  },
  {
   "cell_type": "code",
   "execution_count": null,
   "metadata": {},
   "outputs": [],
   "source": [
    "len(RBC_arr)\n",
    "A = [[[1,2,3],[2,3,2],[3,4,3]],[[11,12,13],[12,13,12],[13,14,13]]]\n",
    "A_vec = np.reshape(A, -1)  \n",
    "B_vec = np.flip(A_vec)\n",
    "A_centered = np.mean(np.asarray([A_vec, B_vec]), axis = 0)\n",
    "print(A_centered)"
   ]
  },
  {
   "cell_type": "code",
   "execution_count": null,
   "metadata": {},
   "outputs": [],
   "source": [
    "print(RBC_arr[0])"
   ]
  },
  {
   "cell_type": "code",
   "execution_count": null,
   "metadata": {},
   "outputs": [],
   "source": [
    "img = RBC_arr[0]\n",
    "\n",
    "def crop_and_resize(img, bound, size):\n",
    "    \n",
    "    xmin, ymin, xmax, ymax = bound\n",
    "    w, h = size\n",
    "    \n",
    "    img_crop = img[ymin:ymax,xmin:xmax]\n",
    "    #cv2.resize(img,None,fx=2, fy=2, interpolation = cv2.INTER_CUBIC)\n",
    "    img_resized = cv2.resize(img_crop,(w, h), interpolation = cv2.INTER_CUBIC)\n",
    "    return img_resized\n",
    "    \n",
    "img_resized = crop_and_resize(img, (100, 50, 250, 200), (100, 100))\n",
    "cv2.imshow('img', img_resized)\n",
    "cv2.waitKey(0)\n",
    "cv2.destroyAllWindows()"
   ]
  },
  {
   "cell_type": "markdown",
   "metadata": {},
   "source": [
    "## Random Forest approach by Chaoji Zuo"
   ]
  },
  {
   "cell_type": "code",
   "execution_count": 423,
   "metadata": {},
   "outputs": [],
   "source": [
    "from sklearn.ensemble import RandomForestClassifier\n",
    "from sklearn.metrics import precision_score\n",
    "import pandas as pd\n",
    "from sklearn.metrics import confusion_matrix\n",
    "import itertools\n",
    "from sklearn.metrics import accuracy_score"
   ]
  },
  {
   "cell_type": "code",
   "execution_count": 312,
   "metadata": {},
   "outputs": [
    {
     "name": "stdout",
     "output_type": "stream",
     "text": [
      "value counts of labels:\n",
      " N    213\n",
      "E     87\n",
      "L     34\n",
      "M     21\n",
      "dtype: int64\n"
     ]
    }
   ],
   "source": [
    "labels=[]\n",
    "for i in list_reading_arr:\n",
    "      labels.append(i.typ)\n",
    "X_all=WBC_normalized_gray.T\n",
    "y_all=labels\n",
    "print(\"value counts of labels:\\n\",pd.Series(y_all).value_counts())"
   ]
  },
  {
   "cell_type": "markdown",
   "metadata": {},
   "source": [
    "### first try of whole data\n",
    "\n",
    "like the regression problem, I applied the random forest on the whole data and test on it. It got a pretty great \n",
    "result"
   ]
  },
  {
   "cell_type": "code",
   "execution_count": 426,
   "metadata": {},
   "outputs": [
    {
     "name": "stdout",
     "output_type": "stream",
     "text": [
      "precision score : 0.9915492957746479\n",
      "accuracy : 0.9915492957746479\n",
      "Normalized confusion matrix\n"
     ]
    },
    {
     "data": {
      "image/png": "[encoded data removed]",
      "text/plain": [
       "<Figure size 432x288 with 2 Axes>"
      ]
     },
     "metadata": {
      "needs_background": "light"
     },
     "output_type": "display_data"
    }
   ],
   "source": [
    "RFClassifier=RandomForestClassifier()\n",
    "RFClassifier.fit(X_all,y_all)\n",
    "pred_y=RFClassifier.predict(X_all)\n",
    "print('precision score :',precision_score(y_pred=pred_y,y_true=y_all,average='micro'))\n",
    "print('accuracy :',accuracy_score(y_pred=pred_y,y_true=y_all))\n",
    "con_mat=confusion_matrix(pred_y,y_all)\n",
    "plot_confusion_matrix(con_mat,classes=['E','L','M','N'],normalize=True)\n"
   ]
  },
  {
   "cell_type": "code",
   "execution_count": 308,
   "metadata": {},
   "outputs": [],
   "source": [
    "raw_data=WBC_normalized_gray.T\n",
    "raw_amount=np.array(labels)\n",
    "import random\n",
    "folds_data=[]\n",
    "folds_labels=[]\n",
    "def randomData(num):\n",
    "    indexs=list(range(num))\n",
    "    each=int(num/5)\n",
    "    random.shuffle(indexs)\n",
    "    data1=raw_data[indexs[:each]]\n",
    "    y1=raw_amount[indexs[:each]]\n",
    "    \n",
    "    data2=raw_data[indexs[each:each*2]]\n",
    "    y2=raw_amount[indexs[each:each*2]]\n",
    "    \n",
    "    data3=raw_data[indexs[each*2:each*3]]\n",
    "    y3=raw_amount[indexs[each*2:each*3]]\n",
    "    \n",
    "    data4=raw_data[indexs[each*3:each*4]]\n",
    "    y4=raw_amount[indexs[each*3:each*4]]\n",
    "    \n",
    "    data5=raw_data[indexs[each*4:each*5]]\n",
    "    y5=raw_amount[indexs[each*4:each*5]]\n",
    "    \n",
    "    \n",
    "    folds_data=[data1,data2,data3,data4,data5]\n",
    "    folds_labels=[y1,y2,y3,y4,y5]\n",
    "    return folds_data,folds_labels\n",
    "\n",
    "\n",
    "        \n",
    "fold_number=np.array([0,1,2,3,4])\n",
    "folds_data,folds_labels=randomData(355)"
   ]
  },
  {
   "cell_type": "code",
   "execution_count": 313,
   "metadata": {},
   "outputs": [],
   "source": [
    "def plot_confusion_matrix(cm, classes,\n",
    "                          normalize=False,\n",
    "                          title='Confusion matrix',\n",
    "                          cmap=plt.cm.Blues):\n",
    "    \"\"\"\n",
    "    This function prints and plots the confusion matrix.\n",
    "    Normalization can be applied by setting `normalize=True`.\n",
    "    \"\"\"\n",
    "    if normalize:\n",
    "        cm = cm.astype('float') / cm.sum(axis=1)[:, np.newaxis]\n",
    "        print(\"Normalized confusion matrix\")\n",
    "    else:\n",
    "        print('Confusion matrix, without normalization')\n",
    "\n",
    "    #print(cm)\n",
    "\n",
    "    plt.imshow(cm, interpolation='nearest', cmap=cmap)\n",
    "    plt.title(title)\n",
    "    plt.colorbar()\n",
    "    tick_marks = np.arange(len(classes))\n",
    "    plt.xticks(tick_marks, classes, rotation=45)\n",
    "    plt.yticks(tick_marks, classes)\n",
    "\n",
    "    fmt = '.2f' if normalize else 'd'\n",
    "    thresh = cm.max() / 2.\n",
    "    for i, j in itertools.product(range(cm.shape[0]), range(cm.shape[1])):\n",
    "        plt.text(j, i, format(cm[i, j], fmt),\n",
    "                 horizontalalignment=\"center\",\n",
    "                 color=\"white\" if cm[i, j] > thresh else \"black\")\n",
    "\n",
    "    plt.ylabel('True label')\n",
    "    plt.xlabel('Predicted label')\n",
    "    plt.tight_layout()"
   ]
  },
  {
   "cell_type": "markdown",
   "metadata": {},
   "source": [
    "### Cross-Validation on whole data\n",
    "\n",
    "Then I split data into test set and training set and use cross validation to see its generalization ability"
   ]
  },
  {
   "cell_type": "code",
   "execution_count": 428,
   "metadata": {},
   "outputs": [
    {
     "name": "stdout",
     "output_type": "stream",
     "text": [
      "prediction error of fold  0  :  0.7323943661971831\n",
      "Normalized confusion matrix\n"
     ]
    },
    {
     "data": {
      "image/png": "[encoded data removed]",
      "text/plain": [
       "<Figure size 432x288 with 2 Axes>"
      ]
     },
     "metadata": {
      "needs_background": "light"
     },
     "output_type": "display_data"
    },
    {
     "name": "stdout",
     "output_type": "stream",
     "text": [
      "prediction error of fold  1  :  0.6056338028169014\n",
      "Normalized confusion matrix\n"
     ]
    },
    {
     "data": {
      "image/png": "[encoded data removed]",
      "text/plain": [
       "<Figure size 432x288 with 2 Axes>"
      ]
     },
     "metadata": {
      "needs_background": "light"
     },
     "output_type": "display_data"
    },
    {
     "name": "stdout",
     "output_type": "stream",
     "text": [
      "prediction error of fold  2  :  0.6619718309859155\n",
      "Normalized confusion matrix\n"
     ]
    },
    {
     "name": "stderr",
     "output_type": "stream",
     "text": [
      "/Applications/anaconda3/lib/python3.7/site-packages/ipykernel_launcher.py:10: RuntimeWarning: invalid value encountered in true_divide\n",
      "  # Remove the CWD from sys.path while we load stuff.\n",
      "/Applications/anaconda3/lib/python3.7/site-packages/numpy/core/_methods.py:28: RuntimeWarning: invalid value encountered in reduce\n",
      "  return umr_maximum(a, axis, None, out, keepdims, initial)\n"
     ]
    },
    {
     "data": {
      "image/png": "[encoded data removed]",
      "text/plain": [
       "<Figure size 432x288 with 2 Axes>"
      ]
     },
     "metadata": {
      "needs_background": "light"
     },
     "output_type": "display_data"
    },
    {
     "name": "stdout",
     "output_type": "stream",
     "text": [
      "prediction error of fold  3  :  0.6338028169014085\n",
      "Normalized confusion matrix\n"
     ]
    },
    {
     "data": {
      "image/png": "[encoded data removed]",
      "text/plain": [
       "<Figure size 432x288 with 2 Axes>"
      ]
     },
     "metadata": {
      "needs_background": "light"
     },
     "output_type": "display_data"
    },
    {
     "name": "stdout",
     "output_type": "stream",
     "text": [
      "prediction error of fold  4  :  0.6197183098591549\n",
      "Normalized confusion matrix\n"
     ]
    },
    {
     "data": {
      "image/png": "[encoded data removed]",
      "text/plain": [
       "<Figure size 432x288 with 2 Axes>"
      ]
     },
     "metadata": {
      "needs_background": "light"
     },
     "output_type": "display_data"
    }
   ],
   "source": [
    "precisionArr=[]\n",
    "recallArr=[]\n",
    "for i in range(5):\n",
    "    test_data=folds_data[i]\n",
    "    test_labels=folds_labels[i]\n",
    "    train_number=np.delete(fold_number,i,axis=0)\n",
    "    train_data=np.concatenate((folds_data[train_number[0]],folds_data[train_number[1]],folds_data[train_number[2]],folds_data[train_number[3]]))\n",
    "    train_labels=np.concatenate((folds_labels[train_number[0]],folds_labels[train_number[1]],folds_labels[train_number[2]],folds_labels[train_number[3]]))\n",
    "\n",
    "    RFClassifier=RandomForestClassifier()\n",
    "    RFClassifier.fit(train_data,train_labels)\n",
    "    predictY=RFClassifier.predict(test_data)\n",
    "    plt.title(\"Measured versus Predicted\")\n",
    "    #plt.scatter(test_labels,list(predictY),c='b')\n",
    "    #plt.plot(test_labels,test_labels,c='r')\n",
    "    plt.xlabel(\"real value\")\n",
    "    plt.ylabel(\"predict value\")\n",
    "    #print(myLS.getWLS())\n",
    "    con_mat=confusion_matrix(predictY,test_labels)\n",
    "    score=precision_score(y_pred=predictY,y_true=test_labels,average='micro')\n",
    "    rec=accuracy_score(y_pred=predictY,y_true=test_labels)\n",
    "    print(\"prediction error of fold \",i,\" : \",precision_score(y_pred=predictY,y_true=test_labels,average='micro'))\n",
    "    plot_confusion_matrix(con_mat,classes=['E','L','M','N'],normalize=True)\n",
    "    plt.show()\n",
    "    precisionArr.append(score)\n",
    "    recallArr.append(rec)"
   ]
  },
  {
   "cell_type": "code",
   "execution_count": 430,
   "metadata": {},
   "outputs": [
    {
     "name": "stdout",
     "output_type": "stream",
     "text": [
      "average precision: 0.6507042253521127\n"
     ]
    }
   ],
   "source": [
    "print(\"average precision:\",np.mean(precisionArr))\n"
   ]
  },
  {
   "cell_type": "markdown",
   "metadata": {},
   "source": [
    "As you can see, the generalization ability of this model is really bad\n",
    "\n",
    "But it maybe because we just have a small size of dataset"
   ]
  },
  {
   "cell_type": "code",
   "execution_count": 319,
   "metadata": {},
   "outputs": [],
   "source": [
    "X_train=X_all[:300]\n",
    "y_train=y_all[:300]\n",
    "X_test=X_all[300:]\n",
    "y_test=y_all[300:]"
   ]
  },
  {
   "cell_type": "markdown",
   "metadata": {},
   "source": [
    "### parameters optimazation"
   ]
  },
  {
   "cell_type": "code",
   "execution_count": 418,
   "metadata": {},
   "outputs": [
    {
     "name": "stdout",
     "output_type": "stream",
     "text": [
      "Best parameters:\n",
      "{'max_depth': 30, 'max_features': 'auto', 'n_estimators': 100}\n"
     ]
    }
   ],
   "source": [
    "from sklearn.model_selection import GridSearchCV\n",
    "\n",
    "rfc = RandomForestClassifier()\n",
    "#tuned_parameters = [{'n_estimators':[1,20,200],'max_depth':[8,10,30]}]\n",
    "tuned_parameters = [{'max_features':['sqrt','auto','log2'],'n_estimators':[1,20,100],'max_depth':[10,30,60]}]\n",
    "\n",
    "clf = GridSearchCV(estimator=rfc,param_grid=tuned_parameters, cv=5, n_jobs=1)\n",
    "\n",
    "clf.fit(X_train, y_train)\n",
    "print('Best parameters:')\n",
    "print(clf.best_params_)"
   ]
  },
  {
   "cell_type": "code",
   "execution_count": 392,
   "metadata": {},
   "outputs": [],
   "source": [
    "'''RFClassifier=RandomForestClassifier(min_samples_leaf=3,n_estimators=200)\n",
    "RFClassifier.fit(X_train,y_train)\n",
    "pred_y=RFClassifier.predict(X_test)\n",
    "print(\"prediction error :\",precision_score(y_pred=pred_y,y_true=y_test,average='micro'))\n",
    "con_mat=confusion_matrix(predictY,test_labels)\n",
    "plot_confusion_matrix(con_mat,classes=['E','L','M','N'],normalize=True)\n",
    "'''\n",
    "h=1"
   ]
  },
  {
   "cell_type": "code",
   "execution_count": 419,
   "metadata": {},
   "outputs": [
    {
     "name": "stdout",
     "output_type": "stream",
     "text": [
      "prediction error of fold  0  :  0.704225352112676\n",
      "Normalized confusion matrix\n"
     ]
    },
    {
     "name": "stderr",
     "output_type": "stream",
     "text": [
      "/Applications/anaconda3/lib/python3.7/site-packages/ipykernel_launcher.py:10: RuntimeWarning: invalid value encountered in true_divide\n",
      "  # Remove the CWD from sys.path while we load stuff.\n",
      "/Applications/anaconda3/lib/python3.7/site-packages/numpy/core/_methods.py:28: RuntimeWarning: invalid value encountered in reduce\n",
      "  return umr_maximum(a, axis, None, out, keepdims, initial)\n"
     ]
    },
    {
     "data": {
      "image/png": "[encoded data removed]",
      "text/plain": [
       "<Figure size 432x288 with 2 Axes>"
      ]
     },
     "metadata": {
      "needs_background": "light"
     },
     "output_type": "display_data"
    },
    {
     "name": "stdout",
     "output_type": "stream",
     "text": [
      "prediction error of fold  1  :  0.6619718309859155\n",
      "Normalized confusion matrix\n"
     ]
    },
    {
     "name": "stderr",
     "output_type": "stream",
     "text": [
      "/Applications/anaconda3/lib/python3.7/site-packages/ipykernel_launcher.py:10: RuntimeWarning: invalid value encountered in true_divide\n",
      "  # Remove the CWD from sys.path while we load stuff.\n",
      "/Applications/anaconda3/lib/python3.7/site-packages/numpy/core/_methods.py:28: RuntimeWarning: invalid value encountered in reduce\n",
      "  return umr_maximum(a, axis, None, out, keepdims, initial)\n"
     ]
    },
    {
     "data": {
      "image/png": "[encoded data removed]",
      "text/plain": [
       "<Figure size 432x288 with 2 Axes>"
      ]
     },
     "metadata": {
      "needs_background": "light"
     },
     "output_type": "display_data"
    },
    {
     "name": "stdout",
     "output_type": "stream",
     "text": [
      "prediction error of fold  2  :  0.676056338028169\n",
      "Normalized confusion matrix\n"
     ]
    },
    {
     "name": "stderr",
     "output_type": "stream",
     "text": [
      "/Applications/anaconda3/lib/python3.7/site-packages/ipykernel_launcher.py:10: RuntimeWarning: invalid value encountered in true_divide\n",
      "  # Remove the CWD from sys.path while we load stuff.\n",
      "/Applications/anaconda3/lib/python3.7/site-packages/numpy/core/_methods.py:28: RuntimeWarning: invalid value encountered in reduce\n",
      "  return umr_maximum(a, axis, None, out, keepdims, initial)\n"
     ]
    },
    {
     "data": {
      "image/png": "[encoded data removed]",
      "text/plain": [
       "<Figure size 432x288 with 2 Axes>"
      ]
     },
     "metadata": {
      "needs_background": "light"
     },
     "output_type": "display_data"
    },
    {
     "name": "stdout",
     "output_type": "stream",
     "text": [
      "prediction error of fold  3  :  0.6338028169014085\n",
      "Normalized confusion matrix\n"
     ]
    },
    {
     "name": "stderr",
     "output_type": "stream",
     "text": [
      "/Applications/anaconda3/lib/python3.7/site-packages/ipykernel_launcher.py:10: RuntimeWarning: invalid value encountered in true_divide\n",
      "  # Remove the CWD from sys.path while we load stuff.\n",
      "/Applications/anaconda3/lib/python3.7/site-packages/numpy/core/_methods.py:28: RuntimeWarning: invalid value encountered in reduce\n",
      "  return umr_maximum(a, axis, None, out, keepdims, initial)\n"
     ]
    },
    {
     "data": {
      "image/png": "[encoded data removed]",
      "text/plain": [
       "<Figure size 432x288 with 2 Axes>"
      ]
     },
     "metadata": {
      "needs_background": "light"
     },
     "output_type": "display_data"
    },
    {
     "name": "stdout",
     "output_type": "stream",
     "text": [
      "prediction error of fold  4  :  0.6056338028169014\n",
      "Normalized confusion matrix\n"
     ]
    },
    {
     "name": "stderr",
     "output_type": "stream",
     "text": [
      "/Applications/anaconda3/lib/python3.7/site-packages/ipykernel_launcher.py:10: RuntimeWarning: invalid value encountered in true_divide\n",
      "  # Remove the CWD from sys.path while we load stuff.\n",
      "/Applications/anaconda3/lib/python3.7/site-packages/numpy/core/_methods.py:28: RuntimeWarning: invalid value encountered in reduce\n",
      "  return umr_maximum(a, axis, None, out, keepdims, initial)\n"
     ]
    },
    {
     "data": {
      "image/png": "[encoded data removed]",
      "text/plain": [
       "<Figure size 432x288 with 2 Axes>"
      ]
     },
     "metadata": {
      "needs_background": "light"
     },
     "output_type": "display_data"
    }
   ],
   "source": [
    "for i in range(5):\n",
    "    test_data=folds_data[i]\n",
    "    test_labels=folds_labels[i]\n",
    "    train_number=np.delete(fold_number,i,axis=0)\n",
    "    train_data=np.concatenate((folds_data[train_number[0]],folds_data[train_number[1]],folds_data[train_number[2]],folds_data[train_number[3]]))\n",
    "    train_labels=np.concatenate((folds_labels[train_number[0]],folds_labels[train_number[1]],folds_labels[train_number[2]],folds_labels[train_number[3]]))\n",
    "\n",
    "    RFClassifier=RandomForestClassifier(n_estimators=200,max_depth=30,max_features='auto')\n",
    "    RFClassifier.fit(train_data,train_labels)\n",
    "    predictY=RFClassifier.predict(test_data)\n",
    "    plt.title(\"Measured versus Predicted\")\n",
    "    #plt.scatter(test_labels,list(predictY),c='b')\n",
    "    #plt.plot(test_labels,test_labels,c='r')\n",
    "    plt.xlabel(\"real value\")\n",
    "    plt.ylabel(\"predict value\")\n",
    "    #print(myLS.getWLS())\n",
    "    con_mat=confusion_matrix(predictY,test_labels)\n",
    "    \n",
    "\n",
    "    score=precision_score(y_pred=predictY,y_true=test_labels,average='micro')\n",
    "\n",
    "    print(\"prediction error of fold \",i,\" : \",precision_score(y_pred=predictY,y_true=test_labels,average='micro'))\n",
    "    plot_confusion_matrix(con_mat,classes=['E','L','M','N'],normalize=True)\n",
    "    plt.show()\n",
    "    precisionArr.append(score)"
   ]
  },
  {
   "cell_type": "code",
   "execution_count": 420,
   "metadata": {},
   "outputs": [
    {
     "name": "stdout",
     "output_type": "stream",
     "text": [
      "average precision: 0.6535211267605633\n"
     ]
    }
   ],
   "source": [
    "print(\"average precision:\",np.mean(precisionArr))"
   ]
  },
  {
   "cell_type": "markdown",
   "metadata": {},
   "source": [
    "by training the best parameters, the output became better, but just improve a little"
   ]
  },
  {
   "cell_type": "markdown",
   "metadata": {},
   "source": [
    "## Gaussian Naive Bayes Classifier by Changlin Jiang"
   ]
  },
  {
   "cell_type": "markdown",
   "metadata": {},
   "source": [
    "### Discussion\n",
    "The image-based dataset is likely to be iid,so naive bayes classifier may work.Implement gaussian naive bayes classifier to the dataset and use cross validation to check the accuracy:"
   ]
  },
  {
   "cell_type": "markdown",
   "metadata": {},
   "source": [
    "### PCA with error<0.1 (k=59)"
   ]
  },
  {
   "cell_type": "code",
   "execution_count": 26,
   "metadata": {},
   "outputs": [],
   "source": [
    "from sklearn.model_selection import cross_val_score\n",
    "from sklearn.naive_bayes import GaussianNB\n",
    "from sklearn.metrics import confusion_matrix\n",
    "import itertools\n",
    "import matplotlib.pyplot as plt"
   ]
  },
  {
   "cell_type": "code",
   "execution_count": 27,
   "metadata": {},
   "outputs": [],
   "source": [
    "U_k=U[:,:59]\n",
    "WBC_gray_telda=np.mat(U_k.T)*np.mat(WBC_normalized_gray)"
   ]
  },
  {
   "cell_type": "code",
   "execution_count": 28,
   "metadata": {},
   "outputs": [
    {
     "name": "stdout",
     "output_type": "stream",
     "text": [
      "Gaussian naive bayes classifier:\n",
      "Cross validation scores= [0.53424658 0.5        0.63380282 0.57746479 0.5942029 ] ,Mean accuragy= 0.5679434159053987\n"
     ]
    }
   ],
   "source": [
    "clf = GaussianNB()\n",
    "data_gaussian=WBC_gray_telda.T\n",
    "scores_gaussian = cross_val_score(clf, data_gaussian, label_arr, cv=5)\n",
    "print(\"Gaussian naive bayes classifier:\")\n",
    "print(\"Cross validation scores=\",scores_gaussian,\",Mean accuragy=\",np.mean(scores_gaussian))"
   ]
  },
  {
   "cell_type": "code",
   "execution_count": 29,
   "metadata": {},
   "outputs": [
    {
     "name": "stdout",
     "output_type": "stream",
     "text": [
      "0-1 Loss= 13  Accuracy= 0.7678571428571428\n"
     ]
    }
   ],
   "source": [
    "training_data=WBC_gray_telda[:,:300]\n",
    "training_label=label_arr[:300]\n",
    "test_data=WBC_gray_telda[:,300:]\n",
    "test_label=label_arr[300:]\n",
    "clf.fit(training_data.T,training_label)\n",
    "labels_derived=clf.predict(test_data.T)\n",
    "error=0\n",
    "for i in range(len(test_label)):\n",
    "    if test_label[i]!=labels_derived[i]:\n",
    "        error+=1\n",
    "accuracy=1-error/len(test_label)\n",
    "print(\"0-1 Loss=\",error,\" Accuracy=\",accuracy)"
   ]
  },
  {
   "cell_type": "code",
   "execution_count": 30,
   "metadata": {},
   "outputs": [
    {
     "name": "stdout",
     "output_type": "stream",
     "text": [
      "[[40  3  0  4]\n",
      " [ 0  0  0  0]\n",
      " [ 1  0  0  1]\n",
      " [ 4  0  0  3]]\n"
     ]
    }
   ],
   "source": [
    "conf_mat=confusion_matrix(test_label, labels_derived)\n",
    "print(conf_mat)"
   ]
  },
  {
   "cell_type": "code",
   "execution_count": 31,
   "metadata": {},
   "outputs": [
    {
     "name": "stdout",
     "output_type": "stream",
     "text": [
      "Confusion matrix, without normalization\n",
      "[[40  3  0  4]\n",
      " [ 0  0  0  0]\n",
      " [ 1  0  0  1]\n",
      " [ 4  0  0  3]]\n"
     ]
    },
    {
     "data": {
      "image/png": "[encoded data removed]",
      "text/plain": [
       "<Figure size 432x288 with 2 Axes>"
      ]
     },
     "metadata": {
      "needs_background": "light"
     },
     "output_type": "display_data"
    }
   ],
   "source": [
    "def plot_confusion_matrix(cm, classes,\n",
    "                          normalize=False,\n",
    "                          title='Confusion matrix',\n",
    "                          cmap=plt.cm.Blues):\n",
    "    \"\"\"\n",
    "    This function prints and plots the confusion matrix.\n",
    "    Normalization can be applied by setting `normalize=True`.\n",
    "    \"\"\"\n",
    "    if normalize:\n",
    "        cm = cm.astype('float') / cm.sum(axis=1)[:, np.newaxis]\n",
    "        print(\"Normalized confusion matrix\")\n",
    "    else:\n",
    "        print('Confusion matrix, without normalization')\n",
    "\n",
    "    print(cm)\n",
    "\n",
    "    plt.imshow(cm, interpolation='nearest', cmap=cmap)\n",
    "    plt.title(title)\n",
    "    plt.colorbar()\n",
    "    tick_marks = np.arange(len(classes))\n",
    "    plt.xticks(tick_marks, classes, rotation=45)\n",
    "    plt.yticks(tick_marks, classes)\n",
    "\n",
    "    fmt = '.2f' if normalize else 'd'\n",
    "    thresh = cm.max() / 2.\n",
    "    for i, j in itertools.product(range(cm.shape[0]), range(cm.shape[1])):\n",
    "        plt.text(j, i, format(cm[i, j], fmt),\n",
    "                 horizontalalignment=\"center\",\n",
    "                 color=\"white\" if cm[i, j] > thresh else \"black\")\n",
    "        \n",
    "plt.figure()\n",
    "plot_confusion_matrix(conf_mat, classes=[0,1,2,3],\n",
    "                      title='Confusion matrix, without normalization')"
   ]
  },
  {
   "cell_type": "markdown",
   "metadata": {},
   "source": [
    "The result shows that using gaussian naive bayes classifier maybe not a good idea.Possible reason is that the data maybe not gaussian distributed or non-linear model."
   ]
  },
  {
   "cell_type": "code",
   "execution_count": null,
   "metadata": {},
   "outputs": [],
   "source": []
  }
 ],
 "metadata": {
  "kernelspec": {
   "display_name": "Python 3",
   "language": "python",
   "name": "python3"
  },
  "language_info": {
   "codemirror_mode": {
    "name": "ipython",
    "version": 3
   },
   "file_extension": ".py",
   "mimetype": "text/x-python",
   "name": "python",
   "nbconvert_exporter": "python",
   "pygments_lexer": "ipython3",
   "version": "3.7.0"
  }
 },
 "nbformat": 4,
 "nbformat_minor": 2
}
