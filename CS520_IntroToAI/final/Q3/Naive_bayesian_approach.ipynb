{
 "cells": [
  {
   "cell_type": "code",
   "execution_count": 1,
   "metadata": {},
   "outputs": [],
   "source": [
    "import numpy as np\n",
    "import matplotlib.pyplot as plt"
   ]
  },
  {
   "cell_type": "code",
   "execution_count": 3,
   "metadata": {},
   "outputs": [],
   "source": [
    "pathA='ClassA.txt'\n",
    "pathB='ClassB.txt'\n",
    "pathM='Mystery.txt'\n",
    "\n",
    "def readFile(path):\n",
    "    class_list=[]\n",
    "    with open(path) as file:\n",
    "        for line in file:\n",
    "            newline=line.rstrip('\\n').split('\\t')\n",
    "            if newline!=['']*5:\n",
    "                class_list.append(newline)\n",
    "    return np.array(class_list).astype('int').reshape((5,5,5))\n",
    "\n",
    "cA=readFile(pathA)\n",
    "cB=readFile(pathB)\n",
    "cM=readFile(pathM)"
   ]
  },
  {
   "cell_type": "markdown",
   "metadata": {},
   "source": [
    "## naive bayesian classifier"
   ]
  },
  {
   "cell_type": "code",
   "execution_count": 31,
   "metadata": {},
   "outputs": [],
   "source": [
    "#use Laplace smoothing\n",
    "\n",
    "pA1=(cA.sum(axis=0)+1)/6\n",
    "pB1=(cB.sum(axis=0)+1)/6\n",
    "\n",
    "def NB_onepoint(point):\n",
    "    isA=pA1[tuple(point)]\n",
    "    isB=pB1[tuple(point)]\n",
    "    #print(isA,isB)\n",
    "    return isA,isB\n",
    "    \n",
    "def NB_oneimage(image):\n",
    "    point_list=np.argwhere(image==1)\n",
    "    result=0\n",
    "    A_p=[]\n",
    "    B_p=[]\n",
    "    for point in point_list:\n",
    "        tempA,tempB=NB_onepoint(point)\n",
    "        A_p.append(tempA)\n",
    "        B_p.append(tempB)\n",
    "    \n",
    "    finalA=1\n",
    "    finalB=1\n",
    "    for i in range(len(point_list)):\n",
    "        finalA*=A_p[i]\n",
    "        finalB*=B_p[i]\n",
    "    print('likelihood of A:',finalA,'likelihood of B:',finalB)\n",
    "    if finalA>finalB:\n",
    "        return 'Class A'\n",
    "    else:\n",
    "        return 'Class B'"
   ]
  },
  {
   "cell_type": "code",
   "execution_count": 33,
   "metadata": {},
   "outputs": [
    {
     "name": "stdout",
     "output_type": "stream",
     "text": [
      "likelihood of A: 0.0002286236854138088 likelihood of B: 0.0008573388203017832\n",
      "prediction: Class B\n",
      "likelihood of A: 0.00020322105370116337 likelihood of B: 4.7629934461210166e-06\n",
      "prediction: Class A\n",
      "likelihood of A: 2.3814967230605083e-06 likelihood of B: 0.0025720164609053494\n",
      "prediction: Class B\n",
      "likelihood of A: 0.0004572473708276176 likelihood of B: 4.762993446121017e-05\n",
      "prediction: Class A\n",
      "likelihood of A: 0.0005144032921810699 likelihood of B: 0.0020576131687242796\n",
      "prediction: Class B\n"
     ]
    }
   ],
   "source": [
    "for ii in cM:\n",
    "    print('prediction:',NB_oneimage(ii))"
   ]
  },
  {
   "cell_type": "code",
   "execution_count": null,
   "metadata": {},
   "outputs": [],
   "source": [
    "#just a test\n",
    "p_A=cA.sum(axis=0)/5\n",
    "p_B=cB.sum(axis=0)/5\n",
    "\n",
    "def NB_onepoint(point):\n",
    "    isA=p_A[tuple(point)]\n",
    "    isB=p_B[tuple(point)]\n",
    "    #-1 represent class A, 1 represent class B, 0 represent equal probability\n",
    "    if isA>isB:\n",
    "        return -1\n",
    "    elif isA<isB:\n",
    "        return 1\n",
    "    else:\n",
    "        return 0\n",
    "    \n",
    "def NB_oneimage(image):\n",
    "    point_list=np.argwhere(image==1)\n",
    "    result=0\n",
    "    for point in point_list:\n",
    "        temp=NB_onepoint(point)\n",
    "        result+=temp   \n",
    "    #print(result)\n",
    "    if result<0:\n",
    "        return 'Class A'\n",
    "    else:\n",
    "        return 'Class B'\n",
    "\n",
    "\n",
    "for ii in cM:\n",
    "    print(NB_oneimage(ii))"
   ]
  }
 ],
 "metadata": {
  "kernelspec": {
   "display_name": "Python 3",
   "language": "python",
   "name": "python3"
  },
  "language_info": {
   "codemirror_mode": {
    "name": "ipython",
    "version": 3
   },
   "file_extension": ".py",
   "mimetype": "text/x-python",
   "name": "python",
   "nbconvert_exporter": "python",
   "pygments_lexer": "ipython3",
   "version": "3.7.1"
  }
 },
 "nbformat": 4,
 "nbformat_minor": 2
}
