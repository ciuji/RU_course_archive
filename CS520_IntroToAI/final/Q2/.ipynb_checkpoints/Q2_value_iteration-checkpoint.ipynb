{
 "cells": [
  {
   "cell_type": "markdown",
   "metadata": {},
   "source": [
    "# Question 2 - Markov Decision Processes"
   ]
  },
  {
   "cell_type": "code",
   "execution_count": 1,
   "metadata": {},
   "outputs": [],
   "source": [
    "import numpy as np"
   ]
  },
  {
   "cell_type": "code",
   "execution_count": 11,
   "metadata": {},
   "outputs": [],
   "source": [
    "#initial the MDP\n",
    "S=['New', 'Used1', 'Used2', 'Used3', 'Used4', 'Used5', 'Used6', 'Used7', 'Used8','Dead'] \n",
    "U_star=np.zeros(10)\n",
    "R=[100,90,80,70,60,50,40,30,20]\n",
    "REPLACE=-250"
   ]
  },
  {
   "cell_type": "markdown",
   "metadata": {},
   "source": [
    "## a) and b)"
   ]
  },
  {
   "cell_type": "code",
   "execution_count": 64,
   "metadata": {},
   "outputs": [],
   "source": [
    "def oneIteration(state,U,beta):\n",
    "    if state==9:\n",
    "        U[9]=REPLACE+beta*U[0]\n",
    "        return 'REPLACE'\n",
    "    if state==0:\n",
    "        U[0]=100+beta*U[1]\n",
    "        return 'USE'\n",
    "    \n",
    "    #choose use\n",
    "    p_next=0.1*state\n",
    "    p_no_change=1-p_next\n",
    "    r_use=100-10*state+beta*(p_no_change*U[state]+p_next*U[state+1])\n",
    "    \n",
    "    #choose replace\n",
    "    r_replace=REPLACE+beta*U[0]\n",
    "    U[state]=max(r_replace,r_use)\n",
    "    if r_replace>r_use:\n",
    "        return 'REPLACE'\n",
    "    else:\n",
    "        return 'USE'\n"
   ]
  },
  {
   "cell_type": "code",
   "execution_count": 131,
   "metadata": {},
   "outputs": [],
   "source": [
    "def valueIteration(U,beta):\n",
    "    actions=[None]*10\n",
    "    for _ in range(5000):\n",
    "        U_copy=U.copy()\n",
    "        for i in range(10):\n",
    "            action=oneIteration(i,U_copy,beta)\n",
    "            actions[i]=action\n",
    "        if max(abs(U-U_copy))<1e-5:\n",
    "            U=U_copy\n",
    "            print(\"converge in \",_,\" rounds\")\n",
    "            break\n",
    "        U=U_copy\n",
    "    return U,actions"
   ]
  },
  {
   "cell_type": "code",
   "execution_count": 66,
   "metadata": {},
   "outputs": [
    {
     "name": "stdout",
     "output_type": "stream",
     "text": [
      "converge in  144  rounds\n",
      "[800.53153009 778.36837598 643.2222188  556.12349533 502.83592961\n",
      " 475.8459312  470.47837708 470.47837708 470.47837708 470.47837708]\n",
      "['USE', 'USE', 'USE', 'USE', 'USE', 'USE', 'REPLACE', 'REPLACE', 'REPLACE', 'REPLACE']\n"
     ]
    }
   ],
   "source": [
    "U_result,action_result=valueIteration(U_star,beta=0.9)\n",
    "print(U_result)\n",
    "print(action_result)\n"
   ]
  },
  {
   "cell_type": "markdown",
   "metadata": {},
   "source": [
    "## c)"
   ]
  },
  {
   "cell_type": "code",
   "execution_count": 110,
   "metadata": {},
   "outputs": [],
   "source": [
    "def newOneIteration(state,U,beta,cost_buyused):\n",
    "\n",
    "    if state==0:\n",
    "        U[0]=100+beta*U[1]\n",
    "        return 'USE'\n",
    "    #choose use\n",
    "    p_next=0.1*state\n",
    "    p_no_change=1-p_next\n",
    "    \n",
    "    #choose replace\n",
    "    r_replace=REPLACE+beta*U[0]\n",
    "    \n",
    "    #choose buy used\n",
    "    r_buyused=cost_buyused+ beta*(0.5*U[1]+0.5*U[2])\n",
    "\n",
    "    if state==9:\n",
    "        r_use=0\n",
    "    else:\n",
    "        r_use=100-10*state+beta*(p_no_change*U[state]+p_next*U[state+1])\n",
    "\n",
    "    \n",
    "    U[state]=max(r_replace,r_use,r_buyused)\n",
    "    if U[state]==r_use:\n",
    "        return 'USE'\n",
    "    if U[state]==r_buyused:\n",
    "        return 'BUY USED'\n",
    "    if U[state]==r_replace:\n",
    "        return 'REPLACE'\n",
    "    \n",
    "def newValueIteration(U,beta):\n",
    "    for cost_buyused in range(250):\n",
    "        actions=[None]*10\n",
    "        for _ in range(200):\n",
    "            U_copy=U.copy()\n",
    "            for i in range(10):\n",
    "                #action=newOneIteration(i,U_copy,beta,-cost_buyused)\n",
    "                action=newOneIteration(i,U_copy,beta,cost_buyused-250)\n",
    "                actions[i]=action\n",
    "            if max(abs(U-U_copy))<1e-5:\n",
    "                U=U_copy\n",
    "                #print(\"converge in \",_,\" rounds\")\n",
    "                break\n",
    "            U=U_copy\n",
    "        #if 'BUY USED' not in actions:\n",
    "         #   print (cost_buyused)\n",
    "          #  break\n",
    "        if 'BUY USED' in actions:\n",
    "            print (cost_buyused-250)\n",
    "            break\n",
    "    return U,actions"
   ]
  },
  {
   "cell_type": "code",
   "execution_count": 76,
   "metadata": {},
   "outputs": [
    {
     "name": "stdout",
     "output_type": "stream",
     "text": [
      "first time no BUY USED action:\n",
      "170\n",
      "[800.53169221 778.36853739 643.22237317 556.12364633 502.83607842\n",
      " 475.84607839 470.47852299 470.47852299 470.47852299 470.47852299]\n",
      "['USE', 'USE', 'USE', 'USE', 'USE', 'USE', 'REPLACE', 'REPLACE', 'REPLACE', 'REPLACE']\n"
     ]
    }
   ],
   "source": [
    "print('first time no BUY USED action:')\n",
    "U_result,action_result=newValueIteration(U_star,beta=0.9)\n",
    "print(U_result)\n",
    "print(action_result)"
   ]
  },
  {
   "cell_type": "code",
   "execution_count": 111,
   "metadata": {},
   "outputs": [
    {
     "name": "stdout",
     "output_type": "stream",
     "text": [
      "first time has BUY USED action:\n",
      "-169\n",
      "[800.569489   778.41055291 643.31126245 556.26200866 503.0257446\n",
      " 476.08847279 470.77481691 470.77481691 470.77481691 470.77481691]\n",
      "['USE', 'USE', 'USE', 'USE', 'USE', 'USE', 'BUY USED', 'BUY USED', 'BUY USED', 'BUY USED']\n"
     ]
    }
   ],
   "source": [
    "print('first time has BUY USED action:')\n",
    "U_result,action_result=newValueIteration(U_star,beta=0.9)\n",
    "print(U_result)\n",
    "print(action_result)"
   ]
  },
  {
   "cell_type": "markdown",
   "metadata": {},
   "source": [
    "## d)\n"
   ]
  },
  {
   "cell_type": "code",
   "execution_count": 122,
   "metadata": {},
   "outputs": [
    {
     "name": "stdout",
     "output_type": "stream",
     "text": [
      "converge in  7  rounds\n",
      "discounted factor =  0.1\n",
      "optimal utility: [ 109.98751471   99.87515518   88.63920027   77.40323917   66.16708579\n",
      "   54.92651098   43.60370593   30.99262878    0.89785718 -239.00124853]\n",
      "optimal policy: ['USE', 'USE', 'USE', 'USE', 'USE', 'USE', 'USE', 'USE', 'USE', 'REPLACE']\n"
     ]
    }
   ],
   "source": [
    "beta=0.1\n",
    "U_result,action_result=valueIteration(U_star,beta=beta)\n",
    "print('discounted factor = ',beta)\n",
    "print('optimal utility:',U_result)\n",
    "print('optimal policy:',action_result)\n"
   ]
  },
  {
   "cell_type": "code",
   "execution_count": 123,
   "metadata": {},
   "outputs": [
    {
     "name": "stdout",
     "output_type": "stream",
     "text": [
      "converge in  14  rounds\n",
      "discounted factor =  0.3\n",
      "optimal utility: [ 138.37952227  127.93174368  113.00578875   98.07332839   83.08810686\n",
      "   67.76873276   50.68948787   25.59305359  -31.95390922 -208.48614332]\n",
      "optimal policy: ['USE', 'USE', 'USE', 'USE', 'USE', 'USE', 'USE', 'USE', 'USE', 'REPLACE']\n"
     ]
    }
   ],
   "source": [
    "beta=0.3\n",
    "U_result,action_result=valueIteration(U_star,beta=beta)\n",
    "print('discounted factor = ',beta)\n",
    "print('optimal utility:',U_result)\n",
    "print('optimal policy:',action_result)\n"
   ]
  },
  {
   "cell_type": "code",
   "execution_count": 124,
   "metadata": {},
   "outputs": [
    {
     "name": "stdout",
     "output_type": "stream",
     "text": [
      "converge in  23  rounds\n",
      "discounted factor =  0.5\n",
      "optimal utility: [ 188.88710664  177.77421816  155.51644744  133.0987044   110.09439896\n",
      "   85.33040518   55.9912217    15.97659588  -46.9139777  -155.55644668]\n",
      "optimal policy: ['USE', 'USE', 'USE', 'USE', 'USE', 'USE', 'USE', 'USE', 'USE', 'REPLACE']\n"
     ]
    }
   ],
   "source": [
    "beta=0.5\n",
    "U_result,action_result=valueIteration(U_star,beta=beta)\n",
    "print('discounted factor = ',beta)\n",
    "print('optimal utility:',U_result)\n",
    "print('optimal policy:',action_result)"
   ]
  },
  {
   "cell_type": "code",
   "execution_count": 125,
   "metadata": {},
   "outputs": [
    {
     "name": "stdout",
     "output_type": "stream",
     "text": [
      "converge in  43  rounds\n",
      "discounted factor =  0.7\n",
      "optimal utility: [302.9197991  289.88543607 246.53739158 203.40326822 160.64605616\n",
      " 118.48113366  77.17926167  37.0692214   -1.4598176  -37.95614063]\n",
      "optimal policy: ['USE', 'USE', 'USE', 'USE', 'USE', 'USE', 'USE', 'USE', 'USE', 'REPLACE']\n"
     ]
    }
   ],
   "source": [
    "beta=0.7\n",
    "U_result,action_result=valueIteration(U_star,beta=beta)\n",
    "print('discounted factor = ',beta)\n",
    "print('optimal utility:',U_result)\n",
    "print('optimal policy:',action_result)"
   ]
  },
  {
   "cell_type": "code",
   "execution_count": 126,
   "metadata": {},
   "outputs": [
    {
     "name": "stdout",
     "output_type": "stream",
     "text": [
      "converge in  144  rounds\n",
      "discounted factor =  0.9\n",
      "optimal utility: [800.53153009 778.36837598 643.2222188  556.12349533 502.83592961\n",
      " 475.8459312  470.47837708 470.47837708 470.47837708 470.47837708]\n",
      "optimal policy: ['USE', 'USE', 'USE', 'USE', 'USE', 'USE', 'REPLACE', 'REPLACE', 'REPLACE', 'REPLACE']\n"
     ]
    }
   ],
   "source": [
    "beta=0.9\n",
    "U_result,action_result=valueIteration(U_star,beta=beta)\n",
    "print('discounted factor = ',beta)\n",
    "print('optimal utility:',U_result)\n",
    "print('optimal policy:',action_result)"
   ]
  },
  {
   "cell_type": "code",
   "execution_count": 134,
   "metadata": {},
   "outputs": [
    {
     "name": "stdout",
     "output_type": "stream",
     "text": [
      "converge in  1493  rounds\n",
      "discounted factor =  0.99\n",
      "optimal utility: [6943.95812045 6913.08902055 6702.29003158 6636.74917376 6624.51853924\n",
      " 6624.51853924 6624.51853924 6624.51853924 6624.51853924 6624.51853924]\n",
      "optimal policy: ['USE', 'USE', 'USE', 'USE', 'REPLACE', 'REPLACE', 'REPLACE', 'REPLACE', 'REPLACE', 'REPLACE']\n"
     ]
    }
   ],
   "source": [
    "beta=0.99\n",
    "U_result,action_result=valueIteration(U_star,beta=beta)\n",
    "print('discounted factor = ',beta)\n",
    "print('optimal utility:',U_result)\n",
    "print('optimal policy:',action_result)\n"
   ]
  },
  {
   "cell_type": "code",
   "execution_count": 133,
   "metadata": {},
   "outputs": [
    {
     "name": "stdout",
     "output_type": "stream",
     "text": [
      "discounted factor =  0.99999\n",
      "optimal utility: [350155.60558126 350127.26262101 349943.83075819 349902.10402521\n",
      " 349902.10402521 349902.10402521 349902.10402521 349902.10402521\n",
      " 349902.10402521 349902.10402521]\n",
      "optimal policy: ['USE', 'USE', 'USE', 'REPLACE', 'REPLACE', 'REPLACE', 'REPLACE', 'REPLACE', 'REPLACE', 'REPLACE']\n"
     ]
    }
   ],
   "source": [
    "beta=0.99999\n",
    "U_result,action_result=valueIteration(U_star,beta=beta)\n",
    "print('discounted factor = ',beta)\n",
    "print('optimal utility:',U_result)\n",
    "print('optimal policy:',action_result)\n"
   ]
  },
  {
   "cell_type": "markdown",
   "metadata": {},
   "source": [
    "## bonus)"
   ]
  },
  {
   "cell_type": "code",
   "execution_count": 159,
   "metadata": {},
   "outputs": [],
   "source": [
    "def bonusOneIteration(state,U,beta,NEW_REPLACE):\n",
    "    if state==9:\n",
    "        U[9]=NEW_REPLACE+beta*U[0]\n",
    "        return 'REPLACE'\n",
    "    if state==0:\n",
    "        U[0]=100+beta*U[1]\n",
    "        return 'USE'\n",
    "    \n",
    "    #choose use\n",
    "    p_next=0.1*state\n",
    "    p_no_change=1-p_next\n",
    "    r_use=100-10*state+beta*(p_no_change*U[state]+p_next*U[state+1])\n",
    "    \n",
    "    #choose replace\n",
    "    r_replace=NEW_REPLACE+beta*U[0]\n",
    "    U[state]=max(r_replace,r_use)\n",
    "    if r_replace>r_use:\n",
    "        return 'REPLACE'\n",
    "    else:\n",
    "        return 'USE'\n",
    "\n",
    "def bonusValueIteration(U,beta):\n",
    "    for add in range(600):\n",
    "        NEW_REPLACE=REPLACE-add\n",
    "        actions=[None]*10\n",
    "        for _ in range(210):\n",
    "            U_copy=U.copy()\n",
    "            for i in range(10):\n",
    "                action=bonusOneIteration(i,U_copy,beta,NEW_REPLACE)\n",
    "                actions[i]=action\n",
    "            if max(abs(U-U_copy))<1e-5:\n",
    "                U=U_copy\n",
    "                #print(\"converge in \",_,\" rounds\")\n",
    "                break\n",
    "            U=U_copy\n",
    "        if min(U)<0:\n",
    "            print('cost of a new machine:',-NEW_REPLACE)\n",
    "            break\n",
    "    return U,actions\n"
   ]
  },
  {
   "cell_type": "code",
   "execution_count": 160,
   "metadata": {},
   "outputs": [
    {
     "name": "stdout",
     "output_type": "stream",
     "text": [
      "cost of a new machine: 680\n",
      "optimal utility: [ 7.54957895e+02  7.27730985e+02  5.36320872e+02  3.89832420e+02\n",
      "  2.74955509e+02  1.84665350e+02  1.14590965e+02  6.17374251e+01\n",
      "  2.39179561e+01 -5.37894272e-01]\n",
      "optimal policy: ['USE', 'USE', 'USE', 'USE', 'USE', 'USE', 'USE', 'USE', 'USE', 'REPLACE']\n"
     ]
    }
   ],
   "source": [
    "beta=0.9\n",
    "U_result,action_result=bonusValueIteration(U_star,beta=beta)\n",
    "print('optimal utility:',U_result)\n",
    "print('optimal policy:',action_result)"
   ]
  },
  {
   "cell_type": "code",
   "execution_count": 146,
   "metadata": {},
   "outputs": [
    {
     "data": {
      "text/plain": [
       "-250"
      ]
     },
     "execution_count": 146,
     "metadata": {},
     "output_type": "execute_result"
    }
   ],
   "source": [
    "REPLACE"
   ]
  },
  {
   "cell_type": "code",
   "execution_count": null,
   "metadata": {},
   "outputs": [],
   "source": []
  }
 ],
 "metadata": {
  "kernelspec": {
   "display_name": "Python 3",
   "language": "python",
   "name": "python3"
  },
  "language_info": {
   "codemirror_mode": {
    "name": "ipython",
    "version": 3
   },
   "file_extension": ".py",
   "mimetype": "text/x-python",
   "name": "python",
   "nbconvert_exporter": "python",
   "pygments_lexer": "ipython3",
   "version": "3.7.1"
  }
 },
 "nbformat": 4,
 "nbformat_minor": 2
}
