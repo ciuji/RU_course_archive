{
 "cells": [
  {
   "cell_type": "code",
   "execution_count": 1,
   "metadata": {},
   "outputs": [],
   "source": [
    "from sklearn.datasets import load_digits\n",
    "import matplotlib.pyplot as plt\n",
    "from mpl_toolkits.mplot3d import Axes3D\n",
    "import numpy as np\n",
    "from numpy.linalg import cholesky\n",
    "\n",
    "images, labels = load_digits(2,return_X_y=True)\n",
    "#training set\n",
    "training_images=images[:300]\n",
    "training_labels=labels[:300]\n",
    "#test set\n",
    "test_images=images[300:]\n",
    "test_labels=labels[300:]"
   ]
  },
  {
   "cell_type": "markdown",
   "metadata": {},
   "source": [
    "# k-NN Classification Using 2-D Features"
   ]
  },
  {
   "cell_type": "code",
   "execution_count": 6,
   "metadata": {},
   "outputs": [],
   "source": [
    "class my_pca:\n",
    "    def __init__(self,arr,n=0):\n",
    "        mean_arr=np.mean(arr,axis=0)\n",
    "        center_arr=mean_arr-arr\n",
    "        u,s,v=np.linalg.svd(center_arr)\n",
    "        self.u=u\n",
    "        self.s=s\n",
    "        \n",
    "        if(n==0):\n",
    "            self.n=self.getk(center_arr)\n",
    "            #print(self.n)\n",
    "        else:\n",
    "            self.n=n\n",
    "        \n",
    "        max_abs_cols = np.argmax(np.abs(u), axis=0)\n",
    "        signs = np.sign(u[max_abs_cols, range(u.shape[1])])\n",
    "        u *= signs\n",
    "        #v *= signs[:, np.newaxis]\n",
    "        self.u=u\n",
    "        principal_arr=u[:,:self.n]\n",
    "        principal_arr*=s[:self.n]\n",
    "        self.prin=principal_arr.copy()\n",
    "    \n",
    "    def apply(self,arr,n):\n",
    "        \n",
    "        \n",
    "    def getk(self,arr):\n",
    "        cum_sum=0\n",
    "        data_energy=np.linalg.norm(arr)**2\n",
    "        for i in range(len(self.s)):\n",
    "            cum_sum=cum_sum+self.s[i]**2\n",
    "            if(cum_sum/data_energy>=0.95):\n",
    "                return i+1\n",
    "            "
   ]
  },
  {
   "cell_type": "code",
   "execution_count": 7,
   "metadata": {},
   "outputs": [],
   "source": [
    "#use sklearn.decomposition.PCA\n",
    "#from sklearn import decomposition\n",
    "#pca=decomposition.PCA(n_components=2)\n",
    "#pca.fit(training_images)\n",
    "#rain_pcaTrans=pca.transform(training_images)\n",
    "#pca.fit(test_images)\n",
    "#test_pcaTrans=pca.transform(test_images)"
   ]
  },
  {
   "cell_type": "code",
   "execution_count": 8,
   "metadata": {},
   "outputs": [],
   "source": [
    "#calculate the pca\n",
    "train_pca2=my_pca(training_images,2)\n",
    "test_pca2=my_pca(test_images,2)"
   ]
  },
  {
   "cell_type": "code",
   "execution_count": 9,
   "metadata": {},
   "outputs": [
    {
     "data": {
      "image/png": "[encoded data removed]",
      "text/plain": [
       "<Figure size 432x288 with 1 Axes>"
      ]
     },
     "metadata": {
      "needs_background": "light"
     },
     "output_type": "display_data"
    }
   ],
   "source": [
    "fig=plt.figure()\n",
    "train_pca0=train_pca2.prin[training_labels==0]\n",
    "train_pca1=train_pca2.prin[training_labels==1]\n",
    "\n",
    "plt.scatter(train_pca0[:,0],train_pca0[:,1],c='r',label='digit 0')\n",
    "plt.scatter(train_pca1[:,0],train_pca1[:,1],c='g',label='digit 1')\n",
    "plt.title(\"two-dimentional features of training images:\")\n",
    "fig.legend()\n",
    "plt.show()"
   ]
  },
  {
   "cell_type": "code",
   "execution_count": 10,
   "metadata": {},
   "outputs": [],
   "source": [
    "#compare with using sklearn.neighbors.KNeighborsClassifier\n",
    "#from sklearn.neighbors import KNeighborsClassifier\n",
    "#neigh=KNeighborsClassifier(n_neighbors=5)\n",
    "#neigh.fit(train_pcaTrans,training_labels)\n",
    "#pca.fit(test_images)\n",
    "#test_pcaTrans=pca.transform(test_images)\n",
    "#predit_labels=neigh.predict(test_pcaTrans)\n",
    "#b=np.bitwise_xor(predit_labels,test_labels)\n",
    "#a=test_images[b==1]"
   ]
  },
  {
   "cell_type": "code",
   "execution_count": 11,
   "metadata": {},
   "outputs": [],
   "source": [
    "class my_KNN():\n",
    "    def __init__(self,point):\n",
    "        norm=np.zeros((300,2))\n",
    "        norm_list=[]\n",
    "        for i in range(0,300):\n",
    "            item=[np.linalg.norm(point-train_pca2.prin[i]),training_labels[i]]\n",
    "            norm[i]=item\n",
    "        sort_data=norm[norm[:,0].argsort()]\n",
    "        self.sort_data=sort_data\n",
    "        sign0=0\n",
    "        sign1=0\n",
    "        self.label=1\n",
    "        for i in range(5):\n",
    "            if(sort_data[i,1]==1):\n",
    "                sign1+=1\n",
    "            else:\n",
    "                sign0+=1\n",
    "        if(sign0>sign1):\n",
    "            self.label=0"
   ]
  },
  {
   "cell_type": "code",
   "execution_count": 12,
   "metadata": {},
   "outputs": [],
   "source": [
    "predict_labels=[]\n",
    "for i in range(len(test_images)):\n",
    "    item_label=my_KNN(test_pca2.prin[i])\n",
    "    predict_labels.append(item_label.label)\n",
    "predict_sign = predict_labels^test_labels\n",
    "#print(predict_labels)"
   ]
  },
  {
   "cell_type": "code",
   "execution_count": 13,
   "metadata": {},
   "outputs": [
    {
     "data": {
      "image/png": "[encoded data removed]",
      "text/plain": [
       "<Figure size 432x288 with 1 Axes>"
      ]
     },
     "metadata": {
      "needs_background": "light"
     },
     "output_type": "display_data"
    }
   ],
   "source": [
    "fig=plt.figure()\n",
    "right_predicted=test_pca2.prin[predict_sign==0]\n",
    "wrong_predicted=test_pca2.prin[predict_sign==1]\n",
    "plt.scatter(right_predicted[:,0],right_predicted[:,1],c='b',label='right')\n",
    "plt.scatter(wrong_predicted[:,0],wrong_predicted[:,1],c='black',label='wrong')\n",
    "plt.title(\"two-dimentional features of test images:\\n\")\n",
    "fig.legend()\n",
    "plt.show()"
   ]
  },
  {
   "cell_type": "code",
   "execution_count": 14,
   "metadata": {},
   "outputs": [
    {
     "data": {
      "image/png": "[encoded data removed]",
      "text/plain": [
       "<Figure size 432x288 with 1 Axes>"
      ]
     },
     "metadata": {
      "needs_background": "light"
     },
     "output_type": "display_data"
    }
   ],
   "source": [
    "fig=plt.figure()\n",
    "\n",
    "right_predicted=test_pca2.prin[predict_sign==0]\n",
    "wrong_predicted=test_pca2.prin[predict_sign==1]\n",
    "\n",
    "plt.title(\"two-dimentional features of\\n test images and training images:\")\n",
    "plt.scatter(train_pca0[:,0],train_pca0[:,1],c='r',label='digit 0')\n",
    "plt.scatter(train_pca1[:,0],train_pca1[:,1],c='g',label='digit 1')\n",
    "plt.scatter(right_predicted[:,0],right_predicted[:,1],c='b',label='right')\n",
    "plt.scatter(wrong_predicted[:,0],wrong_predicted[:,1],c='black',label='wrong')\n",
    "fig.legend()\n",
    "plt.show()"
   ]
  },
  {
   "cell_type": "code",
   "execution_count": 15,
   "metadata": {},
   "outputs": [
    {
     "name": "stdout",
     "output_type": "stream",
     "text": [
      "average classification error: 0.0\n"
     ]
    }
   ],
   "source": [
    "error=sum(predict_sign)/60\n",
    "print (\"average classification error:\",error)"
   ]
  },
  {
   "cell_type": "markdown",
   "metadata": {},
   "source": [
    "# k-NN Classification Using Higher-dimensional Features"
   ]
  },
  {
   "cell_type": "code",
   "execution_count": 16,
   "metadata": {},
   "outputs": [],
   "source": [
    "train_pcaR=my_pca(training_images)\n",
    "test_pcaR=my_pca(test_images,train_pcaR.n)"
   ]
  },
  {
   "cell_type": "code",
   "execution_count": 17,
   "metadata": {},
   "outputs": [],
   "source": [
    "class my_KNN2():\n",
    "    def __init__(self,data,k,new=0):\n",
    "        predict_labels=[]\n",
    "        if(new):\n",
    "            train_data=new_pca(training_images,19)\n",
    "        else:\n",
    "            train_data=my_pca(training_images,19)\n",
    "        for i in range(len(test_images)):\n",
    "            item_label=self.getLabel(train_data,data.prin[i],k)\n",
    "            predict_labels.append(self.label)\n",
    "        self.predict_sign = predict_labels^test_labels\n",
    "        \n",
    "    def getLabel(self,train_data,point,k):\n",
    "        norm=np.zeros((300,2))\n",
    "        norm_list=[]\n",
    "        for i in range(0,300):\n",
    "            item=[np.linalg.norm(point-train_data.prin[i]),training_labels[i]]\n",
    "            norm[i]=item\n",
    "        sort_data=norm[norm[:,0].argsort()]\n",
    "        self.sort_data=sort_data\n",
    "        sign0=0\n",
    "        sign1=0\n",
    "        self.label=1\n",
    "        for i in range(k):\n",
    "            if(sort_data[i,1]==1):\n",
    "                sign1+=1\n",
    "            else:\n",
    "                sign0+=1\n",
    "        if(sign0>sign1):\n",
    "            self.label=0\n",
    "    def getError(self):\n",
    "        error=sum(self.predict_sign)/60\n",
    "        return error\n",
    "\n",
    "        "
   ]
  },
  {
   "cell_type": "code",
   "execution_count": 24,
   "metadata": {},
   "outputs": [
    {
     "name": "stdout",
     "output_type": "stream",
     "text": [
      "error of k=1: 0.0\n",
      "error of k=3: 0.0\n",
      "error of k=5: 0.0\n",
      "error of k=7: 0.0\n",
      "error of k=9: 0.0\n"
     ]
    }
   ],
   "source": [
    "a=my_KNN2(test_pcaR,1)\n",
    "b=my_KNN2(test_pcaR,3)\n",
    "c=my_KNN2(test_pcaR,5)\n",
    "d=my_KNN2(test_pcaR,7)\n",
    "e=my_KNN2(test_pcaR,9)\n",
    "arr_num=[1,3,5,7,9]\n",
    "print(\"error of k=1:\",a.getError())\n",
    "print(\"error of k=3:\",b.getError())\n",
    "print(\"error of k=5:\",c.getError())\n",
    "print(\"error of k=7:\",d.getError())\n",
    "print(\"error of k=9:\",e.getError())\n",
    "arr_error=[a.getError(),b.getError(),c.getError(),d.getError(),e.getError()]"
   ]
  },
  {
   "cell_type": "code",
   "execution_count": 20,
   "metadata": {
    "scrolled": true
   },
   "outputs": [
    {
     "data": {
      "image/png": "[encoded data removed]",
      "text/plain": [
       "<Figure size 432x288 with 1 Axes>"
      ]
     },
     "metadata": {
      "needs_background": "light"
     },
     "output_type": "display_data"
    }
   ],
   "source": [
    "fig=plt.figure()\n",
    "plt.plot(arr_num,arr_error)\n",
    "plt.xlabel(\"value of k\")\n",
    "plt.ylabel(\"average classification error\")\n",
    "plt.show()"
   ]
  },
  {
   "cell_type": "markdown",
   "metadata": {},
   "source": [
    "As you can see, from 1 to 9 the average error would always be 0. So in this case we can choose k = 1 to reduce the time of calculation."
   ]
  },
  {
   "cell_type": "markdown",
   "metadata": {},
   "source": [
    "# further improvment"
   ]
  },
  {
   "cell_type": "markdown",
   "metadata": {},
   "source": [
    "I analysis my pca and compare it to the sklearn.decomposition.PCA. \n",
    "\n",
    "I found that I fortgot to multiply the singular value to the singular vectors to get the transform data When I do the pca. \n",
    "\n",
    "$XV=UΣ$ is the key to transform.\n",
    "\n",
    "What's more, I do this to ensure the sign of singular values and singular vectors wolud no change in different case.\n",
    "\n",
    "```python\n",
    "max_abs_cols = np.argmax(np.abs(u), axis=0)\n",
    "signs = np.sign(u[max_abs_cols, range(u.shape[1])])\n",
    "u *= signs\n",
    "```\n",
    "\n",
    "So I add  u[:n]*=s[:n] to my pca function to transform the data. It can make sure I can get the right transform data.\n",
    "\n",
    "Eventually, I get a better result. I get no error of all the k."
   ]
  },
  {
   "cell_type": "code",
   "execution_count": 23,
   "metadata": {
    "scrolled": true
   },
   "outputs": [],
   "source": [
    "\"\"\"class new_pca:\n",
    "    def __init__(self,arr,n=0):\n",
    "        mean_arr=np.mean(arr,axis=0)\n",
    "        center_arr=mean_arr-arr\n",
    "        u,s,v=np.linalg.svd(center_arr)\n",
    "        self.u=u\n",
    "        self.s=s\n",
    "        \n",
    "        if(n==0):\n",
    "            self.n=self.getk(center_arr)\n",
    "            #print(self.n)\n",
    "        else:\n",
    "            self.n=n\n",
    "        \n",
    "        max_abs_cols = np.argmax(np.abs(u), axis=0)\n",
    "        signs = np.sign(u[max_abs_cols, range(u.shape[1])])\n",
    "        u *= signs\n",
    "        #v *= signs[:, np.newaxis]\n",
    "\n",
    "        principal_arr=u[:,:self.n]\n",
    "        \n",
    "        #!!!!!key of the new pca\n",
    "        principal_arr*=s[:self.n]\n",
    "        \n",
    "        self.prin=principal_arr.copy()\n",
    "    def getk(self,arr):\n",
    "        cum_sum=0\n",
    "        data_energy=np.linalg.norm(arr)**2\n",
    "        for i in range(len(self.s)):\n",
    "            cum_sum=cum_sum+self.s[i]**2\n",
    "            if(cum_sum/data_energy>=0.95):\n",
    "                return i+1\n",
    "            \n",
    "new_train_pcaR=new_pca(training_images)\n",
    "new_test_pcaR=new_pca(test_images,train_pcaR.n)\n",
    "a=my_KNN2(new_test_pcaR,1,new=1)\n",
    "b=my_KNN2(new_test_pcaR,3,new=1)\n",
    "c=my_KNN2(new_test_pcaR,5,new=1)\n",
    "d=my_KNN2(new_test_pcaR,7,new=1)\n",
    "e=my_KNN2(new_test_pcaR,9,new=1)\n",
    "arr_num=[1,3,5,7,9]\n",
    "arr_error=[a.getError(),b.getError(),c.getError(),d.getError(),e.getError()]\n",
    "fig=plt.figure()\n",
    "plt.plot(arr_num,arr_error)\n",
    "plt.xlabel(\"value of k\")\n",
    "plt.ylabel(\"average classification error\")\n",
    "plt.title(\"reslut of the new pca\")\n",
    "plt.show()\"\"\"\n",
    "a=1"
   ]
  }
 ],
 "metadata": {
  "kernelspec": {
   "display_name": "Python 3",
   "language": "python",
   "name": "python3"
  },
  "language_info": {
   "codemirror_mode": {
    "name": "ipython",
    "version": 3
   },
   "file_extension": ".py",
   "mimetype": "text/x-python",
   "name": "python",
   "nbconvert_exporter": "python",
   "pygments_lexer": "ipython3",
   "version": "3.7.0"
  }
 },
 "nbformat": 4,
 "nbformat_minor": 2
}
