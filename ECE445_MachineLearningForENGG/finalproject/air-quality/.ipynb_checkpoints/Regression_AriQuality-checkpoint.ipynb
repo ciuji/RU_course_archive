{
 "cells": [
  {
   "cell_type": "markdown",
   "metadata": {},
   "source": [
    "## Regression Problem\n",
    "#### Dataset Description:  \n",
    "The dataset includes 9358 data samples of responses from 5 metal oxide chemical sensors embedded in an Air Quality Monitoring Device, recorded along with hours. The device was located on the field in a significantly polluted area in Italy. The data was collected to estimate benzene concentration with the response from the previously mentioned sensors, which are originally designed to monitor non-benzene substance concentration(i.e. there maybe a potential relationship between the concentration of benzene and the 5 kinds of non-benzene substance.).Consequently, the labels should be the true values of benzene concentration.  \n",
    "The dataset is provided in S. De Vito, E. Massera, M. Piga, L. Martinotto, G. Di Francia, On field calibration of an electronic nose for benzene estimation in an urban pollution monitoring scenario, Sensors and Actuators B: Chemical, Volume 129, Issue 2, 22 February 2008, Pages 750-757, ISSN 0925-4005.  "
   ]
  },
  {
   "cell_type": "markdown",
   "metadata": {},
   "source": [
    "### LS Solution Approach by Changlin Jiang\n",
    "#### Libraries and dataset importing"
   ]
  },
  {
   "cell_type": "code",
   "execution_count": 1,
   "metadata": {},
   "outputs": [],
   "source": [
    "# import libraries\n",
    "import csv\n",
    "import numpy as np\n",
    "from numpy import linalg as la\n",
    "import matplotlib.pyplot as plt\n",
    "import math"
   ]
  },
  {
   "cell_type": "code",
   "execution_count": 2,
   "metadata": {},
   "outputs": [],
   "source": [
    "# read dataset from csv file\n",
    "with open('AirQualityUCI.csv') as csv_file:\n",
    "    csv_reader=csv.reader(csv_file, delimiter=',')\n",
    "    date,time,CO_true,CO_measured,NMHC_true,C6H6_true,NMHC_measured,NOx_true,NOx_measured,NO2_true,NO2_measured,O3_measured,temp,RH,AH=[0 for i in range(9357)],[0 for i in range(9357)],[0 for i in range(9357)],[0 for i in range(9357)],[0 for i in range(9357)],[0 for i in range(9357)],[0 for i in range(9357)],[0 for i in range(9357)],[0 for i in range(9357)],[0 for i in range(9357)],[0 for i in range(9357)],[0 for i in range(9357)],[0 for i in range(9357)],[0 for i in range(9357)],[0 for i in range(9357)]\n",
    "    line_count=0\n",
    "    for row in csv_reader:\n",
    "        if row[0]==\"\":\n",
    "            break;\n",
    "        if(line_count!=0):\n",
    "            date[line_count-1],time[line_count-1],CO_true[line_count-1],CO_measured[line_count-1],NMHC_true[line_count-1],C6H6_true[line_count-1],NMHC_measured[line_count-1],NOx_true[line_count-1],NOx_measured[line_count-1],NO2_true[line_count-1],NO2_measured[line_count-1],O3_measured[line_count-1],temp[line_count-1],RH[line_count-1],AH[line_count-1]=row[0],row[1],row[2],row[3],row[4],row[5],row[6],row[7],row[8],row[9],row[10],row[11],row[12],row[13],row[14]\n",
    "        line_count+=1"
   ]
  },
  {
   "cell_type": "markdown",
   "metadata": {},
   "source": [
    "#### Data Cleaning\n",
    "The missing values in the dataset was tagged with -200. To clean the dataset, the missing values are filled with the mean of the dimension."
   ]
  },
  {
   "cell_type": "code",
   "execution_count": 3,
   "metadata": {
    "scrolled": true
   },
   "outputs": [],
   "source": [
    "# clean the data and label by replacing invalid value with mean\n",
    "def clean_replace(data,labels):\n",
    "    # clean the data\n",
    "    m,n=np.shape(data)\n",
    "    mean=[0 for i in range(m)]\n",
    "    for i in range(m):\n",
    "        sum=0\n",
    "        count=0\n",
    "        for j in range(n):\n",
    "            if(data[i,j]>=0):\n",
    "                sum+=data[i,j]\n",
    "                count+=1\n",
    "        mean[i]=sum/count\n",
    "    for i in range(m):\n",
    "        for j in range(n):\n",
    "            if data[i,j]<0:\n",
    "                data[i,j]=mean[i]\n",
    "\n",
    "    # clean the label\n",
    "    labels=np.array(labels).astype(np.float64)\n",
    "    sum=0\n",
    "    count=0\n",
    "    for i in range(n):\n",
    "        if labels[i]>=0:\n",
    "            sum+=labels[i]\n",
    "            count+=1\n",
    "    mean=sum/count\n",
    "    for i in range(n):\n",
    "        if labels[i]<0:\n",
    "            labels[i]=mean\n",
    "    return data,labels"
   ]
  },
  {
   "cell_type": "markdown",
   "metadata": {},
   "source": [
    "#### LS solution implementation"
   ]
  },
  {
   "cell_type": "code",
   "execution_count": 4,
   "metadata": {},
   "outputs": [],
   "source": [
    "# implement LS solution\n",
    "def ls_solution(data,labels):\n",
    "    m,n=np.shape(data)\n",
    "    data_hat=np.row_stack((data,[1 for i in range(n)])).T.astype(np.float64)\n",
    "    w=la.inv(data_hat.T*data_hat)*data_hat.T*labels.T\n",
    "    return w"
   ]
  },
  {
   "cell_type": "markdown",
   "metadata": {},
   "source": [
    "#### Cross Validation Implementation"
   ]
  },
  {
   "cell_type": "code",
   "execution_count": 5,
   "metadata": {},
   "outputs": [],
   "source": [
    "# Build cross validation function, return regression error for each test and derived labels\n",
    "def cross_validation(data,labels,k:int):\n",
    "    m,n=np.shape(data)\n",
    "    data_with_labels=np.mat(np.row_stack((data,labels))).astype(np.float64)\n",
    "    a=n//k\n",
    "    fold=[0 for i in range(k)]\n",
    "    for i in range(k):\n",
    "        if i!=k-1:\n",
    "            fold[i]=data_with_labels[:,i*a:(i+1)*a].astype(np.float64)\n",
    "        else:\n",
    "            fold[i]=data_with_labels[:,i*a:].astype(np.float64)\n",
    "    reg_error=[0 for i in range(k)]\n",
    "    labels_derived=np.mat([0 for i in range(n)]).astype(np.float64).T\n",
    "    \n",
    "    for i in range(k):\n",
    "        test_data=fold[i].astype(np.float64)\n",
    "        mi,ni=np.shape(fold[i])\n",
    "        training_data=np.mat([[0 for j in range(n-ni)] for i in range(m+1)]).astype(np.float64)\n",
    "        sample_number=0\n",
    "        for j in range(k):\n",
    "            if j==i:\n",
    "                continue\n",
    "            mj,nj=np.shape(fold[j])\n",
    "            training_data[:,sample_number:sample_number+nj]=fold[j]\n",
    "            sample_number=sample_number+nj\n",
    "        # Algorithm implementation\n",
    "        w=ls_solution(training_data[:m,:],training_data[m,:])\n",
    "        test_data_hat=np.row_stack((test_data[:m,:],np.mat([1 for x in range(ni)])))\n",
    "        y=test_data_hat.T*w\n",
    "        if i!=k-1:\n",
    "            labels_derived[i*a:(i+1)*a]=y\n",
    "        else:\n",
    "            labels_derived[i*a:]=y\n",
    "        reg_error[i]=la.norm(y-labels,2)\n",
    "    overall_error=la.norm(reg_error)\n",
    "    return reg_error,labels_derived,overall_error"
   ]
  },
  {
   "cell_type": "markdown",
   "metadata": {},
   "source": [
    "#### Overall process implementation\n",
    "The pipeline implemented is as below:  \n",
    "- Data importing:  \n",
    "Import data from csv file and save each dimension into a individual list.\n",
    "- Data cleaning:\n",
    "Fill all the missing values in data with the mean of the dimension.\n",
    "- Algorithm implement:\n",
    "Implement LS solution to learn the dataset.\n",
    "- Algorithm evaluation:\n",
    "Build K-folds cross validation to compute the regression error of the algorithm\n",
    "- Parameter determination:\n",
    "Run K-folds cross validation with K in a linear array to find the best K for this certain dataset."
   ]
  },
  {
   "cell_type": "code",
   "execution_count": 6,
   "metadata": {},
   "outputs": [],
   "source": [
    "# Define overall process function to show the results\n",
    "def ls_regression(data,labels):\n",
    "    m,n=np.shape(np.mat(data))\n",
    "    if m>1:\n",
    "        data=np.row_stack(data)\n",
    "    data=np.mat(data).astype(np.float64)\n",
    "    data,labels=clean_replace(data,labels)\n",
    "    # Implement LS regression nand cross validation to find the best K\n",
    "    k=[2,3,4,5,6,7,8,9,10]\n",
    "    overall_error=[0 for i in range(9)]\n",
    "    for i in range(9):\n",
    "        overall_error[i]=cross_validation(data,labels,k[i])[2]\n",
    "    # Plot the K-Error plot to show the best K\n",
    "    plt.figure(1)\n",
    "    plt.plot(k,overall_error)\n",
    "    plt.title('K-Error Plot')\n",
    "    print(\"The best K is \",k[overall_error.index(min(overall_error))])\n",
    "    # Plot the regression result derived by the best K in a predicted-versus-measured scatter plot\n",
    "    reg_error,labels_derived,overall_error=cross_validation(data,labels,k[overall_error.index(min(overall_error))])\n",
    "    labels_derived=np.array(labels_derived).reshape(-1,1)\n",
    "    labels=np.array(labels).reshape(1,-1).T\n",
    "    plt.figure(2)\n",
    "    plt.scatter(labels,labels_derived,color='b')\n",
    "    ymax=max([max(labels),max(labels_derived)])\n",
    "    plt.plot([0,max(labels)],[0,max(labels)], color='r', linewidth=1, alpha=0.6)\n",
    "    plt.xlabel('Predicted Labels')\n",
    "    plt.ylabel('Measured Labels')\n",
    "    plt.title('Overall L2-Loss Regression Error={}'.format(overall_error))"
   ]
  },
  {
   "cell_type": "code",
   "execution_count": 19,
   "metadata": {},
   "outputs": [],
   "source": [
    "data=(CO_measured,NMHC_measured,NOx_measured,NO2_measured,O3_measured,temp,RH,AH)\n",
    "labels=C6H6_true\n",
    "#ls_regression(data,labels)"
   ]
  },
  {
   "cell_type": "code",
   "execution_count": 410,
   "metadata": {},
   "outputs": [
    {
     "name": "stdout",
     "output_type": "stream",
     "text": [
      "compare to sklearn least regression\n",
      "error: 114.61370295241286\n"
     ]
    },
    {
     "data": {
      "image/png": "[encoded data removed]",
      "text/plain": [
       "<Figure size 432x288 with 1 Axes>"
      ]
     },
     "metadata": {
      "needs_background": "light"
     },
     "output_type": "display_data"
    }
   ],
   "source": [
    "print(\"compare to sklearn least regression\")\n",
    "from sklearn import linear_model\n",
    "reg=linear_model.LinearRegression()\n",
    "reg.fit(clean_data.T,labels)\n",
    "y=reg.predict(clean_data.T)\n",
    "print (\"error:\",np.linalg.norm(labels-y))\n",
    "plt.scatter(labels,y)\n",
    "plt.show()"
   ]
  },
  {
   "cell_type": "markdown",
   "metadata": {},
   "source": [
    "## random forest approach by Chaoji Zuo"
   ]
  },
  {
   "cell_type": "markdown",
   "metadata": {},
   "source": [
    "When I started solving this problem, I did not use any other optimazation methods, I just try to put all the cleaned data into the Random Forest Regression model and did not know clearly what would I get.\n",
    "\n",
    "And the result really surprise me, the error is really small and random forest looks like a perfect solution for this dataset."
   ]
  },
  {
   "cell_type": "code",
   "execution_count": 57,
   "metadata": {},
   "outputs": [],
   "source": [
    "from sklearn.ensemble import RandomForestRegressor\n",
    "data=np.array(data).astype(np.float64)\n",
    "data,labels=clean_replace(data,labels)\n",
    "clean_data=pd.DataFrame(data.T)\n",
    "clean_data[\"y\"]=pd.Series(labels)\n",
    "labels=clean_data[\"y\"]\n",
    "clean_data=clean_data.drop([\"y\"],axis=1)\n",
    "X_train, y_train = clean_data[:6000],labels[:6000]\n",
    "X_test,y_test=clean_data[6000:],labels[6000:]"
   ]
  },
  {
   "cell_type": "code",
   "execution_count": 58,
   "metadata": {},
   "outputs": [
    {
     "data": {
      "text/html": [
       "<div>\n",
       "<style scoped>\n",
       "    .dataframe tbody tr th:only-of-type {\n",
       "        vertical-align: middle;\n",
       "    }\n",
       "\n",
       "    .dataframe tbody tr th {\n",
       "        vertical-align: top;\n",
       "    }\n",
       "\n",
       "    .dataframe thead th {\n",
       "        text-align: right;\n",
       "    }\n",
       "</style>\n",
       "<table border=\"1\" class=\"dataframe\">\n",
       "  <thead>\n",
       "    <tr style=\"text-align: right;\">\n",
       "      <th></th>\n",
       "      <th>0</th>\n",
       "      <th>1</th>\n",
       "      <th>2</th>\n",
       "      <th>3</th>\n",
       "      <th>4</th>\n",
       "      <th>5</th>\n",
       "      <th>6</th>\n",
       "      <th>7</th>\n",
       "    </tr>\n",
       "  </thead>\n",
       "  <tbody>\n",
       "    <tr>\n",
       "      <th>642</th>\n",
       "      <td>1369.0</td>\n",
       "      <td>1132.0</td>\n",
       "      <td>715.0</td>\n",
       "      <td>1818.0</td>\n",
       "      <td>1162.0</td>\n",
       "      <td>20.9</td>\n",
       "      <td>36.6</td>\n",
       "      <td>0.8939</td>\n",
       "    </tr>\n",
       "    <tr>\n",
       "      <th>1407</th>\n",
       "      <td>1079.0</td>\n",
       "      <td>885.0</td>\n",
       "      <td>884.0</td>\n",
       "      <td>1588.0</td>\n",
       "      <td>974.0</td>\n",
       "      <td>13.6</td>\n",
       "      <td>66.1</td>\n",
       "      <td>1.0236</td>\n",
       "    </tr>\n",
       "  </tbody>\n",
       "</table>\n",
       "</div>"
      ],
      "text/plain": [
       "           0       1      2       3       4     5     6       7\n",
       "642   1369.0  1132.0  715.0  1818.0  1162.0  20.9  36.6  0.8939\n",
       "1407  1079.0   885.0  884.0  1588.0   974.0  13.6  66.1  1.0236"
      ]
     },
     "execution_count": 58,
     "metadata": {},
     "output_type": "execute_result"
    }
   ],
   "source": [
    "clean_data.sample(2)"
   ]
  },
  {
   "cell_type": "code",
   "execution_count": 59,
   "metadata": {},
   "outputs": [
    {
     "data": {
      "text/plain": [
       "RandomForestRegressor(bootstrap=True, criterion='mse', max_depth=None,\n",
       "           max_features='auto', max_leaf_nodes=None,\n",
       "           min_impurity_decrease=0.0, min_impurity_split=None,\n",
       "           min_samples_leaf=1, min_samples_split=2,\n",
       "           min_weight_fraction_leaf=0.0, n_estimators=10, n_jobs=1,\n",
       "           oob_score=False, random_state=None, verbose=0, warm_start=False)"
      ]
     },
     "execution_count": 59,
     "metadata": {},
     "output_type": "execute_result"
    }
   ],
   "source": [
    "regr=RandomForestRegressor()\n",
    "regr.fit(clean_data,labels)"
   ]
  },
  {
   "cell_type": "code",
   "execution_count": 60,
   "metadata": {},
   "outputs": [
    {
     "data": {
      "image/png": "[encoded data removed]",
      "text/plain": [
       "<Figure size 432x288 with 1 Axes>"
      ]
     },
     "metadata": {
      "needs_background": "light"
     },
     "output_type": "display_data"
    },
    {
     "name": "stdout",
     "output_type": "stream",
     "text": [
      "2-norm error: 6.1140821060891914\n",
      "R^2 score of predict values: 0.9998867707065782\n"
     ]
    }
   ],
   "source": [
    "\n",
    "plt.scatter(res,labels)\n",
    "plt.plot([min(labels),max(labels)],[min(labels),max(labels)],c='r')\n",
    "plt.title(\"first try on the whole datasets\")\n",
    "plt.xlabel(\"true values\")\n",
    "plt.ylabel(\"predict values\")\n",
    "plt.show()\n",
    "print(\"2-norm error:\",np.linalg.norm(res-labels))\n",
    "print(\"R^2 score of predict values:\",regr.score(clean_data,labels))"
   ]
  },
  {
   "cell_type": "markdown",
   "metadata": {},
   "source": [
    "However, this may be just because I use the training data to do the test. And it may have some kind of over-fitting so I then leave some test data and train the model using the training data.\n",
    "\n",
    "And It still get a great performance."
   ]
  },
  {
   "cell_type": "code",
   "execution_count": 61,
   "metadata": {},
   "outputs": [
    {
     "data": {
      "image/png": "[encoded data removed]",
      "text/plain": [
       "<Figure size 432x288 with 1 Axes>"
      ]
     },
     "metadata": {
      "needs_background": "light"
     },
     "output_type": "display_data"
    },
    {
     "name": "stdout",
     "output_type": "stream",
     "text": [
      "2-norm error: 16.226514019516422\n",
      "R^2 score of predict values: 0.9984874492041231\n"
     ]
    }
   ],
   "source": [
    "regr=RandomForestRegressor()\n",
    "regr.fit(X_train,y_train)\n",
    "res=regr.predict(X_test)\n",
    "\n",
    "plt.scatter(y_test,res)\n",
    "plt.plot([min(y_test),max(y_test)],[min(y_test),max(y_test)],c='r')\n",
    "plt.title(\"second try on the test data (default parameters)\")\n",
    "plt.xlabel(\"true values\")\n",
    "plt.ylabel(\"predict values\")\n",
    "plt.show()\n",
    "print(\"2-norm error:\",np.linalg.norm(res-y_test))\n",
    "print(\"R^2 score of predict values:\",regr.score(X_test,y_test))"
   ]
  },
  {
   "cell_type": "markdown",
   "metadata": {},
   "source": [
    "So I think this model doesn't have a over-fitting problem.\n",
    "\n",
    "It is a very sutiable model to this dataset.\n",
    "\n",
    "Since I just use the default parameters, I think maybe I can get a even better result by using the cross validation to train the best parameters."
   ]
  },
  {
   "cell_type": "code",
   "execution_count": 64,
   "metadata": {},
   "outputs": [
    {
     "name": "stdout",
     "output_type": "stream",
     "text": [
      "Best parameters:\n",
      "{'min_samples_leaf': 1, 'n_estimators': 20}\n"
     ]
    }
   ],
   "source": [
    "from sklearn.model_selection import GridSearchCV\n",
    "\n",
    "X_train, y_train = clean_data[:6000],labels[:6000]\n",
    "\n",
    "rfr = RandomForestRegressor()\n",
    "tuned_parameters = [{'min_samples_leaf':[1,2,3], 'n_estimators':[10,20,200]}]\n",
    "\n",
    "clf = GridSearchCV(estimator=rfr,param_grid=tuned_parameters, cv=5, n_jobs=1)\n",
    "\n",
    "clf.fit(X_train, y_train)\n",
    "print('Best parameters:')\n",
    "print(clf.best_params_)"
   ]
  },
  {
   "cell_type": "code",
   "execution_count": 65,
   "metadata": {},
   "outputs": [
    {
     "data": {
      "image/png": "[encoded data removed]",
      "text/plain": [
       "<Figure size 432x288 with 1 Axes>"
      ]
     },
     "metadata": {
      "needs_background": "light"
     },
     "output_type": "display_data"
    },
    {
     "name": "stdout",
     "output_type": "stream",
     "text": [
      "2-norm error: 7.18762263679562\n",
      "R^2 score of predict values: 0.9997032231332875\n"
     ]
    }
   ],
   "source": [
    "regr=RandomForestRegressor(n_estimators=20,min_samples_leaf=1)\n",
    "regr.fit(X_test,y_test)\n",
    "res=regr.predict(X_test)\n",
    "\n",
    "plt.scatter(y_test,res)\n",
    "plt.plot([min(y_test),max(y_test)],[min(y_test),max(y_test)],c='r')\n",
    "plt.title(\"third try on the test data (n_estimators=20,min_samples_leaf=1)\")\n",
    "plt.xlabel(\"true values\")\n",
    "plt.ylabel(\"predict values\")\n",
    "plt.show()\n",
    "\n",
    "print(\"2-norm error:\",np.linalg.norm(res-y_test))\n",
    "print(\"R^2 score of predict values:\",regr.score(X_test,y_test))"
   ]
  },
  {
   "cell_type": "markdown",
   "metadata": {},
   "source": [
    "I really got a better solution using the best parameters of \"min_samples_leaf\" and \"n_estimators\".\n",
    "\n",
    "But the progress was not very significant, because the former soultion is great enough."
   ]
  },
  {
   "cell_type": "markdown",
   "metadata": {},
   "source": [
    "### model review"
   ]
  },
  {
   "cell_type": "code",
   "execution_count": 339,
   "metadata": {},
   "outputs": [
    {
     "name": "stdout",
     "output_type": "stream",
     "text": [
      "shape of decision path: (3357, 15190)\n"
     ]
    }
   ],
   "source": [
    "print(\"shape of decision path:\",regr.decision_path(X_test)[0].toarray().shape)"
   ]
  },
  {
   "cell_type": "code",
   "execution_count": 393,
   "metadata": {},
   "outputs": [],
   "source": [
    "from sklearn.tree import export_graphviz\n",
    "estimator = regr.estimators_[0]\n",
    "export_graphviz(estimator,feature_names=['CO_measured','NMHC_measured','NOx_measured','NO2_measured','O3_measured','temp','RH','AH'],out_file='tree.dot')"
   ]
  },
  {
   "cell_type": "code",
   "execution_count": 382,
   "metadata": {},
   "outputs": [
    {
     "name": "stdout",
     "output_type": "stream",
     "text": [
      "feature importances:\n",
      "[3.82202864e-04 9.98980131e-01 7.05026771e-05 1.45239431e-04\n",
      " 1.31129945e-05 8.53304633e-06 3.38726324e-04 6.15514960e-05]\n"
     ]
    }
   ],
   "source": [
    "print(\"feature importances:\")\n",
    "print(regr.feature_importances_)"
   ]
  },
  {
   "cell_type": "code",
   "execution_count": 401,
   "metadata": {},
   "outputs": [
    {
     "name": "stdout",
     "output_type": "stream",
     "text": [
      "error: 226.72020689446524\n"
     ]
    },
    {
     "data": {
      "image/png": "[encoded data removed]",
      "text/plain": [
       "<Figure size 432x288 with 1 Axes>"
      ]
     },
     "metadata": {
      "needs_background": "light"
     },
     "output_type": "display_data"
    }
   ],
   "source": [
    "data1=(CO_measured,NOx_measured,NO2_measured,O3_measured,temp,RH,AH)\n",
    "data1=np.array(data1).astype(np.float64)\n",
    "data1,labels=clean_replace(data1,labels)\n",
    "data1=np.array(data1)\n",
    "reg=linear_model.LinearRegression()\n",
    "reg.fit(data1.T,labels)\n",
    "y=reg.predict(data1.T)\n",
    "plt.scatter(labels,y)\n",
    "plt.title(\"least sqaure regression whitout the most importance feature\")\n",
    "print (\"error:\",np.linalg.norm(labels-y))"
   ]
  },
  {
   "cell_type": "markdown",
   "metadata": {},
   "source": [
    "#### Discussion:\n",
    "At the start of coding this algorithm, there was a great issue. The dataset was provided by UCI, which didn't tag the labels dimension in all the 14 dimensions. Picking the right attribute took a long period of time. The process was as below.  \n",
    "Firstly, I assumed UCI just provided this dataset for free-researching, i.e. there was no explicit attribute in all the attributes so that we could pick any one by our requirement to check our algorithm freely.  \n",
    "Our first pick was picking the true value of CO as the labels attribute and estimate it with the responses from the 5 sensors.Firstly I directly plotted a true-versus-measured plot of CO concentration to find out if it fitted linear model."
   ]
  },
  {
   "cell_type": "code",
   "execution_count": 12,
   "metadata": {},
   "outputs": [
    {
     "data": {
      "text/plain": [
       "Text(0.5,1,'CO_True VS CO_Measured')"
      ]
     },
     "execution_count": 12,
     "metadata": {},
     "output_type": "execute_result"
    },
    {
     "data": {
      "image/png": "[encoded data removed]",
      "text/plain": [
       "<Figure size 432x288 with 1 Axes>"
      ]
     },
     "metadata": {
      "needs_background": "light"
     },
     "output_type": "display_data"
    }
   ],
   "source": [
    "plt.scatter(CO_true,CO_measured)\n",
    "plt.title('CO_True VS CO_Measured')"
   ]
  },
  {
   "cell_type": "markdown",
   "metadata": {},
   "source": [
    "It can be indicated from the plot that the model is totally non-linear.The response of the sensor is likely to be random when the true concentration of CO is exactly at some certain value, plotted as vertical straight-line-like shapes in the scatter plot.  \n",
    "That was the reason why I decided to treat the problem as random model, and directly implement LS solution to find out one answer:\n",
    "Is there any potential relationships between the responses from the 5 sensors so that I can input all of them to get a better result on when measuring concentration of one certain kind of the substance? That is to say,if I input all the 5 measured attribute into regression algorithm, can I get a lower regression error to the true CO concentration than only inputting the measured CO concentration?  \n",
    "To find out the answer, firstly I put only the measured CO concentration into LS regression algorithm to get the error:"
   ]
  },
  {
   "cell_type": "code",
   "execution_count": 13,
   "metadata": {},
   "outputs": [
    {
     "name": "stdout",
     "output_type": "stream",
     "text": [
      "The best K is  2\n"
     ]
    },
    {
     "data": {
      "image/png": "[encoded data removed]",
      "text/plain": [
       "<Figure size 432x288 with 1 Axes>"
      ]
     },
     "metadata": {
      "needs_background": "light"
     },
     "output_type": "display_data"
    },
    {
     "data": {
      "image/png": "[encoded data removed]",
      "text/plain": [
       "<Figure size 432x288 with 1 Axes>"
      ]
     },
     "metadata": {
      "needs_background": "light"
     },
     "output_type": "display_data"
    }
   ],
   "source": [
    "ls_regression(CO_measured,CO_true)"
   ]
  },
  {
   "cell_type": "markdown",
   "metadata": {},
   "source": [
    "Then I implemented the algorithm with input dataset of all the 5 sensors responses, the result was:"
   ]
  },
  {
   "cell_type": "code",
   "execution_count": 14,
   "metadata": {},
   "outputs": [
    {
     "name": "stdout",
     "output_type": "stream",
     "text": [
      "The best K is  5\n"
     ]
    },
    {
     "data": {
      "image/png": "[encoded data removed]",
      "text/plain": [
       "<Figure size 432x288 with 1 Axes>"
      ]
     },
     "metadata": {
      "needs_background": "light"
     },
     "output_type": "display_data"
    },
    {
     "data": {
      "image/png": "[encoded data removed]",
      "text/plain": [
       "<Figure size 432x288 with 1 Axes>"
      ]
     },
     "metadata": {
      "needs_background": "light"
     },
     "output_type": "display_data"
    }
   ],
   "source": [
    "data=(CO_measured,NMHC_measured,NOx_measured,NO2_measured,O3_measured,temp,RH,AH)\n",
    "labels=CO_true\n",
    "ls_regression(data,labels)"
   ]
  },
  {
   "cell_type": "markdown",
   "metadata": {},
   "source": [
    "It can be indicated by comparing the two L2-Loss that there is no enhancement by adding more attributes to the input.It seems hard to continue using the same attribute as labels.  \n",
    "Finally I directly read the paper cited on the UCL dataset page and found out that the purpose of the collection of this dataset was to estimate the potential of true benzene concentration and the responses of sensors. By implementing the same algorithm on such data and labels input I got the above result.The result is the cell above this discussion section."
   ]
  },
  {
   "cell_type": "code",
   "execution_count": 8,
   "metadata": {},
   "outputs": [],
   "source": [
    "import pandas as pd"
   ]
  },
  {
   "cell_type": "code",
   "execution_count": 10,
   "metadata": {},
   "outputs": [],
   "source": [
    "alldata=pd.read_csv(\"AirQualityUCI.csv\")"
   ]
  },
  {
   "cell_type": "code",
   "execution_count": 14,
   "metadata": {},
   "outputs": [],
   "source": [
    "random_alldata=alldata.sample(frac=1)"
   ]
  },
  {
   "cell_type": "code",
   "execution_count": 17,
   "metadata": {},
   "outputs": [
    {
     "data": {
      "text/html": [
       "<div>\n",
       "<style scoped>\n",
       "    .dataframe tbody tr th:only-of-type {\n",
       "        vertical-align: middle;\n",
       "    }\n",
       "\n",
       "    .dataframe tbody tr th {\n",
       "        vertical-align: top;\n",
       "    }\n",
       "\n",
       "    .dataframe thead th {\n",
       "        text-align: right;\n",
       "    }\n",
       "</style>\n",
       "<table border=\"1\" class=\"dataframe\">\n",
       "  <thead>\n",
       "    <tr style=\"text-align: right;\">\n",
       "      <th></th>\n",
       "      <th>Date</th>\n",
       "      <th>Time</th>\n",
       "      <th>CO(GT)</th>\n",
       "      <th>PT08.S1(CO)</th>\n",
       "      <th>NMHC(GT)</th>\n",
       "      <th>C6H6(GT)</th>\n",
       "      <th>PT08.S2(NMHC)</th>\n",
       "      <th>NOx(GT)</th>\n",
       "      <th>PT08.S3(NOx)</th>\n",
       "      <th>NO2(GT)</th>\n",
       "      <th>PT08.S4(NO2)</th>\n",
       "      <th>PT08.S5(O3)</th>\n",
       "      <th>T</th>\n",
       "      <th>RH</th>\n",
       "      <th>AH</th>\n",
       "      <th>Unnamed: 15</th>\n",
       "      <th>Unnamed: 16</th>\n",
       "    </tr>\n",
       "  </thead>\n",
       "  <tbody>\n",
       "    <tr>\n",
       "      <th>1588</th>\n",
       "      <td>2004/5/15</td>\n",
       "      <td>22:00:00</td>\n",
       "      <td>1.6</td>\n",
       "      <td>1101.0</td>\n",
       "      <td>-200.0</td>\n",
       "      <td>9.9</td>\n",
       "      <td>972.0</td>\n",
       "      <td>95.0</td>\n",
       "      <td>879.0</td>\n",
       "      <td>97.0</td>\n",
       "      <td>1552.0</td>\n",
       "      <td>1001.0</td>\n",
       "      <td>20.2</td>\n",
       "      <td>34.3</td>\n",
       "      <td>0.8017</td>\n",
       "      <td>NaN</td>\n",
       "      <td>NaN</td>\n",
       "    </tr>\n",
       "    <tr>\n",
       "      <th>5714</th>\n",
       "      <td>2004/11/3</td>\n",
       "      <td>20:00:00</td>\n",
       "      <td>3.3</td>\n",
       "      <td>1266.0</td>\n",
       "      <td>-200.0</td>\n",
       "      <td>18.7</td>\n",
       "      <td>1261.0</td>\n",
       "      <td>355.0</td>\n",
       "      <td>541.0</td>\n",
       "      <td>97.0</td>\n",
       "      <td>1807.0</td>\n",
       "      <td>1285.0</td>\n",
       "      <td>22.4</td>\n",
       "      <td>55.2</td>\n",
       "      <td>1.4735</td>\n",
       "      <td>NaN</td>\n",
       "      <td>NaN</td>\n",
       "    </tr>\n",
       "  </tbody>\n",
       "</table>\n",
       "</div>"
      ],
      "text/plain": [
       "           Date      Time  CO(GT)  PT08.S1(CO)  NMHC(GT)  C6H6(GT)  \\\n",
       "1588  2004/5/15  22:00:00     1.6       1101.0    -200.0       9.9   \n",
       "5714  2004/11/3  20:00:00     3.3       1266.0    -200.0      18.7   \n",
       "\n",
       "      PT08.S2(NMHC)  NOx(GT)  PT08.S3(NOx)  NO2(GT)  PT08.S4(NO2)  \\\n",
       "1588          972.0     95.0         879.0     97.0        1552.0   \n",
       "5714         1261.0    355.0         541.0     97.0        1807.0   \n",
       "\n",
       "      PT08.S5(O3)     T    RH      AH  Unnamed: 15  Unnamed: 16  \n",
       "1588       1001.0  20.2  34.3  0.8017          NaN          NaN  \n",
       "5714       1285.0  22.4  55.2  1.4735          NaN          NaN  "
      ]
     },
     "execution_count": 17,
     "metadata": {},
     "output_type": "execute_result"
    }
   ],
   "source": [
    "random_alldata.sample(2)"
   ]
  },
  {
   "cell_type": "code",
   "execution_count": null,
   "metadata": {},
   "outputs": [],
   "source": []
  },
  {
   "cell_type": "code",
   "execution_count": 15,
   "metadata": {},
   "outputs": [],
   "source": [
    "from sklearn.linear_model import Lasso\n",
    "from sklearn.preprocessing import scale"
   ]
  },
  {
   "cell_type": "code",
   "execution_count": 96,
   "metadata": {},
   "outputs": [
    {
     "data": {
      "text/plain": [
       "Lasso(alpha=0.1, copy_X=True, fit_intercept=True, max_iter=1000,\n",
       "   normalize=False, positive=False, precompute=False, random_state=None,\n",
       "   selection='cyclic', tol=0.0001, warm_start=False)"
      ]
     },
     "execution_count": 96,
     "metadata": {},
     "output_type": "execute_result"
    }
   ],
   "source": [
    "lsr=Lasso(alpha=0.1)\n",
    "lsr.fit(X_train,y_train)"
   ]
  },
  {
   "cell_type": "code",
   "execution_count": 70,
   "metadata": {},
   "outputs": [],
   "source": [
    "py=lsr.predict()"
   ]
  },
  {
   "cell_type": "code",
   "execution_count": 109,
   "metadata": {},
   "outputs": [
    {
     "name": "stdout",
     "output_type": "stream",
     "text": [
      "40.0 : 88.03204435980795\n",
      "40.18363939899833 : 88.01991851008306\n",
      "40.36727879799666 : 88.0086235417116\n",
      "40.55091819699499 : 87.99817956557627\n",
      "40.73455759599332 : 87.9886101625861\n",
      "40.91819699499165 : 87.97987181713482\n",
      "41.101836393989984 : 87.97196477687173\n",
      "41.285475792988315 : 87.96488926597142\n",
      "41.469115191986646 : 87.95864548510197\n",
      "41.652754590984976 : 87.95323361139634\n",
      "41.83639398998331 : 87.9486537984271\n",
      "42.02003338898164 : 87.94490617618582\n",
      "42.20367278797997 : 87.94199085106287\n",
      "42.3873121869783 : 87.9399734246386\n",
      "42.57095158597663 : 87.93880527742509\n",
      "42.75459098497496 : 87.93846708793959\n",
      "42.93823038397329 : 87.93890108542313\n",
      "43.12186978297162 : 87.9401672413111\n",
      "43.30550918196995 : 87.94226551966015\n",
      "43.48914858096828 : 87.94519586090972\n",
      "43.672787979966614 : 87.94895818189013\n",
      "43.85642737896494 : 87.95355237583443\n",
      "44.040066777963276 : 87.95897831239397\n",
      "44.2237061769616 : 87.96524674658467\n",
      "44.40734557595994 : 87.97242298115457\n",
      "44.59098497495826 : 87.98042926629722\n",
      "44.77462437395659 : 87.9892535955303\n",
      "44.95826377295492 : 87.99894247025863\n",
      "45.14190317195325 : 88.00958011441396\n",
      "45.32554257095158 : 88.02104480830889\n",
      "45.509181969949914 : 88.03338125871272\n",
      "45.692821368948245 : 88.04659819008747\n",
      "45.876460767946575 : 88.06067131772113\n",
      "46.060100166944906 : 88.0756666217044\n",
      "46.24373956594324 : 88.09148358563947\n",
      "46.42737896494157 : 88.10819562266377\n",
      "46.6110183639399 : 88.12575613366606\n",
      "46.79465776293823 : 88.14418567530299\n",
      "46.97829716193656 : 88.16347388178427\n",
      "47.16193656093489 : 88.1836212846438\n",
      "47.34557595993322 : 88.20463161546458\n",
      "47.52921535893155 : 88.22647232301932\n",
      "47.71285475792988 : 88.2491952554299\n",
      "47.89649415692821 : 88.27272744305878\n",
      "48.080133555926544 : 88.29713346176109\n",
      "48.263772954924875 : 88.32235982718522\n",
      "48.447412353923205 : 88.34841679657941\n",
      "48.631051752921536 : 88.37531478406777\n",
      "48.81469115191987 : 88.403022592062\n",
      "48.9983305509182 : 88.43155982040099\n",
      "49.18196994991653 : 88.47352136262292\n",
      "49.36560934891486 : 88.50345108231019\n",
      "49.54924874791319 : 88.53406418737379\n",
      "49.73288814691152 : 88.56525081492654\n",
      "49.91652754590985 : 88.58544134755141\n",
      "50.10016694490818 : 88.61780201669572\n",
      "50.28380634390651 : 88.64984943379828\n",
      "50.46744574290484 : 88.67979573772121\n",
      "50.651085141903174 : 88.69096352310507\n",
      "50.834724540901504 : 88.68522474224085\n",
      "51.01836393989983 : 88.67591742996147\n",
      "51.202003338898166 : 88.6666545498611\n",
      "51.38564273789649 : 88.65743611586646\n",
      "51.56928213689483 : 88.64826214184328\n",
      "51.75292153589315 : 88.63913264159615\n",
      "51.93656093489149 : 88.63004762886833\n",
      "52.12020033388981 : 88.62100711734197\n",
      "52.30383973288815 : 88.6120111206372\n",
      "52.487479131886474 : 88.60305965231329\n",
      "52.67111853088481 : 88.59415272586743\n",
      "52.854757929883135 : 88.58529035473529\n",
      "53.038397328881466 : 88.57647255229045\n",
      "53.2220367278798 : 88.56769933184484\n",
      "53.40567612687813 : 88.55897070664811\n",
      "53.58931552587646 : 88.55028668988778\n",
      "53.77295492487479 : 88.54164729468941\n",
      "53.95659432387312 : 88.53305253411591\n",
      "54.14023372287145 : 88.52450242116784\n",
      "54.32387312186978 : 88.5159969687833\n",
      "54.50751252086811 : 88.50753618983784\n",
      "54.69115191986644 : 88.49912009714417\n",
      "54.87479131886477 : 88.49074870345213\n",
      "55.058430717863104 : 88.48242202144878\n",
      "55.242070116861434 : 88.47413895527947\n",
      "55.425709515859765 : 88.46589662625905\n",
      "55.609348914858096 : 88.45769909724541\n",
      "55.792988313856426 : 88.44954638069458\n",
      "55.97662771285476 : 88.44143848899932\n",
      "56.16026711185309 : 88.43337543448865\n",
      "56.34390651085142 : 88.4253572294281\n",
      "56.52754590984975 : 88.41738875403762\n",
      "56.71118530884808 : 88.40946763170828\n",
      "56.89482470784641 : 88.40159124841175\n",
      "57.07846410684474 : 88.39375861176424\n",
      "57.26210350584307 : 88.38597020505014\n",
      "57.4457429048414 : 88.37822659884748\n",
      "57.62938230383973 : 88.37052780493343\n",
      "57.81302170283806 : 88.36287383502103\n",
      "57.996661101836395 : 88.35526470075925\n",
      "58.18030050083472 : 88.34770041373285\n",
      "58.363939899833056 : 88.34018098546218\n",
      "58.54757929883138 : 88.33270642740318\n",
      "58.73121869782972 : 88.32527675094732\n",
      "58.91485809682804 : 88.31789196742149\n",
      "59.09849749582638 : 88.31055208808786\n",
      "59.2821368948247 : 88.30325712414407\n",
      "59.46577629382304 : 88.29600708672262\n",
      "59.649415692821364 : 88.28880198689137\n",
      "59.8330550918197 : 88.2816418356529\n",
      "60.016694490818026 : 88.27452664394501\n",
      "60.20033388981636 : 88.26745642264008\n",
      "60.38397328881469 : 88.26043118254542\n",
      "60.567612687813025 : 88.25345093440309\n",
      "60.75125208681135 : 88.2465156888892\n",
      "60.934891485809686 : 88.23962545661517\n",
      "61.11853088480801 : 88.23278024812618\n",
      "61.30217028380635 : 88.22598007390224\n",
      "61.48580968280467 : 88.21922494435746\n",
      "61.669449081803 : 88.21251486983986\n",
      "61.85308848080133 : 88.2058498606321\n",
      "62.03672787979966 : 88.19922992695048\n",
      "62.220367278797994 : 88.19265507894544\n",
      "62.404006677796325 : 88.1861253267014\n",
      "62.587646076794655 : 88.17964068023626\n",
      "62.771285475792986 : 88.17320114950184\n",
      "62.95492487479132 : 88.16680674438383\n",
      "63.13856427378965 : 88.16045747470113\n",
      "63.32220367278798 : 88.1541533502065\n",
      "63.50584307178631 : 88.14789438058577\n",
      "63.68948247078464 : 88.14168057545845\n",
      "63.87312186978297 : 88.13551194437714\n",
      "64.0567612687813 : 88.12938849682786\n",
      "64.24040066777962 : 88.12330987669229\n",
      "64.42404006677796 : 88.11727624009114\n",
      "64.6076794657763 : 88.11128782979537\n",
      "64.79131886477462 : 88.1053446550267\n",
      "64.97495826377295 : 88.09944672493994\n",
      "65.15859766277129 : 88.0935940486226\n",
      "65.34223706176962 : 88.08778663509482\n",
      "65.52587646076795 : 88.08202449330942\n",
      "65.70951585976627 : 88.07630763215163\n",
      "65.89315525876461 : 88.07063606043933\n",
      "66.07679465776293 : 88.06500746827678\n",
      "66.26043405676127 : 88.05942339916042\n",
      "66.4440734557596 : 88.05388468641085\n",
      "66.62771285475793 : 88.04839133858749\n",
      "66.81135225375625 : 88.04294336418201\n",
      "66.99499165275459 : 88.0375407716177\n",
      "67.17863105175292 : 88.03218356925007\n",
      "67.36227045075125 : 88.02687176536614\n",
      "67.54590984974958 : 88.02160536818482\n",
      "67.72954924874792 : 88.01638438585677\n",
      "67.91318864774624 : 88.01120882646438\n",
      "68.09682804674458 : 88.00607869802145\n",
      "68.2804674457429 : 88.00099400847328\n",
      "68.46410684474124 : 87.99595569137887\n",
      "68.64774624373956 : 87.99096459075847\n",
      "68.8313856427379 : 87.98601882564408\n",
      "69.01502504173622 : 87.98111840368135\n",
      "69.19866444073456 : 87.9762633324472\n",
      "69.38230383973288 : 87.9714536194502\n",
      "69.56594323873122 : 87.9680341305345\n",
      "69.74958263772955 : 87.96329086326202\n",
      "69.93322203672787 : 87.95859304517793\n",
      "70.11686143572621 : 87.95394068356468\n",
      "70.30050083472455 : 87.94933378563611\n",
      "70.48414023372287 : 87.94477235853692\n",
      "70.66777963272119 : 87.94025640934271\n",
      "70.85141903171953 : 87.93578594506016\n",
      "71.03505843071787 : 87.93136097262654\n",
      "71.21869782971619 : 87.92698149891014\n",
      "71.40233722871452 : 87.92264753070991\n",
      "71.58597662771285 : 87.91835907475544\n",
      "71.76961602671119 : 87.91411613770705\n",
      "71.95325542570951 : 87.90991872615557\n",
      "72.13689482470784 : 87.90576682013108\n",
      "72.32053422370618 : 87.90166035409175\n",
      "72.50417362270451 : 87.89759943960952\n",
      "72.68781302170284 : 87.89358408299809\n",
      "72.87145242070116 : 87.8896142905018\n",
      "73.0550918196995 : 87.88569006829476\n",
      "73.23873121869784 : 87.88181142248176\n",
      "73.42237061769616 : 87.8779783590975\n",
      "73.60601001669448 : 87.87419088410692\n",
      "73.78964941569282 : 87.87044900340513\n",
      "73.97328881469116 : 87.86675272281676\n",
      "74.15692821368948 : 87.86310204809716\n",
      "74.3405676126878 : 87.85949698493118\n",
      "74.52420701168614 : 87.85593753893367\n",
      "74.70784641068448 : 87.8524237156494\n",
      "74.8914858096828 : 87.84895552055274\n",
      "75.07512520868113 : 87.84553295904799\n",
      "75.25876460767947 : 87.8421560364693\n",
      "75.44240400667779 : 87.83882475808025\n",
      "75.62604340567611 : 87.83553912907426\n",
      "75.80968280467445 : 87.83229915457424\n",
      "75.99332220367279 : 87.82910483963269\n",
      "76.17696160267111 : 87.8259561892317\n",
      "76.36060100166944 : 87.82285320828287\n",
      "76.54424040066777 : 87.8197959016271\n",
      "76.72787979966611 : 87.81678307144938\n",
      "76.91151919866444 : 87.81381523235667\n",
      "77.09515859766276 : 87.81089312215708\n",
      "77.2787979966611 : 87.8080167454161\n",
      "77.46243739565944 : 87.80518610662807\n",
      "77.64607679465776 : 87.80240121021657\n",
      "77.82971619365608 : 87.79966206053435\n",
      "78.01335559265442 : 87.79696866186303\n",
      "78.19699499165276 : 87.79432101841347\n",
      "78.38063439065108 : 87.79171913432525\n",
      "78.5642737896494 : 87.78916301366712\n",
      "78.74791318864774 : 87.78665266043645\n",
      "78.93155258764608 : 87.78418807855977\n",
      "79.1151919866444 : 87.78176927189232\n",
      "79.29883138564273 : 87.77939624421813\n",
      "79.48247078464107 : 87.77706899925019\n",
      "79.6661101836394 : 87.77478754062996\n",
      "79.84974958263773 : 87.77255187192794\n",
      "80.03338898163605 : 87.77036199664308\n",
      "80.21702838063439 : 87.76821791820313\n",
      "80.40066777963273 : 87.76611963996457\n",
      "80.58430717863105 : 87.76406716521224\n",
      "80.76794657762937 : 87.76206049715981\n",
      "80.95158597662771 : 87.76009963894946\n",
      "81.13522537562605 : 87.7581845936518\n",
      "81.31886477462437 : 87.75631536426626\n",
      "81.5025041736227 : 87.75449195372035\n",
      "81.68614357262103 : 87.75271436487039\n",
      "81.86978297161937 : 87.750982600501\n",
      "82.0534223706177 : 87.74929666332532\n",
      "82.23706176961602 : 87.74765655598485\n",
      "82.42070116861436 : 87.74606228104938\n",
      "82.6043405676127 : 87.74451384101718\n",
      "82.78797996661102 : 87.7430099342792\n",
      "82.97161936560934 : 87.74155092351852\n",
      "83.15525876460768 : 87.740137627141\n",
      "83.338898163606 : 87.73877004735571\n",
      "83.52253756260433 : 87.73744818630033\n",
      "83.70617696160267 : 87.7361720460414\n",
      "83.889816360601 : 87.73494162857408\n",
      "84.07345575959933 : 87.73375693582187\n",
      "84.25709515859765 : 87.7326179696373\n",
      "84.44073455759599 : 87.73152473180113\n",
      "84.62437395659433 : 87.73047722402293\n",
      "84.80801335559265 : 87.72947544794083\n",
      "84.99165275459097 : 87.72851940512135\n",
      "85.17529215358931 : 87.72760909705987\n",
      "85.35893155258765 : 87.72674452517992\n",
      "85.54257095158597 : 87.72592569083376\n",
      "85.7262103505843 : 87.72515259530228\n"
     ]
    },
    {
     "name": "stdout",
     "output_type": "stream",
     "text": [
      "85.90984974958263 : 87.72442523979457\n",
      "86.09348914858097 : 87.72374362544852\n",
      "86.2771285475793 : 87.72310775333032\n",
      "86.46076794657762 : 87.72251762443462\n",
      "86.64440734557596 : 87.72197323968464\n",
      "86.8280467445743 : 87.72147459993204\n",
      "87.01168614357262 : 87.72102170595694\n",
      "87.19532554257094 : 87.7206145584678\n",
      "87.37896494156928 : 87.7202531581017\n",
      "87.56260434056762 : 87.71993750542399\n",
      "87.74624373956594 : 87.71966760092855\n",
      "87.92988313856426 : 87.7194434450377\n",
      "88.1135225375626 : 87.71926503810222\n",
      "88.29716193656094 : 87.71913238040105\n",
      "88.48080133555926 : 87.71904547214189\n",
      "88.66444073455759 : 87.71900431346067\n",
      "88.84808013355592 : 87.71900890442187\n",
      "89.03171953255426 : 87.71905924501822\n",
      "89.21535893155259 : 87.71915533517097\n",
      "89.39899833055091 : 87.71929717472979\n",
      "89.58263772954925 : 87.71948476347276\n",
      "89.76627712854759 : 87.71971810110635\n",
      "89.94991652754591 : 87.71999718726559\n",
      "90.13355592654423 : 87.72032202151362\n",
      "90.31719532554257 : 87.72069260334239\n",
      "90.50083472454091 : 87.72110893217203\n",
      "90.68447412353923 : 87.72157100735119\n",
      "90.86811352253756 : 87.72207882815711\n",
      "91.0517529215359 : 87.72263239379508\n",
      "91.23539232053422 : 87.72323170339929\n",
      "91.41903171953254 : 87.7238767560321\n",
      "91.60267111853088 : 87.72456755068451\n",
      "91.78631051752922 : 87.725304086276\n",
      "91.96994991652754 : 87.72608636165425\n",
      "92.15358931552586 : 87.72691437559588\n",
      "92.3372287145242 : 87.72778812680559\n",
      "92.52086811352254 : 87.72870761391695\n",
      "92.70450751252086 : 87.72967283549188\n",
      "92.88814691151919 : 87.73068379002075\n",
      "93.07178631051752 : 87.73000516621677\n",
      "93.25542570951586 : 87.73108700549867\n",
      "93.43906510851419 : 87.7322146470384\n",
      "93.62270450751251 : 87.7333881313193\n",
      "93.80634390651085 : 87.73460745650168\n",
      "93.98998330550918 : 87.73587262067431\n",
      "94.17362270450751 : 87.7371836218543\n",
      "94.35726210350583 : 87.73854045798691\n",
      "94.54090150250417 : 87.73994312694565\n",
      "94.72454090150251 : 87.7413916265325\n",
      "94.90818030050083 : 87.74288595447764\n",
      "95.09181969949915 : 87.74442610843965\n",
      "95.27545909849749 : 87.74601208600545\n",
      "95.45909849749583 : 87.74764388469033\n",
      "95.64273789649415 : 87.74932150193814\n",
      "95.82637729549248 : 87.75104493512082\n",
      "96.01001669449082 : 87.752814181539\n",
      "96.19365609348915 : 87.75462923842174\n",
      "96.37729549248748 : 87.75649010292663\n",
      "96.5609348914858 : 87.75839677213963\n",
      "96.74457429048414 : 87.76034924307531\n",
      "96.92821368948248 : 87.76234751267675\n",
      "97.1118530884808 : 87.76439157781569\n",
      "97.29549248747912 : 87.76648143529238\n",
      "97.47913188647746 : 87.7686170818358\n",
      "97.6627712854758 : 87.77079851410343\n",
      "97.84641068447412 : 87.77302572868157\n",
      "98.03005008347245 : 87.77529872208521\n",
      "98.21368948247078 : 87.77761749075796\n",
      "98.39732888146912 : 87.77998203107232\n",
      "98.58096828046745 : 87.78239233932952\n",
      "98.76460767946577 : 87.78484841175955\n",
      "98.9482470784641 : 87.78735024452133\n",
      "99.13188647746243 : 87.78989783370268\n",
      "99.31552587646075 : 87.79249117532024\n",
      "99.49916527545909 : 87.79513026531967\n",
      "99.68280467445743 : 87.79781509957546\n",
      "99.86644407345575 : 87.80054567389129\n",
      "100.05008347245408 : 87.80332198399971\n",
      "100.23372287145241 : 87.8061363717582\n",
      "100.41736227045075 : 87.80899593055237\n",
      "100.60100166944908 : 87.81190108596923\n",
      "100.7846410684474 : 87.81485183348335\n",
      "100.96828046744574 : 87.81784816849898\n",
      "101.15191986644408 : 87.82089008634995\n",
      "101.3355592654424 : 87.8239775822998\n",
      "101.51919866444072 : 87.82711065154167\n",
      "101.70283806343906 : 87.83028928919855\n",
      "101.8864774624374 : 87.83351349032317\n",
      "102.07011686143572 : 87.83678324989808\n",
      "102.25375626043405 : 87.84009856283565\n",
      "102.43739565943238 : 87.8434594239782\n",
      "102.62103505843072 : 87.84686582809789\n",
      "102.80467445742904 : 87.85031776989699\n",
      "102.98831385642737 : 87.85381524400769\n",
      "103.1719532554257 : 87.85735824499234\n",
      "103.35559265442404 : 87.86094676734317\n",
      "103.53923205342237 : 87.86458080548277\n",
      "103.72287145242069 : 87.86826035376383\n",
      "103.90651085141903 : 87.87198540646932\n",
      "104.09015025041735 : 87.87575595781244\n",
      "104.27378964941569 : 87.87957200193662\n",
      "104.45742904841401 : 87.88343353291582\n",
      "104.64106844741235 : 87.88734054475432\n",
      "104.82470784641067 : 87.8912930313869\n",
      "105.00834724540901 : 87.89529098667882\n",
      "105.19198664440734 : 87.8993344044258\n",
      "105.37562604340567 : 87.90342327835425\n",
      "105.559265442404 : 87.90755760212123\n",
      "105.74290484140234 : 87.91173736931452\n",
      "105.92654424040066 : 87.9159625734526\n",
      "106.110183639399 : 87.92023320798475\n",
      "106.29382303839732 : 87.92454926629102\n",
      "106.47746243739566 : 87.92891074168246\n",
      "106.66110183639398 : 87.93331762740107\n",
      "106.84474123539232 : 87.93776991661977\n",
      "107.02838063439064 : 87.94226760244263\n",
      "107.21202003338898 : 87.94681067790468\n",
      "107.3956594323873 : 87.95139913597228\n",
      "107.57929883138564 : 87.95603296954286\n",
      "107.76293823038397 : 87.96071217144524\n",
      "107.9465776293823 : 87.96543673443952\n",
      "108.13021702838063 : 87.97020665121708\n",
      "108.31385642737897 : 87.97502191440077\n",
      "108.49749582637729 : 87.97988251654506\n",
      "108.68113522537563 : 87.98478845013588\n",
      "108.86477462437395 : 87.98973970759083\n",
      "109.04841402337229 : 87.99473628125894\n",
      "109.23205342237061 : 87.99977816342118\n",
      "109.41569282136895 : 88.00486534629029\n",
      "109.59933222036727 : 88.00999782201086\n",
      "109.78297161936561 : 88.01517558265924\n",
      "109.96661101836393 : 88.02039862024385\n",
      "110.15025041736227 : 88.02566692670514\n",
      "110.3338898163606 : 88.0309804939156\n",
      "110.51752921535893 : 88.0363393136799\n",
      "110.70116861435726 : 88.04174337773497\n",
      "110.88480801335558 : 88.04719267774982\n",
      "111.06844741235392 : 88.05268720532597\n",
      "111.25208681135224 : 88.0582269519973\n",
      "111.43572621035058 : 88.06381190923017\n",
      "111.6193656093489 : 88.06944206842341\n",
      "111.80300500834724 : 88.07511742090853\n",
      "111.98664440734557 : 88.08083795794958\n",
      "112.1702838063439 : 88.0866036707434\n",
      "112.35392320534223 : 88.09241455041972\n",
      "112.53756260434056 : 88.09827058804095\n",
      "112.72120200333889 : 88.10417177460266\n",
      "112.90484140233723 : 88.11011810103314\n",
      "113.08848080133555 : 88.11610955819393\n",
      "113.27212020033389 : 88.12214613687969\n",
      "113.45575959933221 : 88.12822782781824\n",
      "113.63939899833055 : 88.13435462167075\n",
      "113.82303839732887 : 88.14052650903159\n",
      "114.00667779632721 : 88.14674348042868\n",
      "114.19031719532553 : 88.15300552632343\n",
      "114.37395659432387 : 88.15931263711073\n",
      "114.5575959933222 : 88.16566480311926\n",
      "114.74123539232053 : 88.17206201461119\n",
      "114.92487479131886 : 88.17850426178256\n",
      "115.1085141903172 : 88.18499153476341\n",
      "115.29215358931552 : 88.19152382361747\n",
      "115.47579298831386 : 88.1981011183427\n",
      "115.65943238731218 : 88.20472340887096\n",
      "115.84307178631052 : 88.21139068506837\n",
      "116.02671118530884 : 88.21810293673529\n",
      "116.21035058430718 : 88.22486015360627\n",
      "116.3939899833055 : 88.23166232535051\n",
      "116.57762938230384 : 88.23850944157131\n",
      "116.76126878130216 : 88.24540149180679\n",
      "116.9449081803005 : 88.2523384655296\n",
      "117.12854757929883 : 88.25932035214716\n",
      "117.31218697829716 : 88.26634714100156\n",
      "117.49582637729549 : 88.27341882136976\n",
      "117.67946577629382 : 88.28053538246377\n",
      "117.86310517529215 : 88.2876968134305\n",
      "118.04674457429049 : 88.2949031033521\n",
      "118.23038397328881 : 88.30215424124574\n",
      "118.41402337228713 : 88.30945021606406\n",
      "118.59766277128547 : 88.31679101669481\n",
      "118.7813021702838 : 88.32417663196136\n",
      "118.96494156928213 : 88.3316070506225\n",
      "119.14858096828046 : 88.3390822613727\n",
      "119.3322203672788 : 88.3466022528421\n",
      "119.51585976627712 : 88.34882296825204\n",
      "119.69949916527545 : 88.35641656973357\n",
      "119.88313856427378 : 88.36405499040255\n",
      "120.06677796327212 : 88.37173821863719\n",
      "120.25041736227044 : 88.3794662427515\n",
      "120.43405676126878 : 88.38723905099538\n",
      "120.6176961602671 : 88.39505663155494\n",
      "120.80133555926544 : 88.40291897255234\n",
      "120.98497495826376 : 88.41082606204604\n",
      "121.1686143572621 : 88.4187778880308\n",
      "121.35225375626042 : 88.42677443843766\n",
      "121.53589315525876 : 88.43481570113427\n",
      "121.71953255425709 : 88.44289409537699\n",
      "121.90317195325542 : 88.45101246947733\n",
      "122.08681135225375 : 88.45917543878952\n",
      "122.27045075125208 : 88.4673829909689\n",
      "122.45409015025041 : 88.47563511360818\n",
      "122.63772954924875 : 88.48393179423728\n",
      "122.82136894824707 : 88.49227302032341\n",
      "123.00500834724541 : 88.5006587792714\n",
      "123.18864774624373 : 88.50908905842341\n",
      "123.37228714524207 : 88.51756384505933\n",
      "123.55592654424039 : 88.5260831263968\n",
      "123.73956594323873 : 88.53464688959127\n",
      "123.92320534223705 : 88.54325512173604\n",
      "124.10684474123539 : 88.55190780986261\n",
      "124.29048414023372 : 88.5606049409403\n",
      "124.47412353923205 : 88.56934650187682\n",
      "124.65776293823038 : 88.57813247951823\n",
      "124.84140233722871 : 88.58696286064881\n",
      "125.02504173622704 : 88.5958376319915\n",
      "125.20868113522538 : 88.60475678020768\n",
      "125.3923205342237 : 88.61372029189751\n",
      "125.57595993322204 : 88.62272815359991\n",
      "125.75959933222036 : 88.63178035179267\n",
      "125.9432387312187 : 88.64087687289268\n",
      "126.12687813021702 : 88.65001770325566\n",
      "126.31051752921535 : 88.65920282917669\n",
      "126.49415692821368 : 88.66843223689014\n",
      "126.67779632721201 : 88.67770591256969\n",
      "126.86143572621035 : 88.6870238423286\n",
      "127.04507512520867 : 88.69638601221949\n",
      "127.228714524207 : 88.7057924082349\n",
      "127.41235392320533 : 88.71524301630704\n",
      "127.59599332220367 : 88.72473782230801\n",
      "127.77963272120199 : 88.73427681205001\n",
      "127.96327212020033 : 88.74385997128518\n",
      "128.14691151919865 : 88.75348728570587\n",
      "128.330550918197 : 88.7631587409448\n",
      "128.5141903171953 : 88.77287432257512\n",
      "128.69782971619367 : 88.7826340161104\n",
      "128.88146911519198 : 88.79243780700483\n",
      "129.0651085141903 : 88.8022856806533\n",
      "129.24874791318865 : 88.81217762239166\n",
      "129.43238731218696 : 88.82211361749648\n",
      "129.6160267111853 : 88.83209365118556\n",
      "129.79966611018364 : 88.84211770861772\n",
      "129.98330550918195 : 88.852185774893\n",
      "130.1669449081803 : 88.86229783505286\n",
      "130.35058430717862 : 88.87245387408022\n",
      "130.53422370617696 : 88.88265387689955\n",
      "130.7178631051753 : 88.89289782837702\n",
      "130.9015025041736 : 88.9031857133205\n",
      "131.08514190317194 : 88.91351751647979\n",
      "131.26878130217028 : 88.92389322254677\n",
      "131.4524207011686 : 88.93431281615531\n",
      "131.63606010016696 : 88.94477628188172\n",
      "131.81969949916527 : 88.95528360424426\n"
     ]
    },
    {
     "name": "stdout",
     "output_type": "stream",
     "text": [
      "132.0033388981636 : 88.96583476770394\n",
      "132.18697829716194 : 88.9764297566642\n",
      "132.37061769616025 : 88.98706855547125\n",
      "132.5542570951586 : 88.99775114841395\n",
      "132.73789649415693 : 89.00847751972407\n",
      "132.92153589315524 : 89.01924765357634\n",
      "133.1051752921536 : 89.03006153408873\n",
      "133.2888146911519 : 89.04091914532232\n",
      "133.47245409015025 : 89.05182047128163\n",
      "133.6560934891486 : 89.06276549591439\n",
      "133.8397328881469 : 89.07375420311213\n",
      "134.02337228714524 : 89.08478657671002\n",
      "134.20701168614357 : 89.0958626004869\n",
      "134.39065108514188 : 89.10698225816563\n",
      "134.57429048414022 : 89.118145533413\n",
      "134.75792988313856 : 89.12935240983994\n",
      "134.94156928213687 : 89.14060287100172\n",
      "135.12520868113523 : 89.15189690039786\n",
      "135.30884808013354 : 89.16323448147243\n",
      "135.49248747913188 : 89.1746155976141\n",
      "135.67612687813022 : 89.18604023215612\n",
      "135.85976627712853 : 89.19750836837669\n",
      "136.04340567612687 : 89.20901998949894\n",
      "136.2270450751252 : 89.22057507869107\n",
      "136.4106844741235 : 89.23217361906646\n",
      "136.59432387312188 : 89.24381559368362\n",
      "136.7779632721202 : 89.25550098554676\n",
      "136.96160267111853 : 89.26722977760538\n",
      "137.14524207011686 : 89.27900195275474\n",
      "137.32888146911517 : 89.29081749383597\n",
      "137.5125208681135 : 89.30267638363577\n",
      "137.69616026711185 : 89.31457860488717\n",
      "137.87979966611016 : 89.32652572221885\n",
      "138.06343906510853 : 89.33851685465184\n",
      "138.24707846410683 : 89.35055127838282\n",
      "138.43071786310517 : 89.36262897592162\n",
      "138.6143572621035 : 89.37474992972486\n",
      "138.79799666110182 : 89.3869141221957\n",
      "138.98163606010016 : 89.39912153568422\n",
      "139.1652754590985 : 89.41137215248744\n",
      "139.3489148580968 : 89.42366595484938\n",
      "139.53255425709517 : 89.4360029249612\n",
      "139.71619365609348 : 89.4483830449616\n",
      "139.89983305509182 : 89.46080629693648\n",
      "140.08347245409016 : 89.47327266291944\n",
      "140.26711185308847 : 89.48578212489157\n",
      "140.4507512520868 : 89.49833466478199\n",
      "140.63439065108514 : 89.51093026446765\n",
      "140.81803005008345 : 89.52356890577344\n",
      "141.00166944908182 : 89.53625057047269\n",
      "141.18530884808013 : 89.54897524028665\n",
      "141.36894824707846 : 89.56174289688533\n",
      "141.5525876460768 : 89.57455352188714\n",
      "141.7362270450751 : 89.58740709685914\n",
      "141.91986644407345 : 89.60030360331724\n",
      "142.1035058430718 : 89.61324302272631\n",
      "142.2871452420701 : 89.6262253365001\n",
      "142.47078464106843 : 89.63925052600165\n",
      "142.65442404006677 : 89.65231857254332\n",
      "142.83806343906508 : 89.66542945738688\n",
      "143.02170283806345 : 89.6785831617436\n",
      "143.20534223706176 : 89.69177966677445\n",
      "143.3889816360601 : 89.70501895359021\n",
      "143.57262103505843 : 89.71830100325158\n",
      "143.75626043405674 : 89.73162579676935\n",
      "143.93989983305508 : 89.7449933151045\n",
      "144.12353923205342 : 89.75840353916821\n",
      "144.30717863105173 : 89.77185644982225\n",
      "144.4908180300501 : 89.78535202787887\n",
      "144.6744574290484 : 89.79889025410104\n",
      "144.85809682804674 : 89.81247110920266\n",
      "145.04173622704508 : 89.82609457384831\n",
      "145.2253756260434 : 89.83976062865392\n",
      "145.40901502504173 : 89.85346925418648\n",
      "145.59265442404006 : 89.86722043096447\n",
      "145.77629382303837 : 89.88101413945765\n",
      "145.95993322203674 : 89.89485036008762\n",
      "146.14357262103505 : 89.90872907322736\n",
      "146.3272120200334 : 89.92265025920206\n",
      "146.51085141903172 : 89.93661389828868\n",
      "146.69449081803003 : 89.95061997071645\n",
      "146.87813021702837 : 89.96466845666674\n",
      "147.0617696160267 : 89.97875933627334\n",
      "147.24540901502502 : 89.9928925896225\n",
      "147.42904841402338 : 90.00706819675317\n",
      "147.6126878130217 : 90.02128613765711\n",
      "147.79632721202003 : 90.03554639227897\n",
      "147.97996661101837 : 90.04984894051633\n",
      "148.16360601001668 : 90.06418148205246\n",
      "148.34724540901502 : 90.07855039652658\n",
      "148.53088480801335 : 90.09296145489594\n",
      "148.71452420701166 : 90.10741463694009\n",
      "148.89816360601003 : 90.12190992239229\n",
      "149.08180300500834 : 90.1364472909401\n",
      "149.26544240400668 : 90.15102672222507\n",
      "149.44908180300501 : 90.16564819584308\n",
      "149.63272120200332 : 90.18031169134439\n",
      "149.81636060100166 : 90.19501718823379\n",
      "150.0 : 90.20976466597078\n"
     ]
    }
   ],
   "source": [
    "aArr=np.linspace(40,150,600)\n",
    "for i in aArr:\n",
    "    lsr=Lasso(alpha=i)\n",
    "    py=lsr.fit(X_train,y_train)\n",
    "    py=lsr.predict(X_test)\n",
    "    #plt.figure()\n",
    "    #plt.scatter(y_test,py)\n",
    "    print(i,\":\",np.linalg.norm(py-y_test))\n",
    "    #plt.show()"
   ]
  },
  {
   "cell_type": "code",
   "execution_count": 90,
   "metadata": {},
   "outputs": [
    {
     "name": "stdout",
     "output_type": "stream",
     "text": [
      "error: 130.87764723630718\n"
     ]
    },
    {
     "data": {
      "image/png": "[encoded data removed]",
      "text/plain": [
       "<Figure size 432x288 with 1 Axes>"
      ]
     },
     "metadata": {
      "needs_background": "light"
     },
     "output_type": "display_data"
    }
   ],
   "source": [
    "from sklearn.linear_model import LinearRegression\n",
    "reg=LinearRegression()\n",
    "reg.fit(X_train,y_train)\n",
    "y=reg.predict(X_test)\n",
    "print (\"error:\",np.linalg.norm(y_test-y))\n",
    "plt.scatter(y_test,y)\n",
    "plt.show()"
   ]
  },
  {
   "cell_type": "code",
   "execution_count": 95,
   "metadata": {},
   "outputs": [
    {
     "name": "stdout",
     "output_type": "stream",
     "text": [
      "error: 88.42520779893621\n"
     ]
    },
    {
     "data": {
      "image/png": "[encoded data removed]",
      "text/plain": [
       "<Figure size 432x288 with 1 Axes>"
      ]
     },
     "metadata": {
      "needs_background": "light"
     },
     "output_type": "display_data"
    }
   ],
   "source": [
    "from sklearn.linear_model import ElasticNet\n",
    "reg=ElasticNet(alpha=130)\n",
    "reg.fit(X_train,y_train)\n",
    "y=reg.predict(X_test)\n",
    "print (\"error:\",np.linalg.norm(y_test-y))\n",
    "plt.scatter(y_test,y)\n",
    "plt.show()"
   ]
  },
  {
   "cell_type": "code",
   "execution_count": null,
   "metadata": {},
   "outputs": [],
   "source": []
  }
 ],
 "metadata": {
  "kernelspec": {
   "display_name": "Python 3",
   "language": "python",
   "name": "python3"
  },
  "language_info": {
   "codemirror_mode": {
    "name": "ipython",
    "version": 3
   },
   "file_extension": ".py",
   "mimetype": "text/x-python",
   "name": "python",
   "nbconvert_exporter": "python",
   "pygments_lexer": "ipython3",
   "version": "3.7.0"
  }
 },
 "nbformat": 4,
 "nbformat_minor": 2
}
