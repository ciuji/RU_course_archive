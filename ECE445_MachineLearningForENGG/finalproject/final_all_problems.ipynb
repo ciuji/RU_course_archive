{
 "cells": [
  {
   "cell_type": "markdown",
   "metadata": {},
   "source": [
    "# Final Projecgt"
   ]
  },
  {
   "cell_type": "markdown",
   "metadata": {},
   "source": [
    "# 1. Classification Problem"
   ]
  },
  {
   "cell_type": "markdown",
   "metadata": {},
   "source": [
    "## 1-1 Pre-Processing by Shuyu Chen"
   ]
  },
  {
   "cell_type": "code",
   "execution_count": 95,
   "metadata": {},
   "outputs": [
    {
     "name": "stdout",
     "output_type": "stream",
     "text": [
      "BCCD/Annotations/BloodImage_00008.xml\n",
      "+1\n",
      "00097\n",
      "B\n",
      "BCCD/Annotations/BloodImage_00117.xml\n",
      "BCCD/Annotations/BloodImage_00132.xml\n",
      "BCCD/Annotations/BloodImage_00171.xml\n",
      "+1\n",
      "00281\n",
      "B\n",
      "+1\n",
      "00330\n",
      "B\n"
     ]
    }
   ],
   "source": [
    "\n",
    "class Reading(object):\n",
    "    \"\"\"__init__() functions as the class constructor\"\"\"\n",
    "    def __init__(self, xmin=None, ymin=None, xmax=None, ymax=None, typ=None, name=None):\n",
    "        \"\"\"self.difficult = difficult\n",
    "        self.truncated = truncated\"\"\"\n",
    "        self.xmin = xmin\n",
    "        self.xmax = xmax\n",
    "        self.ymin = ymin\n",
    "        self.ymax = ymax\n",
    "        self.typ = typ\n",
    "        self.name = name\n",
    "\n",
    "docs = sorted(glob.glob('BCCD/Annotations/' + '*.xml'))      \n",
    "\n",
    "list_reading_arr = []\n",
    "with open('labels.csv') as csv_file:\n",
    "    csv_reader = csv.reader(csv_file, delimiter=',')\n",
    "    label_arr = []\n",
    "    counter = 0\n",
    "    for row in csv_reader:\n",
    "        if counter != 0 and row[2] != \"\":\n",
    "            label_arr.append([row[1], row[2]])\n",
    "        #if :\n",
    "        #   label_arr.append()\n",
    "        counter += 1\n",
    "\n",
    "index = 0\n",
    "for i in range(len(docs)):\n",
    "    label_this='B'\n",
    "    #tree = xml.etree.ElementTree.parse('//dataset-master//Annotations//BloodImage_00000.xml')\n",
    "    #print(doc + \" \" + label_arr[index][1])\n",
    "    if(int(label_arr[index][0]) == int(docs[i][-9:-4])):\n",
    "        label_this = label_arr[index][1][0]\n",
    "    \n",
    "    else:\n",
    "        if(int(label_arr[index-1][0]) == int(docs[i][-9:-4])):\n",
    "            print('-1')\n",
    "            print(docs[i][-9:-4])\n",
    "            print(label_this)\n",
    "            index += -1\n",
    "            i+=-1\n",
    "            label_this = label_arr[index][1][0]\n",
    "        if(int(label_arr[index+1][0]) == int(docs[i][-9:-4])):\n",
    "            print('+1')\n",
    "            print(docs[i][-9:-4])\n",
    "            print(label_this)\n",
    "            label_this = label_arr[index+1][1][0]\n",
    "            #i+=1\n",
    "            index += 1\n",
    "    \n",
    "    if(label_this == 'B'):\n",
    "        index += 1\n",
    "        #i+=1\n",
    "        print(docs[i])\n",
    "        #docs.remove(doc)\n",
    "        continue\n",
    "    if(label_this == ''):\n",
    "        index += 1\n",
    "        #i+=1\n",
    "        print(docs[i])\n",
    "        #docs.remove(doc)\n",
    "        continue\n",
    "    \"\"\"\"\"\"   \n",
    "    tree = xml.etree.ElementTree.parse(docs[i])\n",
    "    root = tree.getroot()\n",
    "    len_data = int(len(tree.findall('.//object//'))/9)\n",
    "    #list_reading = [Reading() for i in range(len_data)]\n",
    "    read = Reading()\n",
    "    #print(doc)\n",
    "   \n",
    "            #continue\n",
    "    #print(doc + label_this)\n",
    "    count = 0\n",
    "    #print(\"Print out the attrib of the root:\\n\")\n",
    "    #list_reading[index_of_reading].typ = label_this\n",
    "    #list_reading[index_of_reading].name = docs[i]\n",
    "    read.typ = label_this\n",
    "    read.name = docs[i]\n",
    "    for objs in tree.findall('.//object//'):\n",
    "        index_of_reading = int(count/9)\n",
    "        #if(list_reading[index_of_reading])\n",
    "        \"\"\"if count%9 == 2:\n",
    "            list_reading[index_of_reading].truncated = int(objs.text)\n",
    "        if count%9 == 3:\n",
    "            list_reading[index_of_reading].difficult = int(objs.text)\"\"\"\n",
    "        #print(objs.text)\n",
    "        \n",
    "        if count%9 == 0:\n",
    "            if objs.text != \"WBC\":\n",
    "                #print(\"NO WBC\")\n",
    "                continue\n",
    "        if count%9 == 5:\n",
    "            #list_reading[index_of_reading].xmin = int(objs.text)\n",
    "            read.xmin = int(objs.text)\n",
    "        if count%9 == 6:\n",
    "            #list_reading[index_of_reading].ymin = int(objs.text)\n",
    "            read.ymin = int(objs.text)\n",
    "        if count%9 == 7:\n",
    "            #list_reading[index_of_reading].xmax = int(objs.text)\n",
    "            read.xmax = int(objs.text)\n",
    "        if count%9 == 8:\n",
    "            #list_reading[index_of_reading].ymax = int(objs.text)\n",
    "            read.ymax = int(objs.text)\n",
    "             \n",
    "        \n",
    "        count+=1\n",
    "    \n",
    "    #print(docs[i] + label_this)\n",
    "    list_reading_arr.append(read)\n",
    "    for j in list_reading_arr:\n",
    "        if j.xmax == j.xmin or j.ymax == j.ymin:\n",
    "            #print(doc)\n",
    "            list_reading_arr.remove(j)\n",
    "        #print(\"cordinates:\",i.xmin,i.ymin,i.xmax,i.ymax)\n",
    "    index += 1\n",
    "    \n",
    "    \n",
    "#print(list_reading_arr[0][0].xmin)\n",
    "\n",
    "\n",
    "def crop_and_resize(img, read, size):\n",
    "    w, h = size\n",
    "    \n",
    "    img_arr =[]\n",
    "    xmin, ymin, xmax, ymax = (read.xmin,read.ymin,read.xmax,read.ymax)\n",
    "    #print([xmin, ymin, xmax, ymax])\n",
    "    img_crop = img[ymin:ymax,xmin:xmax]\n",
    "    img_resized = cv2.resize(img_crop,(w, h), interpolation = cv2.INTER_CUBIC)\n",
    "    img_arr.append(img_resized)\n",
    "\n",
    "    return img_arr\n",
    "\n",
    "def label_generator(read):\n",
    "    if(read=='N'):\n",
    "        return 0\n",
    "    if(read=='M'):\n",
    "        return 1\n",
    "    if(read=='L'):\n",
    "        return 2\n",
    "    if(read=='E'):\n",
    "        return 3\n",
    "    \n",
    "    "
   ]
  },
  {
   "cell_type": "code",
   "execution_count": 96,
   "metadata": {
    "scrolled": true
   },
   "outputs": [
    {
     "name": "stdout",
     "output_type": "stream",
     "text": [
      "[178.08169014 178.72112676 179.49859155 ... 191.12676056 190.71549296\n",
      " 190.49859155]\n",
      "[175.9971831  177.21690141 178.31267606 ... 192.18309859 192.29014085\n",
      " 192.14366197]\n",
      "[186.17746479 186.86197183 187.3943662  ... 197.74084507 197.90985915\n",
      " 197.9915493 ]\n",
      "[179.28169014 180.27042254 181.14929577 ... 193.72957746 193.8028169\n",
      " 193.72394366]\n"
     ]
    }
   ],
   "source": [
    "def recenter_regularize(X):\n",
    "    print(np.mean(X,axis=1))\n",
    "    X_mean = np.mean(X, axis = 1)[np.newaxis]\n",
    "    X_centered = X - X_mean.T\n",
    "    X_norm = np.linalg.norm(X_centered, axis = 1)[np.newaxis]\n",
    "    X_normalized = X_centered/X_norm.T\n",
    "    return X_normalized\n",
    "\n",
    "\n",
    "\n",
    "path = 'BCCD/JPEGImages/'\n",
    "#images = sorted(glob.glob(path + '*.jpg'))\n",
    "WBC_arr_b = []; WBC_arr_g = []; WBC_arr_r = []; WBC_arr_gray = []\n",
    "label_arr = []\n",
    "#read images and make each into an array\n",
    "for i in range(len(list_reading_arr)):\n",
    "    img = path + os.path.split(list_reading_arr[i].name)[1][:-4] + '.jpg'\n",
    "    #print(img)\n",
    "    WBC_this = cv2.imread(img)\n",
    "    WBC_this_arr = crop_and_resize(WBC_this, list_reading_arr[i], (60,60))\n",
    "    WBC_b = WBC_this_arr[0][:, :, 0]\n",
    "    WBC_g = WBC_this_arr[0][:, :, 1]\n",
    "    WBC_r = WBC_this_arr[0][:, :, 2]\n",
    "    WBC_gray = cv2.cvtColor(WBC_this_arr[0], cv2.COLOR_BGR2GRAY)\n",
    "    \n",
    "\n",
    "    label = label_generator(list_reading_arr[i].typ)\n",
    "    #print(label)\n",
    "\n",
    "    WBC_b, WBC_g, WBC_r, WBC_gray = np.reshape(WBC_b, -1), np.reshape(WBC_g, -1), np.reshape(WBC_r, -1), np.reshape(WBC_gray, -1)\n",
    "    \n",
    "    \n",
    "    WBC_arr_b.append(WBC_b)\n",
    "    WBC_arr_g.append(WBC_g)\n",
    "    WBC_arr_r.append(WBC_r)\n",
    "    WBC_arr_gray.append(WBC_gray)\n",
    "    label_arr.append(label)\n",
    "        \n",
    "        \n",
    "    i+=1\n",
    "    if(i==len(list_reading_arr)):\n",
    "        break\n",
    "\n",
    "WBC_arr_b, WBC_arr_g, WBC_arr_r, WBC_arr_gray = (np.asarray(WBC_arr_b).T, np.asarray(WBC_arr_g).T, \n",
    "                                                 np.asarray(WBC_arr_r).T, np.asarray(WBC_arr_gray).T)\n",
    "WBC_normalized_b = recenter_regularize(WBC_arr_b)\n",
    "WBC_normalized_g= recenter_regularize(WBC_arr_g)\n",
    "WBC_normalized_r=recenter_regularize(WBC_arr_r)\n",
    "WBC_normalized_gray = recenter_regularize(WBC_arr_gray)\n",
    "\n",
    "\"\"\"RBC_mean = np.mean(RBC_arr, axis = 1)[np.newaxis]\n",
    "RBC_centered = RBC_arr - RBC_mean.T\n",
    "RBC_norm = np.linalg.norm(RBC_centered, axis = 1)[np.newaxis]\n",
    "RBC_normalized = RBC_centered/RBC_norm.T\"\"\"\n",
    "U, S, V = np.linalg.svd(WBC_normalized_gray)\n",
    "\n",
    "S_total = np.linalg.norm(S)**2\n",
    "S_incr = 0\n",
    "k = 0\n",
    "for s in S:\n",
    "    S_incr += s**2\n",
    "    if(S_incr >= 0.95*S_total):\n",
    "        break\n",
    "    k += 1                                                                          \n",
    "\n",
    "\n",
    "\n",
    "\n"
   ]
  },
  {
   "cell_type": "code",
   "execution_count": 99,
   "metadata": {},
   "outputs": [
    {
     "name": "stdout",
     "output_type": "stream",
     "text": [
      "0.9999999999999998\n"
     ]
    }
   ],
   "source": [
    "print(np.linalg.norm(WBC_normalized_gray[0]))"
   ]
  },
  {
   "cell_type": "code",
   "execution_count": 100,
   "metadata": {},
   "outputs": [
    {
     "name": "stdout",
     "output_type": "stream",
     "text": [
      "BloodImage_00000.jpg\n"
     ]
    }
   ],
   "source": [
    "print(os.path.split(list_reading_arr[0].name)[1][:-4] + '.jpg')"
   ]
  },
  {
   "cell_type": "code",
   "execution_count": 101,
   "metadata": {},
   "outputs": [
    {
     "name": "stdout",
     "output_type": "stream",
     "text": [
      "355\n"
     ]
    }
   ],
   "source": [
    "print(len(S))"
   ]
  },
  {
   "cell_type": "code",
   "execution_count": 102,
   "metadata": {},
   "outputs": [
    {
     "name": "stdout",
     "output_type": "stream",
     "text": [
      "[0.18825701 0.10617521 0.08053127 0.0722316  0.03747916 0.0358885\n",
      " 0.03304153 0.02217198 0.02036195 0.01901742]\n",
      "[[-0.00747208 -0.0071579  -0.0069707  ... -0.00587169 -0.00641052\n",
      "  -0.00701876]\n",
      " [-0.01457314 -0.01581686 -0.01680746 ... -0.01410303 -0.01372912\n",
      "  -0.01334199]\n",
      " [ 0.01519363  0.01492924  0.01468053 ... -0.01372112 -0.01309823\n",
      "  -0.01255929]\n",
      " ...\n",
      " [ 0.0055215   0.0058045   0.00738759 ... -0.0131397  -0.01297834\n",
      "  -0.01390181]\n",
      " [-0.0380132  -0.03927912 -0.04002912 ...  0.0403538   0.03810262\n",
      "   0.03713563]\n",
      " [-0.00323477 -0.00124402  0.00025518 ...  0.01627334  0.01979542\n",
      "   0.0207629 ]]\n"
     ]
    }
   ],
   "source": [
    "pca = PCA(n_components = 10)\n",
    "pca.fit(WBC_normalized_gray.T)\n",
    "print(pca.explained_variance_ratio_)\n",
    "print(pca.components_)\n"
   ]
  },
  {
   "cell_type": "code",
   "execution_count": 103,
   "metadata": {},
   "outputs": [],
   "source": [
    "#Principle components\n",
    "U_k = []\n",
    "for i in range(k):\n",
    "    U_k.append(U[:, i])\n",
    "    \n",
    "U_k = np.asarray(U_k)   \n",
    "WBC_tilta_gray = []\n",
    "for WBC in WBC_normalized_gray.T:\n",
    "    WBC_tilta_gray.append(list(map(lambda x:np.inner(x, WBC), U_k.tolist())))\n",
    "    \n",
    "\n"
   ]
  },
  {
   "cell_type": "code",
   "execution_count": 104,
   "metadata": {},
   "outputs": [
    {
     "data": {
      "image/png": "[encoded data removed]",
      "text/plain": [
       "<Figure size 432x288 with 1 Axes>"
      ]
     },
     "metadata": {
      "needs_background": "light"
     },
     "output_type": "display_data"
    }
   ],
   "source": [
    "U_skPCA = pca.components_\n",
    "\n",
    "U_skPCA = np.asarray(U_skPCA)\n",
    "WBC_tilta_gray_sk = []\n",
    "\n",
    "for WBC in WBC_normalized_gray.T:\n",
    "    WBC_tilta_gray_sk.append(list(map(lambda x:np.inner(x, WBC), U_skPCA)))\n",
    "    \n",
    "fig = plt.figure()\n",
    "ax = fig.add_subplot(111)\n",
    "WBC_tilta_gray_sk = np.asarray(WBC_tilta_gray_sk)\n",
    "counter = 0\n",
    "for i in range(len(WBC_tilta_gray_sk)):\n",
    "    if(label_arr[i] == 0):\n",
    "        c = 'g'\n",
    "    if(label_arr[i] == 1):\n",
    "        c = 'r'\n",
    "    if(label_arr[i] == 2):\n",
    "        counter += 1\n",
    "        c = 'b'\n",
    "    if(label_arr[i] == 3):\n",
    "        c = 'y'\n",
    "        \n",
    "    ax.scatter(WBC_tilta_gray_sk[i][0], WBC_tilta_gray_sk[i][1], color = c)\n",
    "\n",
    "plt.show()"
   ]
  },
  {
   "cell_type": "code",
   "execution_count": 105,
   "metadata": {},
   "outputs": [
    {
     "data": {
      "text/plain": [
       "(355, 10)"
      ]
     },
     "execution_count": 105,
     "metadata": {},
     "output_type": "execute_result"
    }
   ],
   "source": [
    "np.asarray(WBC_tilta_gray_sk).shape"
   ]
  },
  {
   "cell_type": "code",
   "execution_count": 106,
   "metadata": {},
   "outputs": [
    {
     "data": {
      "text/plain": [
       "(109, 3600)"
      ]
     },
     "execution_count": 106,
     "metadata": {},
     "output_type": "execute_result"
    }
   ],
   "source": [
    "U_k.shape"
   ]
  },
  {
   "cell_type": "code",
   "execution_count": 107,
   "metadata": {},
   "outputs": [
    {
     "data": {
      "image/png": "[encoded data removed]",
      "text/plain": [
       "<Figure size 432x288 with 1 Axes>"
      ]
     },
     "metadata": {
      "needs_background": "light"
     },
     "output_type": "display_data"
    }
   ],
   "source": [
    "fig = plt.figure()\n",
    "ax = fig.add_subplot(111)\n",
    "ax.scatter(range(len(S)), S**2/S_total)\n",
    "plt.show()"
   ]
  },
  {
   "cell_type": "code",
   "execution_count": 109,
   "metadata": {},
   "outputs": [
    {
     "data": {
      "image/png": "[encoded data removed]",
      "text/plain": [
       "<Figure size 432x288 with 1 Axes>"
      ]
     },
     "metadata": {
      "needs_background": "light"
     },
     "output_type": "display_data"
    }
   ],
   "source": [
    "#RBC_tilta_list = copy.deepcopy(RBC_tilta)\n",
    "WBC_tilta_gray = np.asarray(WBC_tilta_gray).T\n",
    "WBC_tilta_gray_12 = WBC_tilta_gray[:2]\n",
    "\n",
    "\n",
    "\n",
    "fig = plt.figure()\n",
    "ax = fig.add_subplot(111)\n",
    "WBC_tilta_gray_12 = WBC_tilta_gray_12.T\n",
    "counter = 0\n",
    "for i in range(len(WBC_tilta_gray_12)):\n",
    "    if(label_arr[i] == 0):\n",
    "        c = 'g'\n",
    "    if(label_arr[i] == 1):\n",
    "        c = 'r'\n",
    "    if(label_arr[i] == 2):\n",
    "        counter += 1\n",
    "        c = 'b'\n",
    "    if(label_arr[i] == 3):\n",
    "        c = 'y'\n",
    "        \n",
    "    ax.scatter(WBC_tilta_gray_12[i][0], WBC_tilta_gray_12[i][1], color = c)\n",
    "\n",
    "plt.show()\n"
   ]
  },
  {
   "cell_type": "markdown",
   "metadata": {},
   "source": [
    "## 1-2 knn approach by shuyu chen"
   ]
  },
  {
   "cell_type": "code",
   "execution_count": 111,
   "metadata": {
    "collapsed": true
   },
   "outputs": [
    {
     "name": "stdout",
     "output_type": "stream",
     "text": [
      "[ 0  0  0  0 -3 -3  0  0  1  0 -3  0  0  0  0  0  0  0  0  0  0  0  0  0\n",
      "  0 -3  0  0  0  0  3 -3  0  0  0 -3  0  0  0  0  0  0  0  0  0  0  0  0\n",
      "  0  0  0  3  0  0 -3]\n"
     ]
    },
    {
     "ename": "NameError",
     "evalue": "name 'RBC_tilta_list' is not defined",
     "output_type": "error",
     "traceback": [
      "\u001b[0;31m---------------------------------------------------------------------------\u001b[0m",
      "\u001b[0;31mNameError\u001b[0m                                 Traceback (most recent call last)",
      "\u001b[0;32m<ipython-input-111-29d3aba99997>\u001b[0m in \u001b[0;36m<module>\u001b[0;34m()\u001b[0m\n\u001b[1;32m     37\u001b[0m \u001b[0mprint\u001b[0m\u001b[0;34m(\u001b[0m\u001b[0mcls\u001b[0m\u001b[0;34m-\u001b[0m\u001b[0mnp\u001b[0m\u001b[0;34m.\u001b[0m\u001b[0masarray\u001b[0m\u001b[0;34m(\u001b[0m\u001b[0mlabel_arr\u001b[0m\u001b[0;34m[\u001b[0m\u001b[0;36m300\u001b[0m\u001b[0;34m:\u001b[0m\u001b[0;34m]\u001b[0m\u001b[0;34m)\u001b[0m\u001b[0;34m)\u001b[0m\u001b[0;34m\u001b[0m\u001b[0m\n\u001b[1;32m     38\u001b[0m \u001b[0;31m#print(np.sum(cls - np.asarray(label_arr[3000:])))\u001b[0m\u001b[0;34m\u001b[0m\u001b[0;34m\u001b[0m\u001b[0m\n\u001b[0;32m---> 39\u001b[0;31m \u001b[0mRBC_tilta\u001b[0m \u001b[0;34m=\u001b[0m \u001b[0mnp\u001b[0m\u001b[0;34m.\u001b[0m\u001b[0masarray\u001b[0m\u001b[0;34m(\u001b[0m\u001b[0mRBC_tilta_list\u001b[0m\u001b[0;34m)\u001b[0m\u001b[0;34m.\u001b[0m\u001b[0mT\u001b[0m\u001b[0;34m\u001b[0m\u001b[0m\n\u001b[0m\u001b[1;32m     40\u001b[0m \u001b[0;34m\u001b[0m\u001b[0m\n\u001b[1;32m     41\u001b[0m \u001b[0;34m\u001b[0m\u001b[0m\n",
      "\u001b[0;31mNameError\u001b[0m: name 'RBC_tilta_list' is not defined"
     ]
    }
   ],
   "source": [
    "\n",
    "# KNN classifier\n",
    "def KNN_classif(Feature, img_Rep, trainLabels, k):\n",
    "    training_labels = np.asarray(trainLabels)\n",
    "    #compute the distance of the input N-dim Feature to every other point\n",
    "    #\n",
    "    distance=[]\n",
    "    for img in img_Rep.T:\n",
    "        distance.append(np.linalg.norm(img - Feature))\n",
    "    \n",
    "    distance = np.array(distance)\n",
    "    distance_k = distance.argsort()[:k]\n",
    "    neighbors = training_labels[distance_k].tolist()\n",
    "    #print(neighbors)\n",
    "    #x = np.sum(training_labels[distance_k])\n",
    "    #return x\n",
    "    \n",
    "    return max(neighbors, key=neighbors.count)\n",
    "\n",
    "# k-fold Cross Validation \n",
    "'''cross_validation(samples, labels, k:int):\n",
    "    m,n = np.shape(samples)\n",
    "    k_fold = np.row_stack((samples, labels))\n",
    "'''    \n",
    "\n",
    "\n",
    "WBC_tilta_gray_train = WBC_tilta_gray[:300, :].T\n",
    "WBC_tilta_gray_test = WBC_tilta_gray[300:, :].T\n",
    "cls = []\n",
    "\n",
    "#for k in range()\n",
    "for i in range(len(WBC_tilta_gray_test[0])):\n",
    "    \n",
    "    cls.append(KNN_classif(WBC_tilta_gray_test[:, i], WBC_tilta_gray_train , label_arr, 19))\n",
    "\n",
    "cls = np.asarray(cls)\n",
    "print(cls-np.asarray(label_arr[300:]))\n",
    "#print(np.sum(cls - np.asarray(label_arr[3000:])))\n",
    "RBC_tilta = np.asarray(RBC_tilta_list).T\n",
    "\n",
    "\n",
    "\n"
   ]
  },
  {
   "cell_type": "markdown",
   "metadata": {},
   "source": [
    "## 1-3 Random Forest approach by Chaoji Zuo"
   ]
  },
  {
   "cell_type": "code",
   "execution_count": 423,
   "metadata": {},
   "outputs": [],
   "source": [
    "from sklearn.ensemble import RandomForestClassifier\n",
    "from sklearn.metrics import precision_score\n",
    "import pandas as pd\n",
    "from sklearn.metrics import confusion_matrix\n",
    "import itertools\n",
    "from sklearn.metrics import accuracy_score"
   ]
  },
  {
   "cell_type": "code",
   "execution_count": 312,
   "metadata": {},
   "outputs": [
    {
     "name": "stdout",
     "output_type": "stream",
     "text": [
      "value counts of labels:\n",
      " N    213\n",
      "E     87\n",
      "L     34\n",
      "M     21\n",
      "dtype: int64\n"
     ]
    }
   ],
   "source": [
    "labels=[]\n",
    "for i in list_reading_arr:\n",
    "      labels.append(i.typ)\n",
    "X_all=WBC_normalized_gray.T\n",
    "y_all=labels\n",
    "print(\"value counts of labels:\\n\",pd.Series(y_all).value_counts())"
   ]
  },
  {
   "cell_type": "markdown",
   "metadata": {},
   "source": [
    "### first try of whole data\n",
    "\n",
    "like the regression problem, I applied the random forest on the whole data and test on it. It got a pretty great \n",
    "result"
   ]
  },
  {
   "cell_type": "code",
   "execution_count": 426,
   "metadata": {},
   "outputs": [
    {
     "name": "stdout",
     "output_type": "stream",
     "text": [
      "precision score : 0.9915492957746479\n",
      "accuracy : 0.9915492957746479\n",
      "Normalized confusion matrix\n"
     ]
    },
    {
     "data": {
      "image/png": "[encoded data removed]",
      "text/plain": [
       "<Figure size 432x288 with 2 Axes>"
      ]
     },
     "metadata": {
      "needs_background": "light"
     },
     "output_type": "display_data"
    }
   ],
   "source": [
    "RFClassifier=RandomForestClassifier()\n",
    "RFClassifier.fit(X_all,y_all)\n",
    "pred_y=RFClassifier.predict(X_all)\n",
    "print('precision score :',precision_score(y_pred=pred_y,y_true=y_all,average='micro'))\n",
    "print('accuracy :',accuracy_score(y_pred=pred_y,y_true=y_all))\n",
    "con_mat=confusion_matrix(pred_y,y_all)\n",
    "plot_confusion_matrix(con_mat,classes=['E','L','M','N'],normalize=True)\n"
   ]
  },
  {
   "cell_type": "code",
   "execution_count": 308,
   "metadata": {},
   "outputs": [],
   "source": [
    "raw_data=WBC_normalized_gray.T\n",
    "raw_amount=np.array(labels)\n",
    "import random\n",
    "folds_data=[]\n",
    "folds_labels=[]\n",
    "def randomData(num):\n",
    "    indexs=list(range(num))\n",
    "    each=int(num/5)\n",
    "    random.shuffle(indexs)\n",
    "    data1=raw_data[indexs[:each]]\n",
    "    y1=raw_amount[indexs[:each]]\n",
    "    \n",
    "    data2=raw_data[indexs[each:each*2]]\n",
    "    y2=raw_amount[indexs[each:each*2]]\n",
    "    \n",
    "    data3=raw_data[indexs[each*2:each*3]]\n",
    "    y3=raw_amount[indexs[each*2:each*3]]\n",
    "    \n",
    "    data4=raw_data[indexs[each*3:each*4]]\n",
    "    y4=raw_amount[indexs[each*3:each*4]]\n",
    "    \n",
    "    data5=raw_data[indexs[each*4:each*5]]\n",
    "    y5=raw_amount[indexs[each*4:each*5]]\n",
    "    \n",
    "    \n",
    "    folds_data=[data1,data2,data3,data4,data5]\n",
    "    folds_labels=[y1,y2,y3,y4,y5]\n",
    "    return folds_data,folds_labels\n",
    "\n",
    "\n",
    "        \n",
    "fold_number=np.array([0,1,2,3,4])\n",
    "folds_data,folds_labels=randomData(355)"
   ]
  },
  {
   "cell_type": "code",
   "execution_count": 313,
   "metadata": {},
   "outputs": [],
   "source": [
    "def plot_confusion_matrix(cm, classes,\n",
    "                          normalize=False,\n",
    "                          title='Confusion matrix',\n",
    "                          cmap=plt.cm.Blues):\n",
    "    \"\"\"\n",
    "    This function prints and plots the confusion matrix.\n",
    "    Normalization can be applied by setting `normalize=True`.\n",
    "    \"\"\"\n",
    "    if normalize:\n",
    "        cm = cm.astype('float') / cm.sum(axis=1)[:, np.newaxis]\n",
    "        print(\"Normalized confusion matrix\")\n",
    "    else:\n",
    "        print('Confusion matrix, without normalization')\n",
    "\n",
    "    #print(cm)\n",
    "\n",
    "    plt.imshow(cm, interpolation='nearest', cmap=cmap)\n",
    "    plt.title(title)\n",
    "    plt.colorbar()\n",
    "    tick_marks = np.arange(len(classes))\n",
    "    plt.xticks(tick_marks, classes, rotation=45)\n",
    "    plt.yticks(tick_marks, classes)\n",
    "\n",
    "    fmt = '.2f' if normalize else 'd'\n",
    "    thresh = cm.max() / 2.\n",
    "    for i, j in itertools.product(range(cm.shape[0]), range(cm.shape[1])):\n",
    "        plt.text(j, i, format(cm[i, j], fmt),\n",
    "                 horizontalalignment=\"center\",\n",
    "                 color=\"white\" if cm[i, j] > thresh else \"black\")\n",
    "\n",
    "    plt.ylabel('True label')\n",
    "    plt.xlabel('Predicted label')\n",
    "    plt.tight_layout()"
   ]
  },
  {
   "cell_type": "markdown",
   "metadata": {},
   "source": [
    "### Cross-Validation on whole data\n",
    "\n",
    "Then I split data into test set and training set and use cross validation to see its generalization ability"
   ]
  },
  {
   "cell_type": "code",
   "execution_count": 428,
   "metadata": {},
   "outputs": [
    {
     "name": "stdout",
     "output_type": "stream",
     "text": [
      "prediction error of fold  0  :  0.7323943661971831\n",
      "Normalized confusion matrix\n"
     ]
    },
    {
     "data": {
      "image/png": "[encoded data removed]",
      "text/plain": [
       "<Figure size 432x288 with 2 Axes>"
      ]
     },
     "metadata": {
      "needs_background": "light"
     },
     "output_type": "display_data"
    },
    {
     "name": "stdout",
     "output_type": "stream",
     "text": [
      "prediction error of fold  1  :  0.6056338028169014\n",
      "Normalized confusion matrix\n"
     ]
    },
    {
     "data": {
      "image/png": "[encoded data removed]",
      "text/plain": [
       "<Figure size 432x288 with 2 Axes>"
      ]
     },
     "metadata": {
      "needs_background": "light"
     },
     "output_type": "display_data"
    },
    {
     "name": "stdout",
     "output_type": "stream",
     "text": [
      "prediction error of fold  2  :  0.6619718309859155\n",
      "Normalized confusion matrix\n"
     ]
    },
    {
     "name": "stderr",
     "output_type": "stream",
     "text": [
      "/Applications/anaconda3/lib/python3.7/site-packages/ipykernel_launcher.py:10: RuntimeWarning: invalid value encountered in true_divide\n",
      "  # Remove the CWD from sys.path while we load stuff.\n",
      "/Applications/anaconda3/lib/python3.7/site-packages/numpy/core/_methods.py:28: RuntimeWarning: invalid value encountered in reduce\n",
      "  return umr_maximum(a, axis, None, out, keepdims, initial)\n"
     ]
    },
    {
     "data": {
      "image/png": "[encoded data removed]",
      "text/plain": [
       "<Figure size 432x288 with 2 Axes>"
      ]
     },
     "metadata": {
      "needs_background": "light"
     },
     "output_type": "display_data"
    },
    {
     "name": "stdout",
     "output_type": "stream",
     "text": [
      "prediction error of fold  3  :  0.6338028169014085\n",
      "Normalized confusion matrix\n"
     ]
    },
    {
     "data": {
      "image/png": "[encoded data removed]",
      "text/plain": [
       "<Figure size 432x288 with 2 Axes>"
      ]
     },
     "metadata": {
      "needs_background": "light"
     },
     "output_type": "display_data"
    },
    {
     "name": "stdout",
     "output_type": "stream",
     "text": [
      "prediction error of fold  4  :  0.6197183098591549\n",
      "Normalized confusion matrix\n"
     ]
    },
    {
     "data": {
      "image/png": "[encoded data removed]",
      "text/plain": [
       "<Figure size 432x288 with 2 Axes>"
      ]
     },
     "metadata": {
      "needs_background": "light"
     },
     "output_type": "display_data"
    }
   ],
   "source": [
    "precisionArr=[]\n",
    "recallArr=[]\n",
    "for i in range(5):\n",
    "    test_data=folds_data[i]\n",
    "    test_labels=folds_labels[i]\n",
    "    train_number=np.delete(fold_number,i,axis=0)\n",
    "    train_data=np.concatenate((folds_data[train_number[0]],folds_data[train_number[1]],folds_data[train_number[2]],folds_data[train_number[3]]))\n",
    "    train_labels=np.concatenate((folds_labels[train_number[0]],folds_labels[train_number[1]],folds_labels[train_number[2]],folds_labels[train_number[3]]))\n",
    "\n",
    "    RFClassifier=RandomForestClassifier()\n",
    "    RFClassifier.fit(train_data,train_labels)\n",
    "    predictY=RFClassifier.predict(test_data)\n",
    "    plt.title(\"Measured versus Predicted\")\n",
    "    #plt.scatter(test_labels,list(predictY),c='b')\n",
    "    #plt.plot(test_labels,test_labels,c='r')\n",
    "    plt.xlabel(\"real value\")\n",
    "    plt.ylabel(\"predict value\")\n",
    "    #print(myLS.getWLS())\n",
    "    con_mat=confusion_matrix(predictY,test_labels)\n",
    "    score=precision_score(y_pred=predictY,y_true=test_labels,average='micro')\n",
    "    rec=accuracy_score(y_pred=predictY,y_true=test_labels)\n",
    "    print(\"prediction error of fold \",i,\" : \",precision_score(y_pred=predictY,y_true=test_labels,average='micro'))\n",
    "    plot_confusion_matrix(con_mat,classes=['E','L','M','N'],normalize=True)\n",
    "    plt.show()\n",
    "    precisionArr.append(score)\n",
    "    recallArr.append(rec)"
   ]
  },
  {
   "cell_type": "code",
   "execution_count": 430,
   "metadata": {},
   "outputs": [
    {
     "name": "stdout",
     "output_type": "stream",
     "text": [
      "average precision: 0.6507042253521127\n"
     ]
    }
   ],
   "source": [
    "print(\"average precision:\",np.mean(precisionArr))\n"
   ]
  },
  {
   "cell_type": "markdown",
   "metadata": {},
   "source": [
    "As you can see, the generalization ability of this model is really bad\n",
    "\n",
    "But it maybe because we just have a small size of dataset"
   ]
  },
  {
   "cell_type": "code",
   "execution_count": 319,
   "metadata": {},
   "outputs": [],
   "source": [
    "X_train=X_all[:300]\n",
    "y_train=y_all[:300]\n",
    "X_test=X_all[300:]\n",
    "y_test=y_all[300:]"
   ]
  },
  {
   "cell_type": "markdown",
   "metadata": {},
   "source": [
    "### parameters optimazation"
   ]
  },
  {
   "cell_type": "code",
   "execution_count": 418,
   "metadata": {},
   "outputs": [
    {
     "name": "stdout",
     "output_type": "stream",
     "text": [
      "Best parameters:\n",
      "{'max_depth': 30, 'max_features': 'auto', 'n_estimators': 100}\n"
     ]
    }
   ],
   "source": [
    "from sklearn.model_selection import GridSearchCV\n",
    "\n",
    "rfc = RandomForestClassifier()\n",
    "#tuned_parameters = [{'n_estimators':[1,20,200],'max_depth':[8,10,30]}]\n",
    "tuned_parameters = [{'max_features':['sqrt','auto','log2'],'n_estimators':[1,20,100],'max_depth':[10,30,60]}]\n",
    "\n",
    "clf = GridSearchCV(estimator=rfc,param_grid=tuned_parameters, cv=5, n_jobs=1)\n",
    "\n",
    "clf.fit(X_train, y_train)\n",
    "print('Best parameters:')\n",
    "print(clf.best_params_)"
   ]
  },
  {
   "cell_type": "code",
   "execution_count": 392,
   "metadata": {},
   "outputs": [],
   "source": [
    "'''RFClassifier=RandomForestClassifier(min_samples_leaf=3,n_estimators=200)\n",
    "RFClassifier.fit(X_train,y_train)\n",
    "pred_y=RFClassifier.predict(X_test)\n",
    "print(\"prediction error :\",precision_score(y_pred=pred_y,y_true=y_test,average='micro'))\n",
    "con_mat=confusion_matrix(predictY,test_labels)\n",
    "plot_confusion_matrix(con_mat,classes=['E','L','M','N'],normalize=True)\n",
    "'''\n",
    "h=1"
   ]
  },
  {
   "cell_type": "code",
   "execution_count": 419,
   "metadata": {},
   "outputs": [
    {
     "name": "stdout",
     "output_type": "stream",
     "text": [
      "prediction error of fold  0  :  0.704225352112676\n",
      "Normalized confusion matrix\n"
     ]
    },
    {
     "name": "stderr",
     "output_type": "stream",
     "text": [
      "/Applications/anaconda3/lib/python3.7/site-packages/ipykernel_launcher.py:10: RuntimeWarning: invalid value encountered in true_divide\n",
      "  # Remove the CWD from sys.path while we load stuff.\n",
      "/Applications/anaconda3/lib/python3.7/site-packages/numpy/core/_methods.py:28: RuntimeWarning: invalid value encountered in reduce\n",
      "  return umr_maximum(a, axis, None, out, keepdims, initial)\n"
     ]
    },
    {
     "data": {
      "image/png": "[encoded data removed]",
      "text/plain": [
       "<Figure size 432x288 with 2 Axes>"
      ]
     },
     "metadata": {
      "needs_background": "light"
     },
     "output_type": "display_data"
    },
    {
     "name": "stdout",
     "output_type": "stream",
     "text": [
      "prediction error of fold  1  :  0.6619718309859155\n",
      "Normalized confusion matrix\n"
     ]
    },
    {
     "name": "stderr",
     "output_type": "stream",
     "text": [
      "/Applications/anaconda3/lib/python3.7/site-packages/ipykernel_launcher.py:10: RuntimeWarning: invalid value encountered in true_divide\n",
      "  # Remove the CWD from sys.path while we load stuff.\n",
      "/Applications/anaconda3/lib/python3.7/site-packages/numpy/core/_methods.py:28: RuntimeWarning: invalid value encountered in reduce\n",
      "  return umr_maximum(a, axis, None, out, keepdims, initial)\n"
     ]
    },
    {
     "data": {
      "image/png": "[encoded data removed]",
      "text/plain": [
       "<Figure size 432x288 with 2 Axes>"
      ]
     },
     "metadata": {
      "needs_background": "light"
     },
     "output_type": "display_data"
    },
    {
     "name": "stdout",
     "output_type": "stream",
     "text": [
      "prediction error of fold  2  :  0.676056338028169\n",
      "Normalized confusion matrix\n"
     ]
    },
    {
     "name": "stderr",
     "output_type": "stream",
     "text": [
      "/Applications/anaconda3/lib/python3.7/site-packages/ipykernel_launcher.py:10: RuntimeWarning: invalid value encountered in true_divide\n",
      "  # Remove the CWD from sys.path while we load stuff.\n",
      "/Applications/anaconda3/lib/python3.7/site-packages/numpy/core/_methods.py:28: RuntimeWarning: invalid value encountered in reduce\n",
      "  return umr_maximum(a, axis, None, out, keepdims, initial)\n"
     ]
    },
    {
     "data": {
      "image/png": "[encoded data removed]",
      "text/plain": [
       "<Figure size 432x288 with 2 Axes>"
      ]
     },
     "metadata": {
      "needs_background": "light"
     },
     "output_type": "display_data"
    },
    {
     "name": "stdout",
     "output_type": "stream",
     "text": [
      "prediction error of fold  3  :  0.6338028169014085\n",
      "Normalized confusion matrix\n"
     ]
    },
    {
     "name": "stderr",
     "output_type": "stream",
     "text": [
      "/Applications/anaconda3/lib/python3.7/site-packages/ipykernel_launcher.py:10: RuntimeWarning: invalid value encountered in true_divide\n",
      "  # Remove the CWD from sys.path while we load stuff.\n",
      "/Applications/anaconda3/lib/python3.7/site-packages/numpy/core/_methods.py:28: RuntimeWarning: invalid value encountered in reduce\n",
      "  return umr_maximum(a, axis, None, out, keepdims, initial)\n"
     ]
    },
    {
     "data": {
      "image/png": "[encoded data removed]",
      "text/plain": [
       "<Figure size 432x288 with 2 Axes>"
      ]
     },
     "metadata": {
      "needs_background": "light"
     },
     "output_type": "display_data"
    },
    {
     "name": "stdout",
     "output_type": "stream",
     "text": [
      "prediction error of fold  4  :  0.6056338028169014\n",
      "Normalized confusion matrix\n"
     ]
    },
    {
     "name": "stderr",
     "output_type": "stream",
     "text": [
      "/Applications/anaconda3/lib/python3.7/site-packages/ipykernel_launcher.py:10: RuntimeWarning: invalid value encountered in true_divide\n",
      "  # Remove the CWD from sys.path while we load stuff.\n",
      "/Applications/anaconda3/lib/python3.7/site-packages/numpy/core/_methods.py:28: RuntimeWarning: invalid value encountered in reduce\n",
      "  return umr_maximum(a, axis, None, out, keepdims, initial)\n"
     ]
    },
    {
     "data": {
      "image/png": "[encoded data removed]",
      "text/plain": [
       "<Figure size 432x288 with 2 Axes>"
      ]
     },
     "metadata": {
      "needs_background": "light"
     },
     "output_type": "display_data"
    }
   ],
   "source": [
    "for i in range(5):\n",
    "    test_data=folds_data[i]\n",
    "    test_labels=folds_labels[i]\n",
    "    train_number=np.delete(fold_number,i,axis=0)\n",
    "    train_data=np.concatenate((folds_data[train_number[0]],folds_data[train_number[1]],folds_data[train_number[2]],folds_data[train_number[3]]))\n",
    "    train_labels=np.concatenate((folds_labels[train_number[0]],folds_labels[train_number[1]],folds_labels[train_number[2]],folds_labels[train_number[3]]))\n",
    "\n",
    "    RFClassifier=RandomForestClassifier(n_estimators=200,max_depth=30,max_features='auto')\n",
    "    RFClassifier.fit(train_data,train_labels)\n",
    "    predictY=RFClassifier.predict(test_data)\n",
    "    plt.title(\"Measured versus Predicted\")\n",
    "    #plt.scatter(test_labels,list(predictY),c='b')\n",
    "    #plt.plot(test_labels,test_labels,c='r')\n",
    "    plt.xlabel(\"real value\")\n",
    "    plt.ylabel(\"predict value\")\n",
    "    #print(myLS.getWLS())\n",
    "    con_mat=confusion_matrix(predictY,test_labels)\n",
    "    \n",
    "\n",
    "    score=precision_score(y_pred=predictY,y_true=test_labels,average='micro')\n",
    "\n",
    "    print(\"prediction error of fold \",i,\" : \",precision_score(y_pred=predictY,y_true=test_labels,average='micro'))\n",
    "    plot_confusion_matrix(con_mat,classes=['E','L','M','N'],normalize=True)\n",
    "    plt.show()\n",
    "    precisionArr.append(score)"
   ]
  },
  {
   "cell_type": "code",
   "execution_count": 420,
   "metadata": {},
   "outputs": [
    {
     "name": "stdout",
     "output_type": "stream",
     "text": [
      "average precision: 0.6535211267605633\n"
     ]
    }
   ],
   "source": [
    "print(\"average precision:\",np.mean(precisionArr))"
   ]
  },
  {
   "cell_type": "markdown",
   "metadata": {},
   "source": [
    "by training the best parameters, the output became better, but just improve a little"
   ]
  },
  {
   "cell_type": "markdown",
   "metadata": {},
   "source": [
    "## 1-4 Gaussian Naive Bayes Classifier by Changlin Jiang"
   ]
  },
  {
   "cell_type": "markdown",
   "metadata": {},
   "source": [
    "### Discussion\n",
    "The image-based dataset is likely to be iid,so naive bayes classifier may work.Implement gaussian naive bayes classifier to the dataset and use cross validation to check the accuracy:"
   ]
  },
  {
   "cell_type": "markdown",
   "metadata": {},
   "source": [
    "### PCA with error<0.1 (k=59)"
   ]
  },
  {
   "cell_type": "code",
   "execution_count": 26,
   "metadata": {},
   "outputs": [],
   "source": [
    "from sklearn.model_selection import cross_val_score\n",
    "from sklearn.naive_bayes import GaussianNB\n",
    "from sklearn.metrics import confusion_matrix\n",
    "import itertools\n",
    "import matplotlib.pyplot as plt"
   ]
  },
  {
   "cell_type": "code",
   "execution_count": 27,
   "metadata": {},
   "outputs": [],
   "source": [
    "U_k=U[:,:59]\n",
    "WBC_gray_telda=np.mat(U_k.T)*np.mat(WBC_normalized_gray)"
   ]
  },
  {
   "cell_type": "code",
   "execution_count": 28,
   "metadata": {},
   "outputs": [
    {
     "name": "stdout",
     "output_type": "stream",
     "text": [
      "Gaussian naive bayes classifier:\n",
      "Cross validation scores= [0.53424658 0.5        0.63380282 0.57746479 0.5942029 ] ,Mean accuragy= 0.5679434159053987\n"
     ]
    }
   ],
   "source": [
    "clf = GaussianNB()\n",
    "data_gaussian=WBC_gray_telda.T\n",
    "scores_gaussian = cross_val_score(clf, data_gaussian, label_arr, cv=5)\n",
    "print(\"Gaussian naive bayes classifier:\")\n",
    "print(\"Cross validation scores=\",scores_gaussian,\",Mean accuragy=\",np.mean(scores_gaussian))"
   ]
  },
  {
   "cell_type": "code",
   "execution_count": 29,
   "metadata": {},
   "outputs": [
    {
     "name": "stdout",
     "output_type": "stream",
     "text": [
      "0-1 Loss= 13  Accuracy= 0.7678571428571428\n"
     ]
    }
   ],
   "source": [
    "training_data=WBC_gray_telda[:,:300]\n",
    "training_label=label_arr[:300]\n",
    "test_data=WBC_gray_telda[:,300:]\n",
    "test_label=label_arr[300:]\n",
    "clf.fit(training_data.T,training_label)\n",
    "labels_derived=clf.predict(test_data.T)\n",
    "error=0\n",
    "for i in range(len(test_label)):\n",
    "    if test_label[i]!=labels_derived[i]:\n",
    "        error+=1\n",
    "accuracy=1-error/len(test_label)\n",
    "print(\"0-1 Loss=\",error,\" Accuracy=\",accuracy)"
   ]
  },
  {
   "cell_type": "code",
   "execution_count": 30,
   "metadata": {},
   "outputs": [
    {
     "name": "stdout",
     "output_type": "stream",
     "text": [
      "[[40  3  0  4]\n",
      " [ 0  0  0  0]\n",
      " [ 1  0  0  1]\n",
      " [ 4  0  0  3]]\n"
     ]
    }
   ],
   "source": [
    "conf_mat=confusion_matrix(test_label, labels_derived)\n",
    "print(conf_mat)"
   ]
  },
  {
   "cell_type": "code",
   "execution_count": 31,
   "metadata": {},
   "outputs": [
    {
     "name": "stdout",
     "output_type": "stream",
     "text": [
      "Confusion matrix, without normalization\n",
      "[[40  3  0  4]\n",
      " [ 0  0  0  0]\n",
      " [ 1  0  0  1]\n",
      " [ 4  0  0  3]]\n"
     ]
    },
    {
     "data": {
      "image/png": "[encoded data removed]",
      "text/plain": [
       "<Figure size 432x288 with 2 Axes>"
      ]
     },
     "metadata": {
      "needs_background": "light"
     },
     "output_type": "display_data"
    }
   ],
   "source": [
    "def plot_confusion_matrix(cm, classes,\n",
    "                          normalize=False,\n",
    "                          title='Confusion matrix',\n",
    "                          cmap=plt.cm.Blues):\n",
    "    \"\"\"\n",
    "    This function prints and plots the confusion matrix.\n",
    "    Normalization can be applied by setting `normalize=True`.\n",
    "    \"\"\"\n",
    "    if normalize:\n",
    "        cm = cm.astype('float') / cm.sum(axis=1)[:, np.newaxis]\n",
    "        print(\"Normalized confusion matrix\")\n",
    "    else:\n",
    "        print('Confusion matrix, without normalization')\n",
    "\n",
    "    print(cm)\n",
    "\n",
    "    plt.imshow(cm, interpolation='nearest', cmap=cmap)\n",
    "    plt.title(title)\n",
    "    plt.colorbar()\n",
    "    tick_marks = np.arange(len(classes))\n",
    "    plt.xticks(tick_marks, classes, rotation=45)\n",
    "    plt.yticks(tick_marks, classes)\n",
    "\n",
    "    fmt = '.2f' if normalize else 'd'\n",
    "    thresh = cm.max() / 2.\n",
    "    for i, j in itertools.product(range(cm.shape[0]), range(cm.shape[1])):\n",
    "        plt.text(j, i, format(cm[i, j], fmt),\n",
    "                 horizontalalignment=\"center\",\n",
    "                 color=\"white\" if cm[i, j] > thresh else \"black\")\n",
    "        \n",
    "plt.figure()\n",
    "plot_confusion_matrix(conf_mat, classes=[0,1,2,3],\n",
    "                      title='Confusion matrix, without normalization')"
   ]
  },
  {
   "cell_type": "markdown",
   "metadata": {},
   "source": [
    "The result shows that using gaussian naive bayes classifier maybe not a good idea.Possible reason is that the data maybe not gaussian distributed or non-linear model."
   ]
  },
  {
   "cell_type": "markdown",
   "metadata": {},
   "source": [
    "# 2. Regression Problem\n",
    "#### Dataset Description:  \n",
    "The dataset includes 9358 data samples of responses from 5 metal oxide chemical sensors embedded in an Air Quality Monitoring Device, recorded along with hours. The device was located on the field in a significantly polluted area in Italy. The data was collected to estimate benzene concentration with the response from the previously mentioned sensors, which are originally designed to monitor non-benzene substance concentration(i.e. there maybe a potential relationship between the concentration of benzene and the 5 kinds of non-benzene substance.).Consequently, the labels should be the true values of benzene concentration.  \n",
    "The dataset is provided in S. De Vito, E. Massera, M. Piga, L. Martinotto, G. Di Francia, On field calibration of an electronic nose for benzene estimation in an urban pollution monitoring scenario, Sensors and Actuators B: Chemical, Volume 129, Issue 2, 22 February 2008, Pages 750-757, ISSN 0925-4005.  "
   ]
  },
  {
   "cell_type": "markdown",
   "metadata": {},
   "source": [
    "## 2-1 pre-processing and LS Solution Approach by Changlin Jiang\n",
    "#### Libraries and dataset importing"
   ]
  },
  {
   "cell_type": "code",
   "execution_count": 1,
   "metadata": {},
   "outputs": [],
   "source": [
    "# import libraries\n",
    "import csv\n",
    "import numpy as np\n",
    "from numpy import linalg as la\n",
    "import matplotlib.pyplot as plt\n",
    "import math"
   ]
  },
  {
   "cell_type": "code",
   "execution_count": 2,
   "metadata": {},
   "outputs": [],
   "source": [
    "# read dataset from csv file\n",
    "with open('AirQualityUCI.csv') as csv_file:\n",
    "    csv_reader=csv.reader(csv_file, delimiter=',')\n",
    "    date,time,CO_true,CO_measured,NMHC_true,C6H6_true,NMHC_measured,NOx_true,NOx_measured,NO2_true,NO2_measured,O3_measured,temp,RH,AH=[0 for i in range(9357)],[0 for i in range(9357)],[0 for i in range(9357)],[0 for i in range(9357)],[0 for i in range(9357)],[0 for i in range(9357)],[0 for i in range(9357)],[0 for i in range(9357)],[0 for i in range(9357)],[0 for i in range(9357)],[0 for i in range(9357)],[0 for i in range(9357)],[0 for i in range(9357)],[0 for i in range(9357)],[0 for i in range(9357)]\n",
    "    line_count=0\n",
    "    for row in csv_reader:\n",
    "        if row[0]==\"\":\n",
    "            break;\n",
    "        if(line_count!=0):\n",
    "            date[line_count-1],time[line_count-1],CO_true[line_count-1],CO_measured[line_count-1],NMHC_true[line_count-1],C6H6_true[line_count-1],NMHC_measured[line_count-1],NOx_true[line_count-1],NOx_measured[line_count-1],NO2_true[line_count-1],NO2_measured[line_count-1],O3_measured[line_count-1],temp[line_count-1],RH[line_count-1],AH[line_count-1]=row[0],row[1],row[2],row[3],row[4],row[5],row[6],row[7],row[8],row[9],row[10],row[11],row[12],row[13],row[14]\n",
    "        line_count+=1"
   ]
  },
  {
   "cell_type": "markdown",
   "metadata": {},
   "source": [
    "#### Data Cleaning\n",
    "The missing values in the dataset was tagged with -200. To clean the dataset, the missing values are filled with the mean of the dimension."
   ]
  },
  {
   "cell_type": "code",
   "execution_count": 3,
   "metadata": {
    "scrolled": true
   },
   "outputs": [],
   "source": [
    "# clean the data and label by replacing invalid value with mean\n",
    "def clean_replace(data,labels):\n",
    "    # clean the data\n",
    "    m,n=np.shape(data)\n",
    "    mean=[0 for i in range(m)]\n",
    "    for i in range(m):\n",
    "        sum=0\n",
    "        count=0\n",
    "        for j in range(n):\n",
    "            if(data[i,j]>=0):\n",
    "                sum+=data[i,j]\n",
    "                count+=1\n",
    "        mean[i]=sum/count\n",
    "    for i in range(m):\n",
    "        for j in range(n):\n",
    "            if data[i,j]<0:\n",
    "                data[i,j]=mean[i]\n",
    "\n",
    "    # clean the label\n",
    "    labels=np.array(labels).astype(np.float64)\n",
    "    sum=0\n",
    "    count=0\n",
    "    for i in range(n):\n",
    "        if labels[i]>=0:\n",
    "            sum+=labels[i]\n",
    "            count+=1\n",
    "    mean=sum/count\n",
    "    for i in range(n):\n",
    "        if labels[i]<0:\n",
    "            labels[i]=mean\n",
    "    return data,labels"
   ]
  },
  {
   "cell_type": "markdown",
   "metadata": {},
   "source": [
    "#### LS solution implementation"
   ]
  },
  {
   "cell_type": "code",
   "execution_count": 4,
   "metadata": {},
   "outputs": [],
   "source": [
    "# implement LS solution\n",
    "def ls_solution(data,labels):\n",
    "    m,n=np.shape(data)\n",
    "    data_hat=np.row_stack((data,[1 for i in range(n)])).T.astype(np.float64)\n",
    "    w=la.inv(data_hat.T*data_hat)*data_hat.T*labels.T\n",
    "    return w"
   ]
  },
  {
   "cell_type": "markdown",
   "metadata": {},
   "source": [
    "#### Cross Validation Implementation"
   ]
  },
  {
   "cell_type": "code",
   "execution_count": 5,
   "metadata": {},
   "outputs": [],
   "source": [
    "# Build cross validation function, return regression error for each test and derived labels\n",
    "def cross_validation(data,labels,k:int):\n",
    "    m,n=np.shape(data)\n",
    "    data_with_labels=np.mat(np.row_stack((data,labels))).astype(np.float64)\n",
    "    a=n//k\n",
    "    fold=[0 for i in range(k)]\n",
    "    for i in range(k):\n",
    "        if i!=k-1:\n",
    "            fold[i]=data_with_labels[:,i*a:(i+1)*a].astype(np.float64)\n",
    "        else:\n",
    "            fold[i]=data_with_labels[:,i*a:].astype(np.float64)\n",
    "    reg_error=[0 for i in range(k)]\n",
    "    labels_derived=np.mat([0 for i in range(n)]).astype(np.float64).T\n",
    "    \n",
    "    for i in range(k):\n",
    "        test_data=fold[i].astype(np.float64)\n",
    "        mi,ni=np.shape(fold[i])\n",
    "        training_data=np.mat([[0 for j in range(n-ni)] for i in range(m+1)]).astype(np.float64)\n",
    "        sample_number=0\n",
    "        for j in range(k):\n",
    "            if j==i:\n",
    "                continue\n",
    "            mj,nj=np.shape(fold[j])\n",
    "            training_data[:,sample_number:sample_number+nj]=fold[j]\n",
    "            sample_number=sample_number+nj\n",
    "        # Algorithm implementation\n",
    "        w=ls_solution(training_data[:m,:],training_data[m,:])\n",
    "        test_data_hat=np.row_stack((test_data[:m,:],np.mat([1 for x in range(ni)])))\n",
    "        y=test_data_hat.T*w\n",
    "        if i!=k-1:\n",
    "            labels_derived[i*a:(i+1)*a]=y\n",
    "        else:\n",
    "            labels_derived[i*a:]=y\n",
    "        reg_error[i]=la.norm(y-labels,2)\n",
    "    overall_error=la.norm(reg_error)\n",
    "    return reg_error,labels_derived,overall_error"
   ]
  },
  {
   "cell_type": "markdown",
   "metadata": {},
   "source": [
    "#### Overall process implementation\n",
    "The pipeline implemented is as below:  \n",
    "- Data importing:  \n",
    "Import data from csv file and save each dimension into a individual list.\n",
    "- Data cleaning:\n",
    "Fill all the missing values in data with the mean of the dimension.\n",
    "- Algorithm implement:\n",
    "Implement LS solution to learn the dataset.\n",
    "- Algorithm evaluation:\n",
    "Build K-folds cross validation to compute the regression error of the algorithm\n",
    "- Parameter determination:\n",
    "Run K-folds cross validation with K in a linear array to find the best K for this certain dataset."
   ]
  },
  {
   "cell_type": "code",
   "execution_count": 6,
   "metadata": {},
   "outputs": [],
   "source": [
    "# Define overall process function to show the results\n",
    "def ls_regression(data,labels):\n",
    "    m,n=np.shape(np.mat(data))\n",
    "    if m>1:\n",
    "        data=np.row_stack(data)\n",
    "    data=np.mat(data).astype(np.float64)\n",
    "    data,labels=clean_replace(data,labels)\n",
    "    # Implement LS regression nand cross validation to find the best K\n",
    "    k=[2,3,4,5,6,7,8,9,10]\n",
    "    overall_error=[0 for i in range(9)]\n",
    "    for i in range(9):\n",
    "        overall_error[i]=cross_validation(data,labels,k[i])[2]\n",
    "    # Plot the K-Error plot to show the best K\n",
    "    plt.figure(1)\n",
    "    plt.plot(k,overall_error)\n",
    "    plt.title('K-Error Plot')\n",
    "    print(\"The best K is \",k[overall_error.index(min(overall_error))])\n",
    "    # Plot the regression result derived by the best K in a predicted-versus-measured scatter plot\n",
    "    reg_error,labels_derived,overall_error=cross_validation(data,labels,k[overall_error.index(min(overall_error))])\n",
    "    labels_derived=np.array(labels_derived).reshape(-1,1)\n",
    "    labels=np.array(labels).reshape(1,-1).T\n",
    "    plt.figure(2)\n",
    "    plt.scatter(labels,labels_derived,color='b')\n",
    "    ymax=max([max(labels),max(labels_derived)])\n",
    "    plt.plot([0,max(labels)],[0,max(labels)], color='r', linewidth=1, alpha=0.6)\n",
    "    plt.xlabel('Predicted Labels')\n",
    "    plt.ylabel('Measured Labels')\n",
    "    plt.title('Overall L2-Loss Regression Error={}'.format(overall_error))"
   ]
  },
  {
   "cell_type": "code",
   "execution_count": 7,
   "metadata": {},
   "outputs": [],
   "source": [
    "data=(CO_measured,NMHC_measured,NOx_measured,NO2_measured,O3_measured,temp,RH,AH)\n",
    "labels=C6H6_true\n",
    "#ls_regression(data,labels)"
   ]
  },
  {
   "cell_type": "code",
   "execution_count": 10,
   "metadata": {},
   "outputs": [
    {
     "name": "stdout",
     "output_type": "stream",
     "text": [
      "compare to sklearn least regression\n",
      "error: 114.61370295241286\n"
     ]
    },
    {
     "data": {
      "image/png": "[encoded data removed]",
      "text/plain": [
       "<Figure size 432x288 with 1 Axes>"
      ]
     },
     "metadata": {
      "needs_background": "light"
     },
     "output_type": "display_data"
    }
   ],
   "source": [
    "print(\"compare to sklearn least regression\")\n",
    "from sklearn import linear_model\n",
    "clean_data=np.array(data)\n",
    "reg=linear_model.LinearRegression()\n",
    "reg.fit(clean_data.T,labels)\n",
    "y=reg.predict(clean_data.T)\n",
    "print (\"error:\",np.linalg.norm(labels-y))\n",
    "plt.scatter(labels,y)\n",
    "plt.show()"
   ]
  },
  {
   "cell_type": "markdown",
   "metadata": {},
   "source": [
    "## 2-2 random forest approach by Chaoji Zuo"
   ]
  },
  {
   "cell_type": "markdown",
   "metadata": {},
   "source": [
    "When I started solving this problem, I did not use any other optimazation methods, I just try to put all the cleaned data into the Random Forest Regression model and did not know clearly what would I get.\n",
    "\n",
    "And the result really surprise me, the error is really small and random forest looks like a perfect solution for this dataset."
   ]
  },
  {
   "cell_type": "code",
   "execution_count": 11,
   "metadata": {},
   "outputs": [],
   "source": [
    "from sklearn.ensemble import RandomForestRegressor\n",
    "data=np.array(data).astype(np.float64)\n",
    "data,labels=clean_replace(data,labels)\n",
    "clean_data=np.array(data)\n",
    "X_train, y_train = clean_data.T[:6000],labels[:6000]\n",
    "X_test,y_test=clean_data.T[6000:],labels[6000:]"
   ]
  },
  {
   "cell_type": "code",
   "execution_count": 12,
   "metadata": {},
   "outputs": [
    {
     "data": {
      "text/plain": [
       "RandomForestRegressor(bootstrap=True, criterion='mse', max_depth=None,\n",
       "           max_features='auto', max_leaf_nodes=None,\n",
       "           min_impurity_decrease=0.0, min_impurity_split=None,\n",
       "           min_samples_leaf=1, min_samples_split=2,\n",
       "           min_weight_fraction_leaf=0.0, n_estimators=10, n_jobs=1,\n",
       "           oob_score=False, random_state=None, verbose=0, warm_start=False)"
      ]
     },
     "execution_count": 12,
     "metadata": {},
     "output_type": "execute_result"
    }
   ],
   "source": [
    "regr=RandomForestRegressor()\n",
    "regr.fit(clean_data.T,labels)"
   ]
  },
  {
   "cell_type": "code",
   "execution_count": 13,
   "metadata": {},
   "outputs": [
    {
     "data": {
      "image/png": "[encoded data removed]",
      "text/plain": [
       "<Figure size 432x288 with 1 Axes>"
      ]
     },
     "metadata": {
      "needs_background": "light"
     },
     "output_type": "display_data"
    },
    {
     "name": "stdout",
     "output_type": "stream",
     "text": [
      "2-norm error: 8.681710660923919\n",
      "R^2 score of predict values: 0.9998489365496641\n"
     ]
    }
   ],
   "source": [
    "data=np.array(data).astype(np.float64)\n",
    "clean_data=np.array(data)\n",
    "labels=np.array(labels).astype(np.float64)\n",
    "res=regr.predict(clean_data.T)\n",
    "\n",
    "plt.scatter(res,labels)\n",
    "plt.plot([min(labels),max(labels)],[min(labels),max(labels)],c='r')\n",
    "plt.title(\"first try on the whole datasets\")\n",
    "plt.xlabel(\"true values\")\n",
    "plt.ylabel(\"predict values\")\n",
    "plt.show()\n",
    "print(\"2-norm error:\",np.linalg.norm(res-labels))\n",
    "print(\"R^2 score of predict values:\",regr.score(clean_data.T,labels))"
   ]
  },
  {
   "cell_type": "markdown",
   "metadata": {},
   "source": [
    "However, this may be just because I use the training data to do the test. And it may have some kind of over-fitting so I then leave some test data and train the model using the training data.\n",
    "\n",
    "And It still get a great performance."
   ]
  },
  {
   "cell_type": "code",
   "execution_count": 14,
   "metadata": {},
   "outputs": [
    {
     "data": {
      "image/png": "[encoded data removed]",
      "text/plain": [
       "<Figure size 432x288 with 1 Axes>"
      ]
     },
     "metadata": {
      "needs_background": "light"
     },
     "output_type": "display_data"
    },
    {
     "name": "stdout",
     "output_type": "stream",
     "text": [
      "2-norm error: 14.214309507124208\n",
      "R^2 score of predict values: 0.9988393238910085\n"
     ]
    }
   ],
   "source": [
    "regr=RandomForestRegressor()\n",
    "regr.fit(X_train,y_train)\n",
    "res=regr.predict(X_test)\n",
    "\n",
    "plt.scatter(y_test,res)\n",
    "plt.plot([min(y_test),max(y_test)],[min(y_test),max(y_test)],c='r')\n",
    "plt.title(\"second try on the test data (default parameters)\")\n",
    "plt.xlabel(\"true values\")\n",
    "plt.ylabel(\"predict values\")\n",
    "plt.show()\n",
    "print(\"2-norm error:\",np.linalg.norm(res-y_test))\n",
    "print(\"R^2 score of predict values:\",regr.score(X_test,y_test))"
   ]
  },
  {
   "cell_type": "markdown",
   "metadata": {},
   "source": [
    "So I think this model doesn't have a over-fitting problem.\n",
    "\n",
    "It is a very sutiable model to this dataset.\n",
    "\n",
    "Since I just use the default parameters, I think maybe I can get a even better result by using the cross validation to train the best parameters."
   ]
  },
  {
   "cell_type": "code",
   "execution_count": 15,
   "metadata": {},
   "outputs": [
    {
     "name": "stdout",
     "output_type": "stream",
     "text": [
      "Best parameters:\n",
      "{'min_samples_leaf': 2, 'n_estimators': 10}\n"
     ]
    }
   ],
   "source": [
    "from sklearn.model_selection import GridSearchCV\n",
    "\n",
    "X_train, y_train = clean_data.T[:6000],labels[:6000]\n",
    "\n",
    "rfr = RandomForestRegressor()\n",
    "tuned_parameters = [{'min_samples_leaf':[1,2,3], 'n_estimators':[10,20,200]}]\n",
    "\n",
    "clf = GridSearchCV(estimator=rfr,param_grid=tuned_parameters, cv=5, n_jobs=1)\n",
    "\n",
    "clf.fit(X_train, y_train)\n",
    "print('Best parameters:')\n",
    "print(clf.best_params_)"
   ]
  },
  {
   "cell_type": "code",
   "execution_count": 16,
   "metadata": {},
   "outputs": [
    {
     "data": {
      "image/png": "[encoded data removed]",
      "text/plain": [
       "<Figure size 432x288 with 1 Axes>"
      ]
     },
     "metadata": {
      "needs_background": "light"
     },
     "output_type": "display_data"
    },
    {
     "name": "stdout",
     "output_type": "stream",
     "text": [
      "2-norm error: 7.34916772622886\n",
      "R^2 score of predict values: 0.9996897328273662\n"
     ]
    }
   ],
   "source": [
    "regr=RandomForestRegressor(n_estimators=20,min_samples_leaf=1)\n",
    "regr.fit(X_test,y_test)\n",
    "res=regr.predict(X_test)\n",
    "\n",
    "plt.scatter(y_test,res)\n",
    "plt.plot([min(y_test),max(y_test)],[min(y_test),max(y_test)],c='r')\n",
    "plt.title(\"third try on the test data (n_estimators=20,min_samples_leaf=1)\")\n",
    "plt.xlabel(\"true values\")\n",
    "plt.ylabel(\"predict values\")\n",
    "plt.show()\n",
    "\n",
    "print(\"2-norm error:\",np.linalg.norm(res-y_test))\n",
    "print(\"R^2 score of predict values:\",regr.score(X_test,y_test))"
   ]
  },
  {
   "cell_type": "markdown",
   "metadata": {},
   "source": [
    "I really got a better solution using the best parameters of \"min_samples_leaf\" and \"n_estimators\".\n",
    "\n",
    "But the progress was not very significant, because the former soultion is great enough."
   ]
  },
  {
   "cell_type": "markdown",
   "metadata": {},
   "source": [
    "### model review"
   ]
  },
  {
   "cell_type": "code",
   "execution_count": 17,
   "metadata": {},
   "outputs": [
    {
     "name": "stdout",
     "output_type": "stream",
     "text": [
      "shape of decision path: (3357, 15240)\n"
     ]
    }
   ],
   "source": [
    "print(\"shape of decision path:\",regr.decision_path(X_test)[0].toarray().shape)"
   ]
  },
  {
   "cell_type": "code",
   "execution_count": 18,
   "metadata": {},
   "outputs": [],
   "source": [
    "from sklearn.tree import export_graphviz\n",
    "estimator = regr.estimators_[0]\n",
    "export_graphviz(estimator,feature_names=['CO_measured','NMHC_measured','NOx_measured','NO2_measured','O3_measured','temp','RH','AH'],out_file='tree.dot')"
   ]
  },
  {
   "cell_type": "code",
   "execution_count": 19,
   "metadata": {},
   "outputs": [
    {
     "name": "stdout",
     "output_type": "stream",
     "text": [
      "feature importances:\n",
      "[4.00605965e-04 9.99040707e-01 8.42519545e-05 1.10125513e-04\n",
      " 1.10173806e-04 1.47280047e-05 1.46982777e-04 9.24247248e-05]\n"
     ]
    }
   ],
   "source": [
    "print(\"feature importances:\")\n",
    "print(regr.feature_importances_)"
   ]
  },
  {
   "cell_type": "code",
   "execution_count": 20,
   "metadata": {},
   "outputs": [
    {
     "name": "stdout",
     "output_type": "stream",
     "text": [
      "error: 226.72020689446524\n"
     ]
    },
    {
     "data": {
      "image/png": "[encoded data removed]",
      "text/plain": [
       "<Figure size 432x288 with 1 Axes>"
      ]
     },
     "metadata": {
      "needs_background": "light"
     },
     "output_type": "display_data"
    }
   ],
   "source": [
    "data1=(CO_measured,NOx_measured,NO2_measured,O3_measured,temp,RH,AH)\n",
    "data1=np.array(data1).astype(np.float64)\n",
    "data1,labels=clean_replace(data1,labels)\n",
    "data1=np.array(data1)\n",
    "reg=linear_model.LinearRegression()\n",
    "reg.fit(data1.T,labels)\n",
    "y=reg.predict(data1.T)\n",
    "plt.scatter(labels,y)\n",
    "plt.title(\"least sqaure regression whitout the most importance feature\")\n",
    "print (\"error:\",np.linalg.norm(labels-y))"
   ]
  },
  {
   "cell_type": "markdown",
   "metadata": {},
   "source": [
    "## 2-3 lasso regression approach by Shuyu Chen"
   ]
  },
  {
   "cell_type": "markdown",
   "metadata": {},
   "source": [
    "#### Cross Validation Implementation"
   ]
  },
  {
   "cell_type": "code",
   "execution_count": 42,
   "metadata": {},
   "outputs": [],
   "source": [
    "# Build cross validation function, return regression error for each test and derived labels\n",
    "def cross_validation(data,labels,k:int):\n",
    "    m,n=np.shape(data)\n",
    "    data_with_labels=np.mat(np.row_stack((data,labels))).astype(np.float64)\n",
    "    a=n//k\n",
    "    fold=[0 for i in range(k)]\n",
    "    for i in range(k):\n",
    "        if i!=k-1:\n",
    "            fold[i]=data_with_labels[:,i*a:(i+1)*a].astype(np.float64)\n",
    "        else:\n",
    "            fold[i]=data_with_labels[:,i*a:].astype(np.float64)\n",
    "    reg_error=[0 for i in range(k)]\n",
    "    labels_derived=np.mat([0 for i in range(n)]).astype(np.float64).T\n",
    "    \n",
    "    for i in range(k):\n",
    "        test_data=fold[i].astype(np.float64)\n",
    "        mi,ni=np.shape(fold[i])\n",
    "        training_data=np.mat([[0 for j in range(n-ni)] for i in range(m+1)]).astype(np.float64)\n",
    "        sample_number=0\n",
    "        for j in range(k):\n",
    "            if j==i:\n",
    "                continue\n",
    "            mj,nj=np.shape(fold[j])\n",
    "            training_data[:,sample_number:sample_number+nj]=fold[j]\n",
    "            sample_number=sample_number+nj\n",
    "        # Algorithm implementation\n",
    "        w=ls_solution(training_data[:m,:],training_data[m,:])\n",
    "        test_data_hat=np.row_stack((test_data[:m,:],np.mat([1 for x in range(ni)])))\n",
    "        y=test_data_hat.T*w\n",
    "        print(type(y))\n",
    "        if i!=k-1:\n",
    "            labels_derived[i*a:(i+1)*a]=y\n",
    "        else:\n",
    "            labels_derived[i*a:]=y\n",
    "        reg_error[i]=la.norm(y-labels,2)\n",
    "    overall_error=la.norm(reg_error)\n",
    "    return reg_error,labels_derived,overall_error"
   ]
  },
  {
   "cell_type": "markdown",
   "metadata": {},
   "source": [
    "#### Overall process implementation\n",
    "The pipeline implemented is as below:  \n",
    "- Data importing:  \n",
    "Import data from csv file and save each dimension into a individual list.\n",
    "- Data cleaning:\n",
    "Fill all the missing values in data with the mean of the dimension.\n",
    "- Algorithm implement:\n",
    "Implement LS solution to learn the dataset.\n",
    "- Algorithm evaluation:\n",
    "Build K-folds cross validation to compute the regression error of the algorithm\n",
    "- Parameter determination:\n",
    "Run K-folds cross validation with K in a linear array to find the best K for this certain dataset."
   ]
  },
  {
   "cell_type": "code",
   "execution_count": 7,
   "metadata": {},
   "outputs": [],
   "source": [
    "# Define overall process function to show the results\n",
    "def ls_regression(data,labels):\n",
    "    m,n=np.shape(np.mat(data))\n",
    "    if m>1:\n",
    "        data=np.row_stack(data)\n",
    "    data=np.mat(data).astype(np.float64)\n",
    "    data,labels=clean_replace(data,labels)\n",
    "    # Implement LS regression nand cross validation to find the best K\n",
    "    k=[2,3,4,5,6,7,8,9,10]\n",
    "    overall_error=[0 for i in range(9)]\n",
    "    for i in range(9):\n",
    "        overall_error[i]=cross_validation(data,labels,k[i])[2]\n",
    "    # Plot the K-Error plot to show the best K\n",
    "    plt.figure(1)\n",
    "    plt.plot(k,overall_error)\n",
    "    plt.title('K-Error Plot')\n",
    "    print(\"The best K is \",k[overall_error.index(min(overall_error))])\n",
    "    # Plot the regression result derived by the best K in a predicted-versus-measured scatter plot\n",
    "    reg_error,labels_derived,overall_error=cross_validation(data,labels,k[overall_error.index(min(overall_error))])\n",
    "    labels_derived=np.array(labels_derived).reshape(-1,1)\n",
    "    labels=np.array(labels).reshape(1,-1).T\n",
    "    plt.figure(2)\n",
    "    plt.scatter(labels,labels_derived,color='b')\n",
    "    ymax=max([max(labels),max(labels_derived)])\n",
    "    plt.plot([0,max(labels)],[0,max(labels)], color='r', linewidth=1, alpha=0.6)\n",
    "    plt.xlabel('Predicted Labels')\n",
    "    plt.ylabel('Measured Labels')\n",
    "    plt.title('Overall L2-Loss Regression Error={}'.format(overall_error))"
   ]
  },
  {
   "cell_type": "code",
   "execution_count": 9,
   "metadata": {},
   "outputs": [],
   "source": [
    "data=(CO_measured,NMHC_measured,NOx_measured,NO2_measured,O3_measured,temp,RH,AH)\n",
    "targets = C6H6_true\n",
    "#print(targets)"
   ]
  },
  {
   "cell_type": "code",
   "execution_count": 10,
   "metadata": {},
   "outputs": [
    {
     "name": "stdout",
     "output_type": "stream",
     "text": [
      "8\n"
     ]
    }
   ],
   "source": [
    "print(len(data))"
   ]
  },
  {
   "cell_type": "code",
   "execution_count": null,
   "metadata": {},
   "outputs": [
    {
     "name": "stdout",
     "output_type": "stream",
     "text": [
      "progressing\n"
     ]
    }
   ],
   "source": [
    "# Build cross validation function, return regression error for each test and derived labels\n",
    "def cross_validation(data,labels,k:int,alpha):\n",
    "    \n",
    "    m,n=np.shape(data)\n",
    "    data_with_labels=np.mat(np.row_stack((data,labels))).astype(np.float64)\n",
    "    #print(data_with_labels.shape)\n",
    "    a=n//k\n",
    "    fold=[0 for i in range(k)]\n",
    "    for i in range(k):\n",
    "        if i!=k-1:\n",
    "            fold[i]=data_with_labels[:,i*a:(i+1)*a].astype(np.float64)\n",
    "        else:\n",
    "            fold[i]=data_with_labels[:,i*a:].astype(np.float64)\n",
    "    reg_error=[0 for i in range(k)]\n",
    "    labels_derived=np.mat([0 for i in range(n)]).astype(np.float64).T\n",
    "    w_arr = []\n",
    "    for i in range(k):\n",
    "        test_data=fold[i].astype(np.float64)\n",
    "        mi,ni=np.shape(fold[i])\n",
    "        training_data=np.mat([[0 for j in range(n-ni)] for i in range(m+1)]).astype(np.float64)\n",
    "        sample_number=0\n",
    "        for j in range(k):\n",
    "            if j==i:\n",
    "                continue\n",
    "            mj,nj=np.shape(fold[j])\n",
    "            training_data[:,sample_number:sample_number+nj]=fold[j]\n",
    "            sample_number=sample_number+nj\n",
    "        # Algorithm implementation\n",
    "        reg = linear_model.LassoLars(alpha = alpha)\n",
    "        reg.fit(np.vstack((training_data[:m, :], np.ones((1, training_data.shape[1])))).T, training_data[m].T)\n",
    "        w = reg.coef_[np.newaxis].T\n",
    "        \n",
    "        test_data_hat=np.row_stack((test_data[:m,:],np.mat([1 for x in range(ni)])))\n",
    "        #print(w.shape)\n",
    "        y=test_data_hat.T.dot(w)\n",
    "        if i!=k-1:\n",
    "            labels_derived[i*a:(i+1)*a]=y\n",
    "            reg_error[i]=la.norm(y-np.asarray(labels)[i*a:(i+1)*a].astype(np.float64),2)\n",
    "        else:\n",
    "            labels_derived[i*a:]=y\n",
    "            reg_error[i]=la.norm(y-np.asarray(labels)[i*a:].astype(np.float64),2)\n",
    "        w_arr.append(w.T.tolist()[0])\n",
    "    print('progressing')\n",
    "    w_arr = np.asarray(w_arr)\n",
    "    w_arr_avg = np.sum(w_arr, axis = 0)\n",
    "    overall_error=la.norm(reg_error)\n",
    "    return reg_error,labels_derived,overall_error, w_arr_avg\n",
    "\"\"\"reg = linear_model.LassoLars(alpha=.1)\n",
    "data_array = np.asarray(data).T\n",
    "print(targets)\n",
    "reg.fit(data_array, targets)\n",
    "print(reg.coef_)\"\"\"\n",
    "\n",
    "\n",
    "\n",
    "\n",
    "lasso_err, targets_est, overall_error, weights = cross_validation(data, targets, 5, 0.1)\n",
    "\n",
    "lasso_err_arr = []\n",
    "error_arr = []\n",
    "weights_arr = []\n",
    "for a in np.linspace(0, 0.5, num=10):\n",
    "    lasso_err, targets_est, overall_error, weights = cross_validation(data, targets, 5, a)\n",
    "    lasso_err_arr.append(lasso_err)\n",
    "    error_arr.append(overall_error)\n",
    "    weights_list.append(weights)\n",
    "\n",
    "    \n"
   ]
  },
  {
   "cell_type": "code",
   "execution_count": 80,
   "metadata": {},
   "outputs": [
    {
     "name": "stderr",
     "output_type": "stream",
     "text": [
      "O:\\Anaconda\\lib\\site-packages\\ipykernel_launcher.py:13: RuntimeWarning: invalid value encountered in true_divide\n",
      "  del sys.path[0]\n"
     ]
    },
    {
     "data": {
      "image/png": "[encoded data removed]",
      "text/plain": [
       "<Figure size 432x288 with 2 Axes>"
      ]
     },
     "metadata": {
      "needs_background": "light"
     },
     "output_type": "display_data"
    }
   ],
   "source": [
    "#data=(CO_measured,NMHC_measured,NOx_measured,NO2_measured,O3_measured,temp,RH,AH)\n",
    "fig = plt.figure()\n",
    "ax = fig.add_subplot(121)\n",
    "weights_arr = np.asarray(weights_list).T\n",
    "ax.plot(range(weights_arr.shape[0]), weights_arr)\n",
    "plt.xlabel('alpha in Lasso Regression')\n",
    "plt.ylabel('magnitude of weights')\n",
    "\n",
    "\n",
    "ax.legend(['CO_measured','NMHC_measured','NOx_measured','NO2_measured','O3_measured','temp','RH','AH'])\n",
    "ax = fig.add_subplot(122)\n",
    "weights_arr = weights_arr/weights_arr[0]\n",
    "ax.plot(range(weights_arr.shape[0]), weights_arr)\n",
    "plt.xlabel('alpha in Lasso Regression')\n",
    "plt.ylabel('magnitude of normalized weights')\n",
    "\n",
    "ax.legend(['CO_measured','NMHC_measured','NOx_measured','NO2_measured','O3_measured','temp','RH','AH'])\n",
    "plt.show()"
   ]
  },
  {
   "cell_type": "code",
   "execution_count": null,
   "metadata": {},
   "outputs": [],
   "source": [
    "plt.subplot(2, 1, 1)\n",
    "weights_arr = np.asarray(weights_list).T\n",
    "plt.plot(range(weights_arr.shape[0]), weights_arr)\n",
    "plt.xlabel('time (s)')\n",
    "plt.ylabel('voltage (mV)')\n",
    "\n",
    "\n",
    "plt.title('A sine wave with a gap of NaNs between 0.4 and 0.6')\n",
    "plt.grid(True)"
   ]
  },
  {
   "cell_type": "code",
   "execution_count": 75,
   "metadata": {},
   "outputs": [],
   "source": [
    "weights_list = weights_list.tolist()"
   ]
  },
  {
   "cell_type": "markdown",
   "metadata": {},
   "source": [
    "##  2-4 further discussion:\n",
    "At the start of coding this algorithm, there was a great issue. The dataset was provided by UCI, which didn't tag the labels dimension in all the 14 dimensions. Picking the right attribute took a long period of time. The process was as below.  \n",
    "Firstly, we assumed UCI just provided this dataset for free-researching, i.e. there was no explicit attribute in all the attributes so that we could pick any one by our requirement to check our algorithm freely.  \n",
    "Our first pick was picking the true value of CO as the labels attribute and estimate it with the responses from the 5 sensors.Firstly we directly plotted a true-versus-measured plot of CO concentration to find out if it fitted linear model."
   ]
  },
  {
   "cell_type": "code",
   "execution_count": 29,
   "metadata": {},
   "outputs": [
    {
     "data": {
      "text/plain": [
       "Text(0.5,1,'CO_True VS CO_Measured')"
      ]
     },
     "execution_count": 29,
     "metadata": {},
     "output_type": "execute_result"
    },
    {
     "data": {
      "image/png": "[encoded data removed]",
      "text/plain": [
       "<Figure size 432x288 with 1 Axes>"
      ]
     },
     "metadata": {
      "needs_background": "light"
     },
     "output_type": "display_data"
    }
   ],
   "source": [
    "plt.scatter(CO_true,CO_measured)\n",
    "plt.title('CO_True VS CO_Measured')"
   ]
  },
  {
   "cell_type": "markdown",
   "metadata": {},
   "source": [
    "It can be indicated from the plot that the model is totally non-linear.The response of the sensor is likely to be random when the true concentration of CO is exactly at some certain value, plotted as vertical straight-line-like shapes in the scatter plot.  \n",
    "That was the reason why we decided to treat the problem as random model, and directly implement LS solution to find out one answer:\n",
    "Is there any potential relationships between the responses from the 5 sensors so that we can input all of them to get a better result on when measuring concentration of one certain kind of the substance? That is to say,if we input all the 5 measured attribute into regression algorithm, can we get a lower regression error to the true CO concentration than only inputting the measured CO concentration?  \n",
    "To find out the answer, firstly we put only the measured CO concentration into LS regression algorithm to get the error:"
   ]
  },
  {
   "cell_type": "code",
   "execution_count": 30,
   "metadata": {},
   "outputs": [
    {
     "name": "stdout",
     "output_type": "stream",
     "text": [
      "The best K is  2\n"
     ]
    },
    {
     "data": {
      "image/png": "[encoded data removed]",
      "text/plain": [
       "<Figure size 432x288 with 1 Axes>"
      ]
     },
     "metadata": {
      "needs_background": "light"
     },
     "output_type": "display_data"
    },
    {
     "data": {
      "image/png": "[encoded data removed]",
      "text/plain": [
       "<Figure size 432x288 with 1 Axes>"
      ]
     },
     "metadata": {
      "needs_background": "light"
     },
     "output_type": "display_data"
    }
   ],
   "source": [
    "ls_regression(CO_measured,CO_true)"
   ]
  },
  {
   "cell_type": "markdown",
   "metadata": {},
   "source": [
    "Then we implemented LS regression with input dataset of all the 5 sensors responses, the result was:"
   ]
  },
  {
   "cell_type": "code",
   "execution_count": 28,
   "metadata": {},
   "outputs": [
    {
     "name": "stdout",
     "output_type": "stream",
     "text": [
      "The best K is  5\n"
     ]
    },
    {
     "data": {
      "image/png": "[encoded data removed]",
      "text/plain": [
       "<Figure size 432x288 with 1 Axes>"
      ]
     },
     "metadata": {
      "needs_background": "light"
     },
     "output_type": "display_data"
    },
    {
     "data": {
      "image/png": "[encoded data removed]",
      "text/plain": [
       "<Figure size 432x288 with 1 Axes>"
      ]
     },
     "metadata": {
      "needs_background": "light"
     },
     "output_type": "display_data"
    }
   ],
   "source": [
    "data=(CO_measured,NMHC_measured,NOx_measured,NO2_measured,O3_measured,temp,RH,AH)\n",
    "labels=CO_true\n",
    "ls_regression(data,labels)"
   ]
  },
  {
   "cell_type": "markdown",
   "metadata": {},
   "source": [
    "It can be indicated by comparing the two L2-Loss that there is no enhancement by adding more attributes to the input.It seems hard to continue using the same attribute as labels.  \n",
    "Finally we directly read the paper cited on the UCL dataset page and found out that the purpose of the collection of this dataset was to estimate the potential of true benzene concentration and the responses of sensors. By setting correct attribute on such data and labels we finally got the above results."
   ]
  },
  {
   "cell_type": "markdown",
   "metadata": {},
   "source": [
    "# 3. Cluster\n",
    "\n",
    "## dataset description\n",
    "\n",
    "\"Dataset of 550 000 observations about the black Friday in a retail store, it contains different kinds of variables either numerical or categorical. It contains missing values.\"\n"
   ]
  },
  {
   "cell_type": "markdown",
   "metadata": {},
   "source": [
    "#### raw data"
   ]
  },
  {
   "cell_type": "code",
   "execution_count": 1,
   "metadata": {},
   "outputs": [],
   "source": [
    "import numpy as np\n",
    "import pandas as pd\n",
    "from sklearn.cluster import KMeans\n",
    "from sklearn.cluster import AgglomerativeClustering\n",
    "from scipy import stats\n",
    "from sklearn import metrics\n",
    "from sklearn.preprocessing import MinMaxScaler\n",
    "import matplotlib.pyplot as plt"
   ]
  },
  {
   "cell_type": "code",
   "execution_count": 2,
   "metadata": {},
   "outputs": [
    {
     "name": "stdout",
     "output_type": "stream",
     "text": [
      "        User_ID Product_ID Gender    Age  Occupation City_Category  \\\n",
      "313650  1000329  P00021642      M  36-45           7             A   \n",
      "5666    1000915  P00070042      M  26-35           7             C   \n",
      "356767  1001010  P00045142      M  26-35           0             A   \n",
      "364043  1001996  P00110742      M  36-45           0             C   \n",
      "136784  1003142  P00051442      M  26-35          20             B   \n",
      "\n",
      "       Stay_In_Current_City_Years  Marital_Status  Product_Category_1  \\\n",
      "313650                          1               0                   8   \n",
      "5666                            2               0                   1   \n",
      "356767                          1               0                   1   \n",
      "364043                          3               0                   1   \n",
      "136784                          0               0                   8   \n",
      "\n",
      "        Product_Category_2  Product_Category_3  Purchase  \n",
      "313650                14.0                 NaN      2250  \n",
      "5666                   2.0                16.0     11467  \n",
      "356767                 2.0                 6.0      3853  \n",
      "364043                 2.0                 8.0     15651  \n",
      "136784                17.0                 NaN      5902  \n"
     ]
    }
   ],
   "source": [
    "df_allData=pd.read_csv('BlackFriday.csv')\n",
    "print(df_allData.sample(n=5))"
   ]
  },
  {
   "cell_type": "markdown",
   "metadata": {},
   "source": [
    "raw data has 12 columns and there are a lot of missing values in \"Product_Category_2\" and \"Product_Category_3\". Which means some of the product whould just have one category."
   ]
  },
  {
   "cell_type": "markdown",
   "metadata": {},
   "source": [
    "## 3-1 data pre-processing by Chaoji Zuo\n"
   ]
  },
  {
   "cell_type": "markdown",
   "metadata": {},
   "source": [
    "In our opinion, we think our model would do cluster on different people, so our key is people.\n",
    "\n",
    "But the dataset includes different records of one-single people. So at the beginning we use gruopby to get each people's whole records. \n",
    "\n",
    "Then we try to get the mode of each one's \"Product_Category_1\" to represent the main product category and get the mean of one people's whole \"Purchase\" as a feature of \"average purchase\". (We are not sure weather this is a good way buy we have to do this because we cannot keep all the data to train)\n",
    "\n",
    "What's more, we change the \"Gender\" attribute to 0-1 attribute."
   ]
  },
  {
   "cell_type": "code",
   "execution_count": 3,
   "metadata": {},
   "outputs": [
    {
     "name": "stderr",
     "output_type": "stream",
     "text": [
      "/Applications/anaconda3/lib/python3.7/site-packages/scipy/stats/stats.py:245: RuntimeWarning: The input array could not be properly checked for nan values. nan values will be ignored.\n",
      "  \"values. nan values will be ignored.\", RuntimeWarning)\n"
     ]
    },
    {
     "name": "stdout",
     "output_type": "stream",
     "text": [
      "         Occupation    Age City_Category  Marital_Status  Product_CateGory_1  \\\n",
      "User_ID                                                                        \n",
      "1005105           7  51-55             C               1                   8   \n",
      "1003662          16  36-45             C               0                   5   \n",
      "1002580           1  46-50             C               1                   5   \n",
      "1004719           9  36-45             C               0                   1   \n",
      "1002324          17  36-45             C               0                   8   \n",
      "\n",
      "        Stay_In_Current_City_Years  times  Gender_M      Purchase  \n",
      "User_ID                                                            \n",
      "1005105                          1     47         1   7803.340426  \n",
      "1003662                          1     50         1   7316.380000  \n",
      "1002580                          2     48         0   7550.708333  \n",
      "1004719                         4+     16         0  14534.812500  \n",
      "1002324                          3     50         1   9342.480000  \n"
     ]
    }
   ],
   "source": [
    "groupByUserData=df_allData.groupby(['User_ID'])\n",
    "\n",
    "times=df_allData['User_ID'].value_counts()\n",
    "times=times.sort_index()\n",
    "\n",
    "#get the mean\n",
    "meanData=groupByUserData.mean()\n",
    "\n",
    "#get the mode\n",
    "modeData=groupByUserData.agg(lambda x: stats.mode(x)[0][0])\n",
    "\n",
    "mean_mode_data={'Gender':modeData['Gender'],'Occupation':modeData['Occupation'],'Age':modeData['Age'],'City_Category':modeData['City_Category'],'Marital_Status':modeData['Marital_Status'],'Product_CateGory_1':modeData['Product_Category_1'],'Stay_In_Current_City_Years':modeData['Stay_In_Current_City_Years']}\n",
    "mean_mode_data=pd.DataFrame(mean_mode_data)\n",
    "mean_mode_data['times']=times\n",
    "mean_mode_data['Gender_M']=pd.get_dummies(mean_mode_data['Gender'])['M']\n",
    "mean_mode_data=mean_mode_data.drop(['Gender'],axis=1)\n",
    "mean_mode_data['Purchase']=meanData['Purchase']\n",
    "\n",
    "print (mean_mode_data.sample(5))"
   ]
  },
  {
   "cell_type": "markdown",
   "metadata": {},
   "source": [
    "### chanellge of feature extraction"
   ]
  },
  {
   "cell_type": "markdown",
   "metadata": {},
   "source": [
    "This is the hardest part of our cluster project.\n",
    "\n",
    "There are two key problems we have to face:\n",
    "\n",
    "##### 1. **how to handle the discrete attributes?**\n",
    "    \n",
    "    There are a lot of disordered discrete attributes in our data, likes \"Marital_Status\", \"Gender\" and \"Product_Category_1\", we cannot just simplely calculate their euclidean distance. We try to take them as continuous variables and apply several cluster algorithms on them but we just get a bad output which looks no special meanning.\n",
    "\n",
    "##### 2. **how to evaluate our feature extraction performance?**\n",
    "\n",
    "    Since we have so many choices of extracting the features and we do not know how to assign the weights on these feautres and this is a cluster problem, we had not a clearly mind of have to evaluate our work when we doing the feature extraction. And it is unrealistic to try all the choices and train them then evaluate the final models. The best solution is that we can find some explainable output of our feature extraction.\n",
    "    \n",
    "#### deal with discrete attributes\n",
    "\n",
    "To solve the key problems 1, we came up with ideas.\n",
    "\n",
    "1. do one-hot encoding on the discrete attributes\n",
    "\n",
    "1. use k-modes or k-prototype model\n",
    "\n",
    "1. drop those discrete attributes\n",
    "\n",
    "But their would raise some new problems if we use these solutions:\n",
    "\n",
    "    one-hot encoding would make the features very sparse.\n",
    "    \n",
    "    It is not easy to combine the VDM distance and Minkowski distance together.\n",
    "    \n",
    "    Some discrete features may be very important like occupation but it would have a lot of possible value.\n",
    "    \n",
    "#### deal with evaluation\n",
    "\n",
    "We do not find a good way to solve this problem, we just living with it, but we still did some tries. Likes using the average purchase to evaluate the cluster output. And we use Calinski-Harabasz score and Value Difference Metrix to evalue our final clusters."
   ]
  },
  {
   "cell_type": "markdown",
   "metadata": {},
   "source": [
    "###  other data pre-processing before training\n",
    "\n",
    "Since we have features of different units, we must do the data standardization and assign different weights to different features.\n",
    "\n",
    "We choose min-max standardization and assign the weights by feeling."
   ]
  },
  {
   "cell_type": "markdown",
   "metadata": {},
   "source": [
    "## 3-1 specific approach 1 by Chaoji: k-modes"
   ]
  },
  {
   "cell_type": "markdown",
   "metadata": {},
   "source": [
    "I try to use the k-modes only on the categorical values to train a model, then use one-hot encoidng data to calculate the jaccard distance and euclidean distance inside each cluster."
   ]
  },
  {
   "cell_type": "code",
   "execution_count": 15,
   "metadata": {},
   "outputs": [],
   "source": [
    "from kmodes.kmodes import KModes"
   ]
  },
  {
   "cell_type": "code",
   "execution_count": 13,
   "metadata": {},
   "outputs": [
    {
     "name": "stdout",
     "output_type": "stream",
     "text": [
      "categorical data:\n",
      "        Gender  Occupation    Age City_Category  Marital_Status  \\\n",
      "User_ID                                                           \n",
      "1003688      M           6  18-25             B               0   \n",
      "1004973      F           2    55+             C               1   \n",
      "\n",
      "         Product_CateGory_1 Stay_In_Current_City_Years  \n",
      "User_ID                                                 \n",
      "1003688                   8                          1  \n",
      "1004973                   8                          1  \n",
      "one-hot encoding data:\n",
      "         0-17  18-25  26-35  36-45  46-50  51-55  55+  A  B  C  \\\n",
      "User_ID                                                          \n",
      "1002098     0      0      0      1      0      0    0  1  0  0   \n",
      "1005868     0      0      0      1      0      0    0  0  1  0   \n",
      "\n",
      "              ...        8  10  11  12  13  15  16  18  Gender_M  \\\n",
      "User_ID       ...                                                  \n",
      "1002098       ...        0   0   0   0   0   0   0   0         1   \n",
      "1005868       ...        1   0   0   0   0   0   0   0         1   \n",
      "\n",
      "         Marital_Status  \n",
      "User_ID                  \n",
      "1002098               1  \n",
      "1005868               0  \n",
      "\n",
      "[2 rows x 53 columns]\n"
     ]
    }
   ],
   "source": [
    "X=pd.DataFrame({'Gender':modeData['Gender'],'Occupation':modeData['Occupation'],'Age':modeData['Age'],'City_Category':modeData['City_Category'],'Marital_Status':modeData['Marital_Status'],'Product_CateGory_1':modeData['Product_Category_1'],\"Stay_In_Current_City_Years\":modeData[\"Stay_In_Current_City_Years\"]})\n",
    "\n",
    "one_hot_city=pd.get_dummies(mean_mode_data['City_Category'])\n",
    "one_hot_age=pd.get_dummies(mean_mode_data['Age'])\n",
    "one_hot_occupation=pd.get_dummies(mean_mode_data['Occupation'])\n",
    "one_hot_years=pd.get_dummies(mean_mode_data['Stay_In_Current_City_Years'])\n",
    "one_hot_product=pd.get_dummies(mean_mode_data['Product_CateGory_1'])\n",
    "XX=pd.concat([one_hot_age,one_hot_city,one_hot_occupation,one_hot_years,one_hot_product],axis=1)\n",
    "XX['Gender_M']=mean_mode_data['Gender_M']\n",
    "XX['Marital_Status']=mean_mode_data['Marital_Status']\n",
    "\n",
    "print (\"categorical data:\")\n",
    "print(X.sample(2))\n",
    "print(\"one-hot encoding data:\")\n",
    "print(XX.sample(2))\n"
   ]
  },
  {
   "cell_type": "markdown",
   "metadata": {},
   "source": [
    "At first, I think the key is finding the best clusters number n, but I don't have ideas about how to evalue the output. I just thought maybe different cluster's average price can reflect some difference.\n",
    "\n",
    "I try to use jaccard distance and eulicdean distance, but the jaccard distance inside a cluster would alway decrease when n increase."
   ]
  },
  {
   "cell_type": "code",
   "execution_count": 253,
   "metadata": {},
   "outputs": [
    {
     "name": "stdout",
     "output_type": "stream",
     "text": [
      "n_cluster = 2 : 0.5000269875392017\n",
      "n_cluster = 3 : 0.5294875041896924\n",
      "n_cluster = 4 : 0.5534965418820955\n",
      "n_cluster = 5 : 0.5645384012323531\n",
      "n_cluster = 6 : 0.5720855312627525\n",
      "n_cluster = 7 : 0.5890558734522645\n",
      "n_cluster = 8 : 0.6010495871774273\n",
      "n_cluster = 9 : 0.6128901655705694\n"
     ]
    }
   ],
   "source": [
    "from sklearn.metrics import jaccard_similarity_score\n",
    "ecArr=[]\n",
    "jcArr=[]\n",
    "jcXArr=[]\n",
    "for i in range(2,10):\n",
    "    km=KModes(n_clusters=i)\n",
    "    y=km.fit_predict(X)\n",
    "    tempArrjc=[]\n",
    "    tempArrec=[]\n",
    "    tempArrjcX=[]\n",
    "    for j in range(i):\n",
    "        #print(sum(y==j))\n",
    "        #print(XX[y==j].mode())\n",
    "        jcscore=[]\n",
    "        ecscore=[]\n",
    "        jcXscore=[]\n",
    "        for k in XX[y==j].T:\n",
    "            try:\n",
    "                #jcscore.append(jaccard_similarity_score(XX.loc[k],XX[y==j].mode().T[0]))\n",
    "                \n",
    "                ecscore.append(np.linalg.norm(np.array(XX.loc[k])-np.array(XX[y==j].mode().T[0])))\n",
    "                \n",
    "                jcXscore.append(jaccard_similarity_score(list(X.loc[k]),list(X[y==j].mode().T[0])))\n",
    "\n",
    "            except:\n",
    "                #print(XX.loc[k].T)\n",
    "                #print(XX[y==j].mode())\n",
    "                print(k)\n",
    "                break;\n",
    "        #print(np.mean(jcscore))\n",
    "        #tempArrjc.append(np.mean(jcscore))\n",
    "        #tempArrec.append(np.mean(ecscore))\n",
    "        tempArrjcX.append(np.mean(jcXscore))\n",
    "\n",
    "    print(\"n_cluster =\",i,\":\",np.mean(tempArrjcX))\n",
    "    #jcArr.append(np.mean(tempArrjc))\n",
    "    #ecArr.append(np.mean(tempArrec))\n",
    "    jcXArr.append(np.mean(tempArrjcX))"
   ]
  },
  {
   "cell_type": "markdown",
   "metadata": {},
   "source": [
    "Lack of the ways to evaluate better n, I decide to focus on features more rather than n.\n",
    "\n",
    "Then I camp up with an idea that I can calculate the eulidean distance between a cluster's mode point and the other point's mode point.\n",
    "\n",
    "So I do some tries."
   ]
  },
  {
   "cell_type": "code",
   "execution_count": 256,
   "metadata": {},
   "outputs": [
    {
     "name": "stdout",
     "output_type": "stream",
     "text": [
      "        Gender  Occupation City_Category\n",
      "User_ID                                 \n",
      "1005314      F           0             A\n",
      "1002289      F           1             C\n"
     ]
    }
   ],
   "source": [
    "XXXX=X.drop(['Marital_Status','Product_CateGory_1','Stay_In_Current_City_Years','Age'],axis=1)\n",
    "print(XXXX.sample(2))"
   ]
  },
  {
   "cell_type": "code",
   "execution_count": 274,
   "metadata": {},
   "outputs": [],
   "source": [
    "from sklearn.metrics import jaccard_similarity_score\n",
    "ecArr=[]\n",
    "jcArr=[]\n",
    "jcXArr=[]\n",
    "for i in range(10,11):\n",
    "    km=KModes(n_clusters=i)\n",
    "    y=km.fit_predict(XXXX)\n",
    "   "
   ]
  },
  {
   "cell_type": "code",
   "execution_count": 278,
   "metadata": {},
   "outputs": [
    {
     "name": "stdout",
     "output_type": "stream",
     "text": [
      "average jc distance in selected features: 0.5\n",
      "average ec distance in all one-hot features: 1.3071067811865476\n"
     ]
    }
   ],
   "source": [
    "dis_jc=[]\n",
    "dis_ec=[]\n",
    "for i in range(10):\n",
    "    dis_jc.append(jaccard_similarity_score(list(XXXX[y==i].mode().T[0]),list(XXXX[y!=i].mode().T[0])))\n",
    "    \n",
    "print(\"average jc distance in selected features:\",np.mean(dis_jc))\n",
    "    \n",
    "for i in range(10):\n",
    "    dis_ec.append(np.linalg.norm((np.array(XX[y==i].mode().T[0])-np.array(XX[y!=i].mode().T[0]))))\n",
    "    \n",
    "print(\"average ec distance in all one-hot features:\",np.mean(dis_ec))"
   ]
  },
  {
   "cell_type": "code",
   "execution_count": 276,
   "metadata": {},
   "outputs": [
    {
     "data": {
      "image/png": "[encoded data removed]",
      "text/plain": [
       "<Figure size 432x288 with 1 Axes>"
      ]
     },
     "metadata": {
      "needs_background": "light"
     },
     "output_type": "display_data"
    }
   ],
   "source": [
    "purchase_y=pd.DataFrame({\"y\":y,\"Purchase\":mean_mode_data[\"Purchase\"]})\n",
    "plt.scatter(purchase_y['y'],purchase_y['Purchase'])\n",
    "for i in range(10):\n",
    "    plt.scatter(i,purchase_y[purchase_y['y']==i].Purchase.mean(),c='r')"
   ]
  },
  {
   "cell_type": "code",
   "execution_count": 287,
   "metadata": {},
   "outputs": [
    {
     "name": "stdout",
     "output_type": "stream",
     "text": [
      "        Gender  Occupation    Age City_Category  Marital_Status  \\\n",
      "User_ID                                                           \n",
      "1004639      M          11  36-45             B               0   \n",
      "1004422      M           5  26-35             A               1   \n",
      "\n",
      "         Product_CateGory_1  \n",
      "User_ID                      \n",
      "1004639                   5  \n",
      "1004422                   5  \n"
     ]
    }
   ],
   "source": [
    "XXXXX=X.drop(['Stay_In_Current_City_Years'],axis=1)\n",
    "print(XXXXX.sample(2))"
   ]
  },
  {
   "cell_type": "code",
   "execution_count": 288,
   "metadata": {},
   "outputs": [
    {
     "name": "stdout",
     "output_type": "stream",
     "text": [
      "average jc distance in selected features: 0.35\n",
      "average ec distance in all one-hot features: 1.8432220400206423\n"
     ]
    }
   ],
   "source": [
    "ecArr=[]\n",
    "jcArr=[]\n",
    "jcXArr=[]\n",
    "for i in range(10,11):\n",
    "    km=KModes(n_clusters=i)\n",
    "    y=km.fit_predict(XXXXX)\n",
    "\n",
    "dis_jc=[]\n",
    "dis_ec=[]\n",
    "for i in range(10):\n",
    "    dis_jc.append(jaccard_similarity_score(list(XXXXX[y==i].mode().T[0]),list(XXXXX[y!=i].mode().T[0])))\n",
    "    \n",
    "for i in range(10):\n",
    "    dis_ec.append(np.linalg.norm((np.array(XX[y==i].mode().T[0])-np.array(XX[y!=i].mode().T[0]))))\n",
    "    \n",
    "print(\"average jc distance in selected features:\",np.mean(dis_jc))\n",
    "print(\"average ec distance in all one-hot features:\",np.mean(dis_ec))"
   ]
  },
  {
   "cell_type": "code",
   "execution_count": 284,
   "metadata": {},
   "outputs": [
    {
     "data": {
      "image/png": "[encoded data removed]",
      "text/plain": [
       "<Figure size 432x288 with 1 Axes>"
      ]
     },
     "metadata": {
      "needs_background": "light"
     },
     "output_type": "display_data"
    }
   ],
   "source": [
    "purchase_y=pd.DataFrame({\"y\":y,\"Purchase\":mean_mode_data[\"Purchase\"]})\n",
    "plt.scatter(purchase_y['y'],purchase_y['Purchase'])\n",
    "for i in range(10):\n",
    "    plt.scatter(i,purchase_y[purchase_y['y']==i].Purchase.mean(),c='r')"
   ]
  },
  {
   "cell_type": "markdown",
   "metadata": {},
   "source": [
    "### conclusion"
   ]
  },
  {
   "cell_type": "markdown",
   "metadata": {},
   "source": [
    "Thought the process is hard, I think I get something surpringly at the end.\n",
    "\n",
    "I paid too much attentation on the cluster number n and the distance between a cluster but I haven't had a great evaluation way.\n",
    "\n",
    "But when I campared different features as input to k-modes with the same n, I got some pretty things.\n",
    "\n",
    "The change in average euclidean distance showed the feature 'Marital_Status' , 'Product_CateGory_1', 'Age' do influence on the whole cluster performance.\n",
    "\n",
    "What't more, the 'Purchase' would really reflect the performance of cluster in some way.\n",
    "\n",
    "With this conclusion, it means we can do further work about how different categorial features influence the cluster. The best feature may have the biggest influence on average euclidean distance."
   ]
  },
  {
   "cell_type": "markdown",
   "metadata": {},
   "source": [
    "## 3-2 specific approach 2 by Shuyu Chen: Kmeans on continuous features"
   ]
  },
  {
   "cell_type": "code",
   "execution_count": 5,
   "metadata": {},
   "outputs": [
    {
     "name": "stdout",
     "output_type": "stream",
     "text": [
      "[ 34  76  29 ...  10  67 169]\n"
     ]
    }
   ],
   "source": [
    "def recenter_regularize(X):\n",
    "    #X_mean = np.mean(X, axis = 1)[np.newaxis]\n",
    "    X_mean = np.mean(X)\n",
    "    X_centered = X - X_mean\n",
    "    #X_norm = np.linalg.norm(X_centered)[np.newaxis]\n",
    "    X_norm = np.linalg.norm(X_centered)\n",
    "    X_normalized = X_centered/X_norm\n",
    "    return X_normalized\n",
    "\n",
    "numGroup = 10\n",
    "\n",
    "\n",
    "print(np.array(mean_mode_data.times))\n",
    "times_arr = np.array(mean_mode_data.times)\n",
    "times_regularized = recenter_regularize(times_arr)\n",
    "purchases_regularized = recenter_regularize(np.array(mean_mode_data['Purchase']))\n",
    "\n",
    "ini_index = np.random.choice(a=range(len(times_arr)), size=len(times_arr), replace=False)\n",
    "\n",
    "X_2d = np.asarray([times_regularized, purchases_regularized]).T\n",
    "X_2d_group = []\n",
    "icr = int(np.floor(len(ini_index)/numGroup))\n",
    "for i in range(numGroup):\n",
    "    X_2d_group.append(X_2d[i*icr:(i+1)*icr])\n",
    "\n",
    "isFinished = False\n",
    "counter = 0\n",
    "while((not isFinished) and counter <= 200):\n",
    "    isFinished = True\n",
    "    numDiff=0\n",
    "    X_mean_group = [np.mean(X, axis = 0) for X in X_2d_group]\n",
    "    X_2d_group_new = [[] for h in range(numGroup)]\n",
    "    for i in range(numGroup):\n",
    "        \n",
    "        X_2d_this = X_2d_group[i]\n",
    "        for j in range(len(X_2d_this)):\n",
    "            \n",
    "            sample = X_2d_this[j]\n",
    "            dist_group = [[] for h in range(numGroup)]\n",
    "            for k in range(numGroup):\n",
    "                dist_group[k] = np.linalg.norm(sample - X_mean_group[k])\n",
    "            \n",
    "            group = np.argmin(dist_group)\n",
    "            if(i != group):\n",
    "                isFinished = False\n",
    "                numDiff += 1\n",
    "            X_2d_group_new[group].append(sample)\n",
    "    X_2d_group = X_2d_group_new\n",
    "    counter+=1\n",
    "\n",
    "    "
   ]
  },
  {
   "cell_type": "code",
   "execution_count": 8,
   "metadata": {},
   "outputs": [],
   "source": [
    "def recenter_regularize(X):\n",
    "    #X_mean = np.mean(X, axis = 1)[np.newaxis]\n",
    "    X_mean = np.mean(X)\n",
    "    X_centered = X - X_mean\n",
    "    #X_norm = np.linalg.norm(X_centered)[np.newaxis]\n",
    "    X_norm = np.linalg.norm(X_centered)\n",
    "    X_normalized = X_centered/X_norm\n",
    "    return X_normalized\n",
    "\n",
    "numGroup = 10\n",
    "\n",
    "\n",
    "times_arr = np.array(mean_mode_data.times)\n",
    "times_regularized = recenter_regularize(times_arr)\n",
    "purchases_regularized = recenter_regularize(np.array(mean_mode_data['Purchase']))\n",
    "\n",
    "ini_index = np.random.choice(a=range(len(times_arr)), size=len(times_arr), replace=False)\n",
    "\n",
    "X_2d = np.vstack((np.asarray([times_regularized, purchases_regularized]), list(range(len(times_regularized))))).T\n",
    "X_2d_group = []\n",
    "icr = int(np.floor(len(ini_index)/numGroup))\n",
    "for i in range(numGroup):\n",
    "    X_2d_group.append(X_2d[i*icr:(i+1)*icr])\n",
    "\n",
    "isFinished = False\n",
    "counter = 0\n",
    "while((not isFinished) and counter <= 200):\n",
    "    print(\"progressing: \")\n",
    "    isFinished = True\n",
    "    numDiff=0\n",
    "    X_mean_group = [np.mean(X, axis = 0) for X in X_2d_group]\n",
    "    X_2d_group_new = []\n",
    "    for i in range(numGroup):\n",
    "        \n",
    "        X_2d_this = X_2d_group[i]\n",
    "        X_2d_group_new =[[] for h in range(numGroup)]\n",
    "        for j in range(len(X_2d_this)):\n",
    "           \n",
    "            sample = X_2d_this[j]\n",
    "            dist_group = [[] for h in range(numGroup)]\n",
    "            for k in range(numGroup):\n",
    "                #print(len(sample))\n",
    "                #print(X_mean_group[k].shape)\n",
    "                dist_group[k] = np.linalg.norm(sample[:2] - X_mean_group[k][:2])\n",
    "            \n",
    "            group = np.argmin(dist_group)\n",
    "            #print(group)\n",
    "            if(i != group):\n",
    "                isFinished = False\n",
    "                numDiff += 1\n",
    "                X_2d_group_new[group].append(sample)\n",
    "            else:\n",
    "                X_2d_group_new[group].append(sample)\n",
    "        #if(len(X_2d_this_new)>0):\n",
    "        #for k in range(numGroup):\n",
    "        #    X_2d_group_new[k] = np.vstack(X_2d_group_new[k])\n",
    "        #else:\n",
    "        #    X_2d_group_new.append(np.asarray([]))\n",
    "    print(numDiff)\n",
    "    X_2d_group = X_2d_group_new\n",
    "    print(len(X_2d_group))\n",
    "    counter+=1\n",
    "\n",
    "    "
   ]
  },
  {
   "cell_type": "code",
   "execution_count": 7,
   "metadata": {},
   "outputs": [
    {
     "data": {
      "image/png": "[encoded data removed]",
      "text/plain": [
       "<Figure size 432x288 with 1 Axes>"
      ]
     },
     "metadata": {
      "needs_background": "light"
     },
     "output_type": "display_data"
    }
   ],
   "source": [
    "X_2d_group_arr = np.asarray(X_2d_group)\n",
    "fig = plt.figure()\n",
    "ax = fig.add_subplot(111)\n",
    "for i in range(numGroup):\n",
    "    for j in range(len(X_2d_group_arr[i])):\n",
    "        ax.scatter(X_2d_group_arr[i][j][0], X_2d_group_arr[i][j][1], color = [0.1, 1-0.1*i, 0.1*i])\n",
    "   \n",
    "        \n",
    "plt.show()"
   ]
  },
  {
   "cell_type": "code",
   "execution_count": 9,
   "metadata": {},
   "outputs": [],
   "source": [
    "from sklearn.cluster import KMeans"
   ]
  },
  {
   "cell_type": "code",
   "execution_count": 10,
   "metadata": {},
   "outputs": [
    {
     "data": {
      "image/png": "[encoded data removed]",
      "text/plain": [
       "<Figure size 432x288 with 1 Axes>"
      ]
     },
     "metadata": {
      "needs_background": "light"
     },
     "output_type": "display_data"
    }
   ],
   "source": [
    "xm=pd.DataFrame({'t':mean_mode_data['times'],'p':mean_mode_data['Purchase']})\n",
    "\n",
    "km=KMeans(n_clusters=10).fit(xm)\n",
    "\n",
    "ym=km.labels_\n",
    "for i in range(10):\n",
    "    plt.scatter(xm[ym==i]['t'],xm[ym==i]['p'])\n",
    "from sklearn.preprocessing import normalize\n",
    "\n",
    "xmn=normalize(xm)\n",
    "xmn=pd.DataFrame({'t':xmn[:,0],'p':xmn[:,1]})"
   ]
  },
  {
   "cell_type": "code",
   "execution_count": 28,
   "metadata": {},
   "outputs": [
    {
     "data": {
      "image/png": "[encoded data removed]",
      "text/plain": [
       "<Figure size 432x288 with 1 Axes>"
      ]
     },
     "metadata": {
      "needs_background": "light"
     },
     "output_type": "display_data"
    }
   ],
   "source": [
    "from sklearn.preprocessing import normalize\n",
    "from sklearn.preprocessing import MinMaxScaler\n",
    "scaler=MinMaxScaler()\n",
    "scaler.fit(xm)\n",
    "xmn=scaler.transform(xm)\n",
    "xmn=pd.DataFrame({'t':xmn[:,0],'p':xmn[:,1]})\n",
    "\n",
    "kmn=KMeans(n_clusters=10).fit(xmn)\n",
    "ymn=kmn.labels_\n",
    "\n",
    "for i in range(10):\n",
    "    plt.scatter(xm[ymn==i]['t'],xm[ymn==i]['p'])"
   ]
  },
  {
   "cell_type": "code",
   "execution_count": 14,
   "metadata": {},
   "outputs": [
    {
     "name": "stdout",
     "output_type": "stream",
     "text": [
      "1.2846433962579518\n"
     ]
    }
   ],
   "source": [
    "mnmode=[]\n",
    "for i in range(10):\n",
    "    mnmode.append(np.linalg.norm((np.array(XX[ymn==i].mode().T[0])-np.array(XX[ymn!=i].mode().T[0]))))\n",
    "print(np.mean(mnmode))"
   ]
  },
  {
   "cell_type": "code",
   "execution_count": 15,
   "metadata": {},
   "outputs": [
    {
     "data": {
      "image/png": "[encoded data removed]",
      "text/plain": [
       "<Figure size 432x288 with 1 Axes>"
      ]
     },
     "metadata": {
      "needs_background": "light"
     },
     "output_type": "display_data"
    }
   ],
   "source": [
    "purchase_y=pd.DataFrame({\"y\":ymn,\"Purchase\":mean_mode_data[\"Purchase\"]})\n",
    "plt.scatter(purchase_y['y'],purchase_y['Purchase'])\n",
    "for i in range(10):\n",
    "    plt.scatter(i,purchase_y[purchase_y['y']==i].Purchase.mean(),c='r')"
   ]
  },
  {
   "cell_type": "code",
   "execution_count": 16,
   "metadata": {},
   "outputs": [
    {
     "data": {
      "image/png": "[encoded data removed]",
      "text/plain": [
       "<Figure size 432x288 with 1 Axes>"
      ]
     },
     "metadata": {
      "needs_background": "light"
     },
     "output_type": "display_data"
    }
   ],
   "source": [
    "purchase_y=pd.DataFrame({\"y\":ymn,\"Purchase\":mean_mode_data[\"times\"]})\n",
    "plt.scatter(purchase_y['y'],purchase_y['Purchase'])\n",
    "for i in range(10):\n",
    "    plt.scatter(i,purchase_y[purchase_y['y']==i].Purchase.mean(),c='r')"
   ]
  },
  {
   "cell_type": "markdown",
   "metadata": {},
   "source": [
    "## 3-3 Specific Model 3: ROCK Clustering by Changlin Jiang\n",
    "- After searching relavant paper dealing with discrete features clustering,we decide to implement a algorithm termed ROCK.  \n",
    "- The main idea is:  \n",
    "    - Compute the Jaccard score between 2 data points.Input a threshold theta such that if the Jaccard score is larger than the threshold,say these 2 points are neighbors (i.e. they have a Neighbor label which is originally 0 and can be set to 1 if their Jaccard score is larger than the threshold theta.)  \n",
    "    - Compute the Neighbor label of every 2 data,put them in a Neighbors Matrix A,A[i,j]=1 if point i and j are neighbors,A[i,j]=0 if not.\n",
    "    - Initialization:If note the number of data points with n,initialize the clusters with n clusters,each cluster includes only one data point.\n",
    "    - Gooodness:The goodness of 2 clusters $C_i$ and $C_j$ can be determined by: $$goodness=\\frac{link(C_i,C_j)}{(n1+n2)^{1+2f(\\theta)}-n1^{1+2f(\\theta)}-n2^{1+2f(\\theta)}}$$In this formula,link(Ci,Cj) is the total number of neighbors of the two clusters $C_i$ and $C_j$,$$f(\\theta)=\\frac{1-\\theta}{1+\\theta}$$is the penalty if the size of the cluster has got too many members.\n",
    "    - Compute goodness of every 2 different clusters,find the pair of clusters with the largest goodness.\n",
    "    - Process:Merge the two clusters into one clusters and loop the whole process untill converge or number of clusters is smaller than a wanted number."
   ]
  },
  {
   "cell_type": "code",
   "execution_count": 7,
   "metadata": {},
   "outputs": [
    {
     "name": "stdout",
     "output_type": "stream",
     "text": [
      "[[1 10 0 ... 0 3 2]\n",
      " [0 16 6 ... 0 1 4]\n",
      " [0 15 2 ... 0 1 3]\n",
      " ...\n",
      " [0 7 2 ... 1 5 1]\n",
      " [0 0 2 ... 0 10 1]\n",
      " [1 0 1 ... 1 11 3]]\n"
     ]
    }
   ],
   "source": [
    "X=np.array(X)\n",
    "X0=list(X[:,0])\n",
    "X2=list(X[:,2])\n",
    "X3=list(X[:,3])\n",
    "X6=list(X[:,6])\n",
    "\n",
    "X0=[0 if x=='M' else 1 for x in X0]\n",
    "\n",
    "X2=[0 if x=='0-17' else x for x in X2]\n",
    "X2=[1 if x=='18-25' else x for x in X2]\n",
    "X2=[2 if x=='26-35' else x for x in X2]\n",
    "X2=[3 if x=='36-45' else x for x in X2]\n",
    "X2=[4 if x=='46-50' else x for x in X2]\n",
    "X2=[5 if x=='51-55' else x for x in X2]\n",
    "X2=[6 if x=='55+' else x for x in X2]\n",
    "\n",
    "X3=[0 if x=='A' else x for x in X3]\n",
    "X3=[1 if x=='B' else x for x in X3]\n",
    "X3=[2 if x=='C' else x for x in X3]\n",
    "\n",
    "X6=[0 if x=='0' else x for x in X6]\n",
    "X6=[1 if x=='1' else x for x in X6]\n",
    "X6=[2 if x=='2' else x for x in X6]\n",
    "X6=[3 if x=='3' else x for x in X6]\n",
    "X6=[4 if x=='4+' else x for x in X6]\n",
    "\n",
    "X[:,0]=np.array(X0).T\n",
    "X[:,2]=np.array(X2).T\n",
    "X[:,3]=np.array(X3).T\n",
    "X[:,6]=np.array(X6).T\n",
    "\n",
    "X1=X[:300,:]\n",
    "print(X1)"
   ]
  },
  {
   "cell_type": "markdown",
   "metadata": {},
   "source": [
    "### Derive neighbors matrix A:"
   ]
  },
  {
   "cell_type": "code",
   "execution_count": 8,
   "metadata": {},
   "outputs": [
    {
     "name": "stdout",
     "output_type": "stream",
     "text": [
      "[[1 0 0 ... 0 0 0]\n",
      " [0 1 0 ... 0 0 0]\n",
      " [0 0 1 ... 0 0 0]\n",
      " ...\n",
      " [0 0 0 ... 1 0 0]\n",
      " [0 0 0 ... 0 1 0]\n",
      " [0 0 0 ... 0 0 1]]\n"
     ]
    }
   ],
   "source": [
    "def neighbors_matrix(data,theta):\n",
    "    m,n=np.shape(data)\n",
    "    A=np.zeros((m,m))\n",
    "    for i in range(m):\n",
    "        for j in range(m):\n",
    "            if jaccard_similarity_score(np.reshape(list(data[i,:]),-1),np.reshape(list(data[j,:]),-1))>=theta:\n",
    "                A[i,j]=1\n",
    "    return A.astype(int)\n",
    "\n",
    "A=neighbors_matrix(X1,0.5)\n",
    "print(A)"
   ]
  },
  {
   "cell_type": "markdown",
   "metadata": {},
   "source": [
    "### Compute the $link(C_i,C_j)$ of $C_i$ and $C_j$"
   ]
  },
  {
   "cell_type": "code",
   "execution_count": 30,
   "metadata": {},
   "outputs": [],
   "source": [
    "def link(A,c1,c2):\n",
    "    m,n=np.shape(A)\n",
    "    sum_=0\n",
    "    if isinstance(c1,int)==True:\n",
    "        n1=1\n",
    "    else:\n",
    "        n1=len(c1)\n",
    "    if isinstance(c2,int)==True:\n",
    "        n2=1\n",
    "    else:\n",
    "        n2=len(c2)\n",
    "    for i in range(n1):\n",
    "        for j in range(n2):\n",
    "            if isinstance(c1,int)==True:\n",
    "                k1=c1\n",
    "            else:\n",
    "                k1=c1[i]\n",
    "            if isinstance(c2,int)==True:\n",
    "                k2=c2\n",
    "            else:\n",
    "                k2=c2[j]\n",
    "            sum_+=A[k1,k2]\n",
    "    return sum_"
   ]
  },
  {
   "cell_type": "markdown",
   "metadata": {},
   "source": [
    "### Compute goodness of $C_i$ and $C_j$"
   ]
  },
  {
   "cell_type": "code",
   "execution_count": 10,
   "metadata": {},
   "outputs": [],
   "source": [
    "def goodness(A,c1,c2,theta):\n",
    "    if isinstance(c1,int)==True:\n",
    "        n1=1\n",
    "    else:\n",
    "        n1=len(c1)\n",
    "    if isinstance(c2,int)==True:\n",
    "        n2=1\n",
    "    else:\n",
    "        n2=len(c2)\n",
    "    ftheta=(1-theta)/(1+theta)\n",
    "    if c1==c2:\n",
    "        gm=0\n",
    "    else:\n",
    "        gm=link(A,c1,c2)/((n1+n2)**(1+2*ftheta)-n1**(1+2*ftheta)-n2**(1+2*ftheta))\n",
    "    return gm"
   ]
  },
  {
   "cell_type": "markdown",
   "metadata": {},
   "source": [
    "### Find the best pair"
   ]
  },
  {
   "cell_type": "code",
   "execution_count": 21,
   "metadata": {},
   "outputs": [],
   "source": [
    "def find_best_pair(A,clusters,theta):\n",
    "    maximum_goodness = 0.0;\n",
    "    cluster_indexes = [-1, -1];\n",
    "        \n",
    "    for i in range(0, len(clusters)):\n",
    "        for j in range(i + 1, len(clusters)):\n",
    "            gm = goodness(A,clusters[i], clusters[j],theta);\n",
    "            if (gm > maximum_goodness):\n",
    "                maximum_goodness = gm;\n",
    "                cluster_indexes = [i, j]\n",
    "        \n",
    "    return cluster_indexes;"
   ]
  },
  {
   "cell_type": "code",
   "execution_count": 24,
   "metadata": {},
   "outputs": [],
   "source": [
    "def merge(clusters,cluster_indexes):\n",
    "    if isinstance(clusters[cluster_indexes[0]],int)==True:\n",
    "        clusters[cluster_indexes[0]]=[clusters[cluster_indexes[0]]]\n",
    "    if isinstance(clusters[cluster_indexes[1]],int)==True:\n",
    "        clusters[cluster_indexes[1]]=[clusters[cluster_indexes[1]]]\n",
    "    clusters[cluster_indexes[0]].extend(clusters[cluster_indexes[1]])\n",
    "    clusters.pop(cluster_indexes[1])\n",
    "    \n",
    "    return clusters"
   ]
  },
  {
   "cell_type": "markdown",
   "metadata": {},
   "source": [
    "### Process and clustering result"
   ]
  },
  {
   "cell_type": "code",
   "execution_count": 29,
   "metadata": {},
   "outputs": [
    {
     "name": "stdout",
     "output_type": "stream",
     "text": [
      "Number of clusters<=10\n",
      "[[0, 18, 83, 190, 206, 48, 72, 96, 115, 149, 196, 5, 10, 36, 66, 197, 215, 103, 163, 192, 244, 272, 111, 135], [1, 13, 16, 24, 28, 49, 58, 63, 81, 82, 84, 97, 110, 114, 116, 117, 125, 139, 170, 177, 181, 184, 202, 221, 247, 251, 255, 274, 289, 175, 238, 278, 283, 91, 128, 140, 14, 218, 226, 257, 258, 80, 166, 223, 161, 267, 19, 252, 256, 159, 213, 70, 122, 185, 188, 195, 107, 2, 231, 55, 143, 118, 209, 266, 60, 210, 224, 74, 178, 38, 158, 89, 98, 127, 141, 241, 54, 8, 245, 240, 131, 187, 172, 263, 225, 295, 296, 37, 67, 65, 148, 198, 186, 234, 269, 292, 11, 237, 30, 87, 108, 271, 182, 168, 298, 20, 35, 132, 222, 230, 165, 205, 212, 219, 254, 40, 105, 208, 216, 138, 21, 33, 59, 153, 201, 193, 220, 43, 44, 104, 176, 273, 157, 293, 249, 53, 99, 156, 229, 261, 285], [3, 6, 12, 22, 41, 45, 100, 121, 126, 144, 145, 173, 279, 73, 90, 200, 243, 259, 265, 268, 294, 79, 112, 113, 130, 62, 207, 204, 277, 77, 102, 211, 253, 291, 57, 106, 286, 236, 250, 39, 92, 46, 235, 61, 194, 246, 297, 4, 7, 26, 120, 129, 137, 169, 232, 264, 287, 32, 124, 262, 203, 227, 78, 47, 147, 68, 86, 270, 134, 42, 69, 76, 85, 155, 123, 179, 189, 9, 15, 27, 75, 152, 34, 51, 151, 275, 88, 101, 214, 288, 142, 260, 23, 25, 239, 119, 146, 162, 191, 282], [17, 94, 136, 29, 31, 248, 281, 284, 50, 52, 171, 183, 242, 280, 160, 233], [56, 64, 167, 199], [71, 174], [93, 95, 133, 164, 109, 180], [150, 290], [154, 228], [217, 276, 299]]\n"
     ]
    }
   ],
   "source": [
    "clusters=list([i for i in range(300)])\n",
    "for i in range(len(clusters)-10):\n",
    "    new_clusters=merge(clusters,find_best_pair(A,clusters,0.5))\n",
    "    if len(new_clusters)<=10:\n",
    "        print(\"Number of clusters<=10\")\n",
    "        print(clusters)\n",
    "        break;\n",
    "    else:\n",
    "        clusters=new_clusters"
   ]
  },
  {
   "cell_type": "code",
   "execution_count": null,
   "metadata": {},
   "outputs": [],
   "source": []
  }
 ],
 "metadata": {
  "kernelspec": {
   "display_name": "Python 3",
   "language": "python",
   "name": "python3"
  },
  "language_info": {
   "codemirror_mode": {
    "name": "ipython",
    "version": 3
   },
   "file_extension": ".py",
   "mimetype": "text/x-python",
   "name": "python",
   "nbconvert_exporter": "python",
   "pygments_lexer": "ipython3",
   "version": "3.7.0"
  }
 },
 "nbformat": 4,
 "nbformat_minor": 2
}
