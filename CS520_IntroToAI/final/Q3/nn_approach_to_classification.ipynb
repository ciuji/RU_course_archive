{
 "cells": [
  {
   "cell_type": "code",
   "execution_count": 1,
   "metadata": {},
   "outputs": [],
   "source": [
    "import numpy as np\n",
    "import matplotlib.pyplot as plt\n",
    "from matplotlib import rcParams\n",
    "from scipy.stats import truncnorm"
   ]
  },
  {
   "cell_type": "code",
   "execution_count": 2,
   "metadata": {},
   "outputs": [],
   "source": [
    "\n",
    "pathA='ClassA.txt'\n",
    "pathB='ClassB.txt'\n",
    "pathM='Mystery.txt'\n",
    "\n",
    "def readFile(path):\n",
    "    class_list=[]\n",
    "    with open(path) as file:\n",
    "        for line in file:\n",
    "            newline=line.rstrip('\\n').split('\\t')\n",
    "            if newline!=['']*5:\n",
    "                class_list.append(newline)\n",
    "    return np.array(class_list).astype('int').reshape((5,5,5))\n",
    "\n",
    "cA=readFile(pathA)\n",
    "cB=readFile(pathB)\n",
    "cM=readFile(pathM)"
   ]
  },
  {
   "cell_type": "code",
   "execution_count": 3,
   "metadata": {},
   "outputs": [],
   "source": [
    "nn_train_A=cA.reshape((5,25))\n",
    "nn_train_B=cB.reshape((5,25))\n",
    "def sigmoid(x):\n",
    "    return 1 / (1 + np.e ** -x)\n",
    "activation_function = sigmoid\n",
    "def truncated_normal(mean=0, sd=1, low=0, upp=10):\n",
    "    return truncnorm(\n",
    "        (low - mean) / sd, (upp - mean) / sd, loc=mean, scale=sd)\n",
    "class NeuralNetwork:\n",
    "    def __init__(self, \n",
    "                 no_of_in_nodes, \n",
    "                 no_of_out_nodes, \n",
    "                 no_of_hidden_nodes,\n",
    "                 learning_rate,\n",
    "                ):  \n",
    "        self.no_of_in_nodes = no_of_in_nodes\n",
    "        self.no_of_out_nodes = no_of_out_nodes\n",
    "        \n",
    "        self.no_of_hidden_nodes = no_of_hidden_nodes\n",
    "        self.error=1\n",
    "        self.learning_rate = learning_rate \n",
    "        self.create_weight_matrices()    \n",
    "        \n",
    "    \n",
    "    def create_weight_matrices(self):  \n",
    "        rad = 1 / np.sqrt(self.no_of_in_nodes )\n",
    "        X = truncated_normal(mean=0, sd=1, low=-rad, upp=rad)\n",
    "        self.weights_in_hidden = X.rvs((self.no_of_hidden_nodes, \n",
    "                                       self.no_of_in_nodes ))\n",
    "        rad = 1 / np.sqrt(self.no_of_hidden_nodes )\n",
    "        X = truncated_normal(mean=0, sd=1, low=-rad, upp=rad)\n",
    "        self.weights_hidden_out = X.rvs((self.no_of_out_nodes, \n",
    "                                        self.no_of_hidden_nodes ))\n",
    "    \n",
    "        \n",
    "    def train(self, input_vector, target_vector):                                    \n",
    "            \n",
    "        input_vector = np.array(input_vector, ndmin=2).T\n",
    "        target_vector = np.array(target_vector, ndmin=2).T\n",
    "        \n",
    "        output_vector1 = np.dot(self.weights_in_hidden, input_vector)\n",
    "        output_vector_hidden = activation_function(output_vector1)        \n",
    "        output_vector2 = np.dot(self.weights_hidden_out, output_vector_hidden)\n",
    "        output_vector_network = activation_function(output_vector2)\n",
    "        output_errors = target_vector -  output_vector_network\n",
    "        self.error=abs(min(output_errors,self.error))\n",
    "\n",
    "        tmp = output_errors * (1.0 - output_vector_network)     \n",
    "        tmp = self.learning_rate  * np.dot(tmp, output_vector_hidden.T)\n",
    "        self.weights_hidden_out += tmp\n",
    "        hidden_errors = np.dot(self.weights_hidden_out.T, output_errors)\n",
    " \n",
    "        tmp = hidden_errors * (1- output_vector_hidden**2)\n",
    "        x = np.dot(tmp, input_vector.T)\n",
    "        self.weights_in_hidden += self.learning_rate * x        \n",
    "    \n",
    "    def run(self, input_vector):\n",
    "        \n",
    "        input_vector = np.array(input_vector, ndmin=2).T\n",
    "        output_vector = np.dot(self.weights_in_hidden, input_vector)\n",
    "        output_vector = activation_function(output_vector)\n",
    "        \n",
    "            \n",
    "        output_vector = np.dot(self.weights_hidden_out, output_vector)\n",
    "        output_vector = activation_function(output_vector)\n",
    "    \n",
    "        self.predict=output_vector\n",
    "        return ('class B' if output_vector >=0.5 else  'class A')"
   ]
  },
  {
   "cell_type": "code",
   "execution_count": 5,
   "metadata": {},
   "outputs": [
    {
     "name": "stdout",
     "output_type": "stream",
     "text": [
      "iteration: 125\n",
      "class B\n",
      "[[0.8448758]]\n",
      "class A\n",
      "[[0.25216543]]\n",
      "class B\n",
      "[[0.96522606]]\n",
      "class A\n",
      "[[0.36201369]]\n",
      "class B\n",
      "[[0.76178129]]\n"
     ]
    }
   ],
   "source": [
    "nn=NeuralNetwork(25,1,15,0.1)\n",
    "for _ in range(1000):\n",
    "    for i in range(5):\n",
    "        nn.train(nn_train_A[i],0)\n",
    "        nn.train(nn_train_B[i],1)\n",
    "    if(nn.error<0.01):\n",
    "        print('iteration:',_)\n",
    "        break\n",
    "\n",
    "for i in range(5):\n",
    "    print(nn.run(cM[i].flatten()))\n",
    "    print(nn.predict)"
   ]
  }
 ],
 "metadata": {
  "kernelspec": {
   "display_name": "Python 3",
   "language": "python",
   "name": "python3"
  },
  "language_info": {
   "codemirror_mode": {
    "name": "ipython",
    "version": 3
   },
   "file_extension": ".py",
   "mimetype": "text/x-python",
   "name": "python",
   "nbconvert_exporter": "python",
   "pygments_lexer": "ipython3",
   "version": "3.7.1"
  }
 },
 "nbformat": 4,
 "nbformat_minor": 2
}
